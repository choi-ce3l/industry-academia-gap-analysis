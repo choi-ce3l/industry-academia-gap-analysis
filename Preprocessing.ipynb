{
 "cells": [
  {
   "metadata": {},
   "cell_type": "markdown",
   "source": "# 2025.07.15 추가 전처리",
   "id": "1f5a3f6e10b627c"
  },
  {
   "metadata": {
    "ExecuteTime": {
     "end_time": "2025-07-15T06:10:32.359633Z",
     "start_time": "2025-07-15T06:10:31.889741Z"
    }
   },
   "cell_type": "code",
   "source": [
    "import pandas as pd\n",
    "\n",
    "# 1) CSV 파일 로드\n",
    "df_cnn = pd.read_csv('data/CNN.csv')\n",
    "df_bbc = pd.read_csv('data/BBC.csv')"
   ],
   "id": "950007eb0358a401",
   "outputs": [],
   "execution_count": 1
  },
  {
   "metadata": {
    "ExecuteTime": {
     "end_time": "2025-07-15T06:10:32.375573Z",
     "start_time": "2025-07-15T06:10:32.368958Z"
    }
   },
   "cell_type": "code",
   "source": "df_cnn.info()",
   "id": "2e92e0a66619259b",
   "outputs": [
    {
     "name": "stdout",
     "output_type": "stream",
     "text": [
      "<class 'pandas.core.frame.DataFrame'>\n",
      "RangeIndex: 532 entries, 0 to 531\n",
      "Data columns (total 7 columns):\n",
      " #   Column           Non-Null Count  Dtype \n",
      "---  ------           --------------  ----- \n",
      " 0   search_headline  532 non-null    object\n",
      " 1   url              532 non-null    object\n",
      " 2   title            532 non-null    object\n",
      " 3   authors          151 non-null    object\n",
      " 4   year             532 non-null    object\n",
      " 5   content          532 non-null    object\n",
      " 6   date             532 non-null    int64 \n",
      "dtypes: int64(1), object(6)\n",
      "memory usage: 29.2+ KB\n"
     ]
    }
   ],
   "execution_count": 2
  },
  {
   "metadata": {
    "ExecuteTime": {
     "end_time": "2025-07-15T06:10:32.677327Z",
     "start_time": "2025-07-15T06:10:32.668975Z"
    }
   },
   "cell_type": "code",
   "source": "df_bbc.head()",
   "id": "8277e26c6622e24a",
   "outputs": [
    {
     "data": {
      "text/plain": [
       "                                               title       date  \\\n",
       "0           Why mature dating apps are coming of age  01-Jan-20   \n",
       "1  AI 'outperforms' doctors diagnosing breast cancer  02-Jan-20   \n",
       "2  'Outdated' IT leaves NHS staff with 15 differe...  04-Jan-20   \n",
       "3  CES 2020: Preview of tomorrow's tech on show i...  04-Jan-20   \n",
       "4                   Tech Tent - tech trends for 2020  04-Jan-20   \n",
       "\n",
       "                                             content  \\\n",
       "0  Is your new year's resolution to find true lov...   \n",
       "1  Artificial intelligence is more accurate than ...   \n",
       "2  IT systems in the NHS are so outdated that sta...   \n",
       "3  How much tech can you take? Next week aims to ...   \n",
       "4  Will we start the journey to a better, kinder ...   \n",
       "\n",
       "                                            url Unnamed: 4 Unnamed: 5  \\\n",
       "0    https://www.bbc.com/news/business-50407218        NaN        NaN   \n",
       "1      https://www.bbc.com/news/health-50857759        NaN        NaN   \n",
       "2      https://www.bbc.com/news/health-50972123        NaN        NaN   \n",
       "3  https://www.bbc.com/news/technology-50952021        NaN        NaN   \n",
       "4  https://www.bbc.com/news/technology-50987534        NaN        NaN   \n",
       "\n",
       "  Unnamed: 6 Unnamed: 7 Unnamed: 8 Unnamed: 9 Unnamed: 10 Unnamed: 11  \\\n",
       "0        NaN        NaN        NaN        NaN         NaN         NaN   \n",
       "1        NaN        NaN        NaN        NaN         NaN         NaN   \n",
       "2        NaN        NaN        NaN        NaN         NaN         NaN   \n",
       "3        NaN        NaN        NaN        NaN         NaN         NaN   \n",
       "4        NaN        NaN        NaN        NaN         NaN         NaN   \n",
       "\n",
       "  Unnamed: 12 Unnamed: 13 Unnamed: 14  \n",
       "0         NaN         NaN         NaN  \n",
       "1         NaN         NaN         NaN  \n",
       "2         NaN         NaN         NaN  \n",
       "3         NaN         NaN         NaN  \n",
       "4         NaN         NaN         NaN  "
      ],
      "text/html": [
       "<div>\n",
       "<style scoped>\n",
       "    .dataframe tbody tr th:only-of-type {\n",
       "        vertical-align: middle;\n",
       "    }\n",
       "\n",
       "    .dataframe tbody tr th {\n",
       "        vertical-align: top;\n",
       "    }\n",
       "\n",
       "    .dataframe thead th {\n",
       "        text-align: right;\n",
       "    }\n",
       "</style>\n",
       "<table border=\"1\" class=\"dataframe\">\n",
       "  <thead>\n",
       "    <tr style=\"text-align: right;\">\n",
       "      <th></th>\n",
       "      <th>title</th>\n",
       "      <th>date</th>\n",
       "      <th>content</th>\n",
       "      <th>url</th>\n",
       "      <th>Unnamed: 4</th>\n",
       "      <th>Unnamed: 5</th>\n",
       "      <th>Unnamed: 6</th>\n",
       "      <th>Unnamed: 7</th>\n",
       "      <th>Unnamed: 8</th>\n",
       "      <th>Unnamed: 9</th>\n",
       "      <th>Unnamed: 10</th>\n",
       "      <th>Unnamed: 11</th>\n",
       "      <th>Unnamed: 12</th>\n",
       "      <th>Unnamed: 13</th>\n",
       "      <th>Unnamed: 14</th>\n",
       "    </tr>\n",
       "  </thead>\n",
       "  <tbody>\n",
       "    <tr>\n",
       "      <th>0</th>\n",
       "      <td>Why mature dating apps are coming of age</td>\n",
       "      <td>01-Jan-20</td>\n",
       "      <td>Is your new year's resolution to find true lov...</td>\n",
       "      <td>https://www.bbc.com/news/business-50407218</td>\n",
       "      <td>NaN</td>\n",
       "      <td>NaN</td>\n",
       "      <td>NaN</td>\n",
       "      <td>NaN</td>\n",
       "      <td>NaN</td>\n",
       "      <td>NaN</td>\n",
       "      <td>NaN</td>\n",
       "      <td>NaN</td>\n",
       "      <td>NaN</td>\n",
       "      <td>NaN</td>\n",
       "      <td>NaN</td>\n",
       "    </tr>\n",
       "    <tr>\n",
       "      <th>1</th>\n",
       "      <td>AI 'outperforms' doctors diagnosing breast cancer</td>\n",
       "      <td>02-Jan-20</td>\n",
       "      <td>Artificial intelligence is more accurate than ...</td>\n",
       "      <td>https://www.bbc.com/news/health-50857759</td>\n",
       "      <td>NaN</td>\n",
       "      <td>NaN</td>\n",
       "      <td>NaN</td>\n",
       "      <td>NaN</td>\n",
       "      <td>NaN</td>\n",
       "      <td>NaN</td>\n",
       "      <td>NaN</td>\n",
       "      <td>NaN</td>\n",
       "      <td>NaN</td>\n",
       "      <td>NaN</td>\n",
       "      <td>NaN</td>\n",
       "    </tr>\n",
       "    <tr>\n",
       "      <th>2</th>\n",
       "      <td>'Outdated' IT leaves NHS staff with 15 differe...</td>\n",
       "      <td>04-Jan-20</td>\n",
       "      <td>IT systems in the NHS are so outdated that sta...</td>\n",
       "      <td>https://www.bbc.com/news/health-50972123</td>\n",
       "      <td>NaN</td>\n",
       "      <td>NaN</td>\n",
       "      <td>NaN</td>\n",
       "      <td>NaN</td>\n",
       "      <td>NaN</td>\n",
       "      <td>NaN</td>\n",
       "      <td>NaN</td>\n",
       "      <td>NaN</td>\n",
       "      <td>NaN</td>\n",
       "      <td>NaN</td>\n",
       "      <td>NaN</td>\n",
       "    </tr>\n",
       "    <tr>\n",
       "      <th>3</th>\n",
       "      <td>CES 2020: Preview of tomorrow's tech on show i...</td>\n",
       "      <td>04-Jan-20</td>\n",
       "      <td>How much tech can you take? Next week aims to ...</td>\n",
       "      <td>https://www.bbc.com/news/technology-50952021</td>\n",
       "      <td>NaN</td>\n",
       "      <td>NaN</td>\n",
       "      <td>NaN</td>\n",
       "      <td>NaN</td>\n",
       "      <td>NaN</td>\n",
       "      <td>NaN</td>\n",
       "      <td>NaN</td>\n",
       "      <td>NaN</td>\n",
       "      <td>NaN</td>\n",
       "      <td>NaN</td>\n",
       "      <td>NaN</td>\n",
       "    </tr>\n",
       "    <tr>\n",
       "      <th>4</th>\n",
       "      <td>Tech Tent - tech trends for 2020</td>\n",
       "      <td>04-Jan-20</td>\n",
       "      <td>Will we start the journey to a better, kinder ...</td>\n",
       "      <td>https://www.bbc.com/news/technology-50987534</td>\n",
       "      <td>NaN</td>\n",
       "      <td>NaN</td>\n",
       "      <td>NaN</td>\n",
       "      <td>NaN</td>\n",
       "      <td>NaN</td>\n",
       "      <td>NaN</td>\n",
       "      <td>NaN</td>\n",
       "      <td>NaN</td>\n",
       "      <td>NaN</td>\n",
       "      <td>NaN</td>\n",
       "      <td>NaN</td>\n",
       "    </tr>\n",
       "  </tbody>\n",
       "</table>\n",
       "</div>"
      ]
     },
     "execution_count": 3,
     "metadata": {},
     "output_type": "execute_result"
    }
   ],
   "execution_count": 3
  },
  {
   "metadata": {
    "ExecuteTime": {
     "end_time": "2025-07-15T06:10:35.037093Z",
     "start_time": "2025-07-15T06:10:35.020810Z"
    }
   },
   "cell_type": "code",
   "source": [
    "\n",
    "# 2) 사용할 칼럼만 남기기\n",
    "keep_cols = ['title', 'content', 'date']\n",
    "df_cnn = df_cnn[keep_cols].copy()\n",
    "df_bbc = df_bbc[keep_cols].copy()\n",
    "\n",
    "# 3) date → 연도만 남기기\n",
    "# 1) datetime으로 파싱 (day-month_abbrev-two_digit_year)\n",
    "df_bbc['date'] = pd.to_datetime(df_bbc['date'], format='%d-%b-%y', errors='coerce')\n",
    "\n",
    "# 2) 연도만 추출\n",
    "df_bbc['date'] = df_bbc['date'].dt.year\n",
    "\n",
    "# 4) affiliation 컬럼 추가\n",
    "df_cnn['affiliations'] = 'CNN'\n",
    "df_bbc['affiliations'] = 'BBC'\n",
    "\n",
    "# 5) 두 데이터 합치기\n",
    "df_all = pd.concat([df_cnn, df_bbc], ignore_index=True)\n",
    "\n",
    "# 7) 결과 확인\n",
    "print(df_all.columns)\n",
    "print(df_all.head())"
   ],
   "id": "5addf22ac92af608",
   "outputs": [
    {
     "name": "stdout",
     "output_type": "stream",
     "text": [
      "Index(['title', 'content', 'date', 'affiliations'], dtype='object')\n",
      "                                               title  \\\n",
      "0  Microsoft, OpenAI and Anthropic are investing ...   \n",
      "1  Here’s how Character.AI’s new CEO plans to add...   \n",
      "2  Will a dice-playing robot eventually make you ...   \n",
      "3  Elon Musk isn’t happy with his AI chatbot. Exp...   \n",
      "4  State regulator: Proposed 10-year moratorium o...   \n",
      "\n",
      "                                             content    date affiliations  \n",
      "0  A group of leading tech companies is teaming u...  2025.0          CNN  \n",
      "1  When Karandeep Anand’s 5-year-old daughter get...  2025.0          CNN  \n",
      "2  AlphaBot 2 wants to beat humans at their own g...  2025.0          CNN  \n",
      "3  Last week, Grok, the chatbot from Elon Musk’s ...  2025.0          CNN  \n",
      "4  A measure tucked in President Donald Trump’s s...  2025.0          CNN  \n"
     ]
    }
   ],
   "execution_count": 4
  },
  {
   "metadata": {
    "ExecuteTime": {
     "end_time": "2025-07-15T06:10:35.834217Z",
     "start_time": "2025-07-15T06:10:35.827091Z"
    }
   },
   "cell_type": "code",
   "source": "df_all.info()",
   "id": "efdd47701c4a5682",
   "outputs": [
    {
     "name": "stdout",
     "output_type": "stream",
     "text": [
      "<class 'pandas.core.frame.DataFrame'>\n",
      "RangeIndex: 3075 entries, 0 to 3074\n",
      "Data columns (total 4 columns):\n",
      " #   Column        Non-Null Count  Dtype  \n",
      "---  ------        --------------  -----  \n",
      " 0   title         3075 non-null   object \n",
      " 1   content       3062 non-null   object \n",
      " 2   date          3074 non-null   float64\n",
      " 3   affiliations  3075 non-null   object \n",
      "dtypes: float64(1), object(3)\n",
      "memory usage: 96.2+ KB\n"
     ]
    }
   ],
   "execution_count": 5
  },
  {
   "metadata": {
    "ExecuteTime": {
     "end_time": "2025-07-15T06:10:36.604404Z",
     "start_time": "2025-07-15T06:10:36.542110Z"
    }
   },
   "cell_type": "code",
   "source": [
    "import pandas as pd\n",
    "\n",
    "# 예: 이미 df_all 이라는 DataFrame이 준비됐다고 가정\n",
    "df = df_all.copy()\n",
    "\n",
    "# 1) title, content, date 중 null이 하나라도 있는 행 제거\n",
    "df = df.dropna(subset=['title', 'content', 'date'])\n",
    "\n",
    "# 2) title, content, date 가 모두 같은 중복 행 제거 (첫 번째만 유지)\n",
    "df = df.drop_duplicates(subset=['title', 'content', 'date'], keep='first')\n",
    "\n",
    "# 3) 인덱스 재정렬 (옵션)\n",
    "df = df.reset_index(drop=True)\n",
    "\n",
    "# 결과 확인\n",
    "print(df.shape)\n",
    "print(df.head())"
   ],
   "id": "ccb0541c8bf4d2dc",
   "outputs": [
    {
     "name": "stdout",
     "output_type": "stream",
     "text": [
      "(2749, 4)\n",
      "                                               title  \\\n",
      "0  Microsoft, OpenAI and Anthropic are investing ...   \n",
      "1  Here’s how Character.AI’s new CEO plans to add...   \n",
      "2  Will a dice-playing robot eventually make you ...   \n",
      "3  Elon Musk isn’t happy with his AI chatbot. Exp...   \n",
      "4  State regulator: Proposed 10-year moratorium o...   \n",
      "\n",
      "                                             content    date affiliations  \n",
      "0  A group of leading tech companies is teaming u...  2025.0          CNN  \n",
      "1  When Karandeep Anand’s 5-year-old daughter get...  2025.0          CNN  \n",
      "2  AlphaBot 2 wants to beat humans at their own g...  2025.0          CNN  \n",
      "3  Last week, Grok, the chatbot from Elon Musk’s ...  2025.0          CNN  \n",
      "4  A measure tucked in President Donald Trump’s s...  2025.0          CNN  \n"
     ]
    }
   ],
   "execution_count": 6
  },
  {
   "metadata": {
    "ExecuteTime": {
     "end_time": "2025-07-15T06:10:39.056360Z",
     "start_time": "2025-07-15T06:10:38.923841Z"
    }
   },
   "cell_type": "code",
   "source": "df.to_csv('data/additional.csv', index=False, encoding='utf-8')",
   "id": "5f3a3480a5f47cf0",
   "outputs": [],
   "execution_count": 7
  },
  {
   "metadata": {
    "ExecuteTime": {
     "end_time": "2025-07-15T06:10:39.913196Z",
     "start_time": "2025-07-15T06:10:39.509941Z"
    }
   },
   "cell_type": "code",
   "source": [
    "import pandas as pd\n",
    "\n",
    "df=pd.read_csv('data/02_article_2020_2025.csv')\n",
    "add=pd.read_csv('data/additional.csv')\n",
    "add.info()"
   ],
   "id": "763e2e670aaaa67",
   "outputs": [
    {
     "name": "stdout",
     "output_type": "stream",
     "text": [
      "<class 'pandas.core.frame.DataFrame'>\n",
      "RangeIndex: 2749 entries, 0 to 2748\n",
      "Data columns (total 4 columns):\n",
      " #   Column        Non-Null Count  Dtype  \n",
      "---  ------        --------------  -----  \n",
      " 0   title         2749 non-null   object \n",
      " 1   content       2749 non-null   object \n",
      " 2   date          2749 non-null   float64\n",
      " 3   affiliations  2749 non-null   object \n",
      "dtypes: float64(1), object(3)\n",
      "memory usage: 86.0+ KB\n"
     ]
    }
   ],
   "execution_count": 8
  },
  {
   "metadata": {
    "ExecuteTime": {
     "end_time": "2025-07-15T06:10:40.834315Z",
     "start_time": "2025-07-15T06:10:40.824191Z"
    }
   },
   "cell_type": "code",
   "source": "df.info()",
   "id": "3c23c72a13fc0c7b",
   "outputs": [
    {
     "name": "stdout",
     "output_type": "stream",
     "text": [
      "<class 'pandas.core.frame.DataFrame'>\n",
      "RangeIndex: 7604 entries, 0 to 7603\n",
      "Data columns (total 5 columns):\n",
      " #   Column        Non-Null Count  Dtype \n",
      "---  ------        --------------  ----- \n",
      " 0   title         7604 non-null   object\n",
      " 1   date          7604 non-null   int64 \n",
      " 2   content       7604 non-null   object\n",
      " 3   keywords      7604 non-null   object\n",
      " 4   affiliations  7604 non-null   object\n",
      "dtypes: int64(1), object(4)\n",
      "memory usage: 297.2+ KB\n"
     ]
    }
   ],
   "execution_count": 9
  },
  {
   "metadata": {
    "ExecuteTime": {
     "end_time": "2025-07-15T06:10:42.182219Z",
     "start_time": "2025-07-15T06:10:42.168357Z"
    }
   },
   "cell_type": "code",
   "source": [
    "df=pd.concat([df, add], ignore_index=True)\n",
    "df.info()"
   ],
   "id": "7a5cafe3fdad21bf",
   "outputs": [
    {
     "name": "stdout",
     "output_type": "stream",
     "text": [
      "<class 'pandas.core.frame.DataFrame'>\n",
      "RangeIndex: 10353 entries, 0 to 10352\n",
      "Data columns (total 5 columns):\n",
      " #   Column        Non-Null Count  Dtype  \n",
      "---  ------        --------------  -----  \n",
      " 0   title         10353 non-null  object \n",
      " 1   date          10353 non-null  float64\n",
      " 2   content       10353 non-null  object \n",
      " 3   keywords      7604 non-null   object \n",
      " 4   affiliations  10353 non-null  object \n",
      "dtypes: float64(1), object(4)\n",
      "memory usage: 404.5+ KB\n"
     ]
    }
   ],
   "execution_count": 10
  },
  {
   "metadata": {
    "ExecuteTime": {
     "end_time": "2025-07-15T06:11:03.449751Z",
     "start_time": "2025-07-15T06:11:02.899792Z"
    }
   },
   "cell_type": "code",
   "source": "df.to_csv('data/03_article_2020_2025.csv', index=False, encoding='utf-8')",
   "id": "8ec9949381f6c248",
   "outputs": [],
   "execution_count": 11
  },
  {
   "metadata": {},
   "cell_type": "markdown",
   "source": [
    "# 2025.07.18 추가 수집 및 전처리\n",
    "# wallstreet, nyt preprocesiing"
   ],
   "id": "ea762ed8c10e2d44"
  },
  {
   "metadata": {
    "ExecuteTime": {
     "end_time": "2025-07-19T08:30:42.081028Z",
     "start_time": "2025-07-19T08:30:41.966519Z"
    }
   },
   "cell_type": "code",
   "source": [
    "import pandas as pd\n",
    "wall=pd.read_csv('data/wallstreet_content.csv')\n",
    "nyt=pd.read_csv('data/nyt_content.csv')"
   ],
   "id": "c97fef61ff14320c",
   "outputs": [],
   "execution_count": 21
  },
  {
   "metadata": {
    "ExecuteTime": {
     "end_time": "2025-07-19T08:30:42.769734Z",
     "start_time": "2025-07-19T08:30:42.760301Z"
    }
   },
   "cell_type": "code",
   "source": "wall.info()",
   "id": "b7fa6fbb34d22052",
   "outputs": [
    {
     "name": "stdout",
     "output_type": "stream",
     "text": [
      "<class 'pandas.core.frame.DataFrame'>\n",
      "RangeIndex: 1593 entries, 0 to 1592\n",
      "Data columns (total 5 columns):\n",
      " #   Column   Non-Null Count  Dtype \n",
      "---  ------   --------------  ----- \n",
      " 0   title    1593 non-null   object\n",
      " 1   link     1593 non-null   object\n",
      " 2   date     962 non-null    object\n",
      " 3   media    962 non-null    object\n",
      " 4   content  962 non-null    object\n",
      "dtypes: object(5)\n",
      "memory usage: 62.4+ KB\n"
     ]
    }
   ],
   "execution_count": 22
  },
  {
   "metadata": {
    "ExecuteTime": {
     "end_time": "2025-07-19T08:30:44.224396Z",
     "start_time": "2025-07-19T08:30:44.217838Z"
    }
   },
   "cell_type": "code",
   "source": "nyt.info()",
   "id": "777dfb42267437a3",
   "outputs": [
    {
     "name": "stdout",
     "output_type": "stream",
     "text": [
      "<class 'pandas.core.frame.DataFrame'>\n",
      "RangeIndex: 2780 entries, 0 to 2779\n",
      "Data columns (total 5 columns):\n",
      " #   Column   Non-Null Count  Dtype \n",
      "---  ------   --------------  ----- \n",
      " 0   title    2780 non-null   object\n",
      " 1   link     2780 non-null   object\n",
      " 2   date     858 non-null    object\n",
      " 3   media    858 non-null    object\n",
      " 4   content  770 non-null    object\n",
      "dtypes: object(5)\n",
      "memory usage: 108.7+ KB\n"
     ]
    }
   ],
   "execution_count": 23
  },
  {
   "metadata": {
    "ExecuteTime": {
     "end_time": "2025-07-19T08:30:53.253632Z",
     "start_time": "2025-07-19T08:30:53.200077Z"
    }
   },
   "cell_type": "code",
   "source": [
    "import re\n",
    "\n",
    "# 2) 사용할 칼럼만 남기기\n",
    "keep_cols = ['title', 'content', 'date','media']\n",
    "wall = wall[keep_cols].copy()\n",
    "nyt = nyt[keep_cols].copy()\n",
    "\n",
    "# 5) 두 데이터 합치기\n",
    "df_all = pd.concat([wall, nyt], ignore_index=True)\n",
    "\n",
    "df_all=df_all.rename(columns={'media': 'affiliations'})\n",
    "\n",
    "# date 컬럼에서 연도만 추출\n",
    "df_all['date'] = df_all['date'].astype(str).apply(lambda x: re.search(r'\\b(19|20)\\d{2}\\b', x).group() if re.search(r'\\b(19|20)\\d{2}\\b', x) else '')\n",
    "\n",
    "# 7) 결과 확인\n",
    "print(df_all.columns)\n",
    "print(df_all.info())"
   ],
   "id": "2214212646695fea",
   "outputs": [
    {
     "name": "stdout",
     "output_type": "stream",
     "text": [
      "Index(['title', 'content', 'date', 'affiliations'], dtype='object')\n",
      "                                               title  \\\n",
      "0  ArtificialIntelligence(A Special Report) --- H...   \n",
      "1  ArtificialIntelligence(A Special Report) --- T...   \n",
      "2  ArtificialIntelligence(A Special Report) --- F...   \n",
      "3  Crunchbase UsesArtificialIntelligenceTo Predic...   \n",
      "4  On the Clock: Bosses' Mental Fitness Set for A...   \n",
      "\n",
      "                                             content  date  \\\n",
      "0  The current generation of college students is ...  2024   \n",
      "1  ChatGPT is barely two years old. And yet it's ...  2024   \n",
      "2  The race for AI dominance launched a stampede ...  2025   \n",
      "3  Crunchbase, the firm best known for its startu...  2025   \n",
      "4  Bosses already live in fear that a verbal miss...  2024   \n",
      "\n",
      "          affiliations  \n",
      "0  Wall Street Journal  \n",
      "1  Wall Street Journal  \n",
      "2  Wall Street Journal  \n",
      "3  Wall Street Journal  \n",
      "4  Wall Street Journal  \n"
     ]
    }
   ],
   "execution_count": 24
  },
  {
   "metadata": {
    "ExecuteTime": {
     "end_time": "2025-07-19T08:31:04.060318Z",
     "start_time": "2025-07-19T08:31:04.001293Z"
    }
   },
   "cell_type": "code",
   "source": [
    "import pandas as pd\n",
    "\n",
    "# 예: 이미 df_all 이라는 DataFrame이 준비됐다고 가정\n",
    "df = df_all.copy()\n",
    "\n",
    "# 1) title, content, date 중 null이 하나라도 있는 행 제거\n",
    "df = df.dropna(subset=['title', 'content', 'date'])\n",
    "\n",
    "# 2) title, content, date 가 모두 같은 중복 행 제거 (첫 번째만 유지)\n",
    "df = df.drop_duplicates(subset=['title', 'content', 'date'], keep='first')\n",
    "\n",
    "# 3) 인덱스 재정렬 (옵션)\n",
    "df = df.reset_index(drop=True)\n",
    "\n",
    "# 결과 확인\n",
    "print(df.shape)\n",
    "print(df.head())"
   ],
   "id": "e8cc2ae16b3913de",
   "outputs": [
    {
     "name": "stdout",
     "output_type": "stream",
     "text": [
      "(1731, 4)\n",
      "                                               title  \\\n",
      "0  ArtificialIntelligence(A Special Report) --- H...   \n",
      "1  ArtificialIntelligence(A Special Report) --- T...   \n",
      "2  ArtificialIntelligence(A Special Report) --- F...   \n",
      "3  Crunchbase UsesArtificialIntelligenceTo Predic...   \n",
      "4  On the Clock: Bosses' Mental Fitness Set for A...   \n",
      "\n",
      "                                             content  date  \\\n",
      "0  The current generation of college students is ...  2024   \n",
      "1  ChatGPT is barely two years old. And yet it's ...  2024   \n",
      "2  The race for AI dominance launched a stampede ...  2025   \n",
      "3  Crunchbase, the firm best known for its startu...  2025   \n",
      "4  Bosses already live in fear that a verbal miss...  2024   \n",
      "\n",
      "          affiliations  \n",
      "0  Wall Street Journal  \n",
      "1  Wall Street Journal  \n",
      "2  Wall Street Journal  \n",
      "3  Wall Street Journal  \n",
      "4  Wall Street Journal  \n"
     ]
    }
   ],
   "execution_count": 25
  },
  {
   "metadata": {
    "ExecuteTime": {
     "end_time": "2025-07-19T08:31:05.872369Z",
     "start_time": "2025-07-19T08:31:05.751122Z"
    }
   },
   "cell_type": "code",
   "source": "df.to_csv('data/additional_nyt_wall.csv', index=False, encoding='utf-8')",
   "id": "ff0bc1f84e714c02",
   "outputs": [],
   "execution_count": 26
  },
  {
   "metadata": {},
   "cell_type": "markdown",
   "source": "# 이전 데이터 까보기",
   "id": "c2973a4887ecbbad"
  },
  {
   "metadata": {
    "ExecuteTime": {
     "end_time": "2025-07-19T08:31:08.195381Z",
     "start_time": "2025-07-19T08:31:07.666679Z"
    }
   },
   "cell_type": "code",
   "source": [
    "import pandas as pd\n",
    "df=pd.read_csv('data/industry_dataset(the verge, techcrunch, bbc, cnn, the guardian).csv')\n",
    "df.info()"
   ],
   "id": "28872a98cc328f41",
   "outputs": [
    {
     "name": "stdout",
     "output_type": "stream",
     "text": [
      "<class 'pandas.core.frame.DataFrame'>\n",
      "RangeIndex: 12301 entries, 0 to 12300\n",
      "Data columns (total 5 columns):\n",
      " #   Column        Non-Null Count  Dtype  \n",
      "---  ------        --------------  -----  \n",
      " 0   title         12301 non-null  object \n",
      " 1   date          12301 non-null  float64\n",
      " 2   content       12301 non-null  object \n",
      " 3   affiliations  12301 non-null  object \n",
      " 4   keywords      7604 non-null   object \n",
      "dtypes: float64(1), object(4)\n",
      "memory usage: 480.6+ KB\n"
     ]
    }
   ],
   "execution_count": 27
  },
  {
   "metadata": {
    "ExecuteTime": {
     "end_time": "2025-07-19T08:31:14.468333Z",
     "start_time": "2025-07-19T08:31:14.357397Z"
    }
   },
   "cell_type": "code",
   "source": [
    "df2=pd.read_csv('data/additional_nyt_wall.csv')\n",
    "df_all=pd.concat([df2, df], ignore_index=True)"
   ],
   "id": "59d7a35f69c57cbf",
   "outputs": [],
   "execution_count": 28
  },
  {
   "metadata": {
    "ExecuteTime": {
     "end_time": "2025-07-19T08:31:34.549785Z",
     "start_time": "2025-07-19T08:31:34.533148Z"
    }
   },
   "cell_type": "code",
   "source": "print(df_all.value_counts(subset='date'))",
   "id": "c3fd3be87f909eb4",
   "outputs": [
    {
     "name": "stdout",
     "output_type": "stream",
     "text": [
      "date\n",
      "2024.0    4471\n",
      "2023.0    3604\n",
      "2025.0    3597\n",
      "2022.0     823\n",
      "2021.0     776\n",
      "2020.0     761\n",
      "Name: count, dtype: int64\n"
     ]
    }
   ],
   "execution_count": 29
  },
  {
   "metadata": {
    "ExecuteTime": {
     "end_time": "2025-07-19T08:31:36.677754Z",
     "start_time": "2025-07-19T08:31:36.627687Z"
    }
   },
   "cell_type": "code",
   "source": "df_all.info()",
   "id": "4060934b15dbb654",
   "outputs": [
    {
     "name": "stdout",
     "output_type": "stream",
     "text": [
      "<class 'pandas.core.frame.DataFrame'>\n",
      "RangeIndex: 14032 entries, 0 to 14031\n",
      "Data columns (total 5 columns):\n",
      " #   Column        Non-Null Count  Dtype  \n",
      "---  ------        --------------  -----  \n",
      " 0   title         14032 non-null  object \n",
      " 1   content       14032 non-null  object \n",
      " 2   date          14032 non-null  float64\n",
      " 3   affiliations  14032 non-null  object \n",
      " 4   keywords      7604 non-null   object \n",
      "dtypes: float64(1), object(4)\n",
      "memory usage: 548.3+ KB\n"
     ]
    }
   ],
   "execution_count": 30
  },
  {
   "metadata": {
    "ExecuteTime": {
     "end_time": "2025-07-19T08:32:15.825188Z",
     "start_time": "2025-07-19T08:32:15.055331Z"
    }
   },
   "cell_type": "code",
   "source": "df_all.to_csv('data/04_article_2020_2025.csv', index=False, encoding='utf-8')",
   "id": "6cb5fe9696f27882",
   "outputs": [],
   "execution_count": 31
  },
  {
   "metadata": {
    "ExecuteTime": {
     "end_time": "2025-07-19T08:36:35.466409Z",
     "start_time": "2025-07-19T08:36:34.572605Z"
    }
   },
   "cell_type": "code",
   "source": [
    "df=pd.read_csv('data/04_article_2020_2025.csv')\n",
    "df.info()"
   ],
   "id": "44613efffade6764",
   "outputs": [
    {
     "name": "stdout",
     "output_type": "stream",
     "text": [
      "<class 'pandas.core.frame.DataFrame'>\n",
      "RangeIndex: 14032 entries, 0 to 14031\n",
      "Data columns (total 5 columns):\n",
      " #   Column        Non-Null Count  Dtype  \n",
      "---  ------        --------------  -----  \n",
      " 0   title         14032 non-null  object \n",
      " 1   content       14032 non-null  object \n",
      " 2   date          14032 non-null  float64\n",
      " 3   affiliations  14032 non-null  object \n",
      " 4   keywords      7604 non-null   object \n",
      "dtypes: float64(1), object(4)\n",
      "memory usage: 548.3+ KB\n"
     ]
    }
   ],
   "execution_count": 32
  },
  {
   "metadata": {
    "ExecuteTime": {
     "end_time": "2025-07-19T08:36:40.018259Z",
     "start_time": "2025-07-19T08:36:39.986983Z"
    }
   },
   "cell_type": "code",
   "source": "df.head()",
   "id": "84a0af0f31076ca8",
   "outputs": [
    {
     "data": {
      "text/plain": [
       "                                               title  \\\n",
       "0  ArtificialIntelligence(A Special Report) --- H...   \n",
       "1  ArtificialIntelligence(A Special Report) --- T...   \n",
       "2  ArtificialIntelligence(A Special Report) --- F...   \n",
       "3  Crunchbase UsesArtificialIntelligenceTo Predic...   \n",
       "4  On the Clock: Bosses' Mental Fitness Set for A...   \n",
       "\n",
       "                                             content    date  \\\n",
       "0  The current generation of college students is ...  2024.0   \n",
       "1  ChatGPT is barely two years old. And yet it's ...  2024.0   \n",
       "2  The race for AI dominance launched a stampede ...  2025.0   \n",
       "3  Crunchbase, the firm best known for its startu...  2025.0   \n",
       "4  Bosses already live in fear that a verbal miss...  2024.0   \n",
       "\n",
       "          affiliations keywords  \n",
       "0  Wall Street Journal      NaN  \n",
       "1  Wall Street Journal      NaN  \n",
       "2  Wall Street Journal      NaN  \n",
       "3  Wall Street Journal      NaN  \n",
       "4  Wall Street Journal      NaN  "
      ],
      "text/html": [
       "<div>\n",
       "<style scoped>\n",
       "    .dataframe tbody tr th:only-of-type {\n",
       "        vertical-align: middle;\n",
       "    }\n",
       "\n",
       "    .dataframe tbody tr th {\n",
       "        vertical-align: top;\n",
       "    }\n",
       "\n",
       "    .dataframe thead th {\n",
       "        text-align: right;\n",
       "    }\n",
       "</style>\n",
       "<table border=\"1\" class=\"dataframe\">\n",
       "  <thead>\n",
       "    <tr style=\"text-align: right;\">\n",
       "      <th></th>\n",
       "      <th>title</th>\n",
       "      <th>content</th>\n",
       "      <th>date</th>\n",
       "      <th>affiliations</th>\n",
       "      <th>keywords</th>\n",
       "    </tr>\n",
       "  </thead>\n",
       "  <tbody>\n",
       "    <tr>\n",
       "      <th>0</th>\n",
       "      <td>ArtificialIntelligence(A Special Report) --- H...</td>\n",
       "      <td>The current generation of college students is ...</td>\n",
       "      <td>2024.0</td>\n",
       "      <td>Wall Street Journal</td>\n",
       "      <td>NaN</td>\n",
       "    </tr>\n",
       "    <tr>\n",
       "      <th>1</th>\n",
       "      <td>ArtificialIntelligence(A Special Report) --- T...</td>\n",
       "      <td>ChatGPT is barely two years old. And yet it's ...</td>\n",
       "      <td>2024.0</td>\n",
       "      <td>Wall Street Journal</td>\n",
       "      <td>NaN</td>\n",
       "    </tr>\n",
       "    <tr>\n",
       "      <th>2</th>\n",
       "      <td>ArtificialIntelligence(A Special Report) --- F...</td>\n",
       "      <td>The race for AI dominance launched a stampede ...</td>\n",
       "      <td>2025.0</td>\n",
       "      <td>Wall Street Journal</td>\n",
       "      <td>NaN</td>\n",
       "    </tr>\n",
       "    <tr>\n",
       "      <th>3</th>\n",
       "      <td>Crunchbase UsesArtificialIntelligenceTo Predic...</td>\n",
       "      <td>Crunchbase, the firm best known for its startu...</td>\n",
       "      <td>2025.0</td>\n",
       "      <td>Wall Street Journal</td>\n",
       "      <td>NaN</td>\n",
       "    </tr>\n",
       "    <tr>\n",
       "      <th>4</th>\n",
       "      <td>On the Clock: Bosses' Mental Fitness Set for A...</td>\n",
       "      <td>Bosses already live in fear that a verbal miss...</td>\n",
       "      <td>2024.0</td>\n",
       "      <td>Wall Street Journal</td>\n",
       "      <td>NaN</td>\n",
       "    </tr>\n",
       "  </tbody>\n",
       "</table>\n",
       "</div>"
      ]
     },
     "execution_count": 33,
     "metadata": {},
     "output_type": "execute_result"
    }
   ],
   "execution_count": 33
  },
  {
   "metadata": {},
   "cell_type": "code",
   "outputs": [],
   "execution_count": null,
   "source": "",
   "id": "e77c21c20d116a2c"
  }
 ],
 "metadata": {
  "kernelspec": {
   "display_name": "Python 3",
   "language": "python",
   "name": "python3"
  },
  "language_info": {
   "codemirror_mode": {
    "name": "ipython",
    "version": 2
   },
   "file_extension": ".py",
   "mimetype": "text/x-python",
   "name": "python",
   "nbconvert_exporter": "python",
   "pygments_lexer": "ipython2",
   "version": "2.7.6"
  }
 },
 "nbformat": 4,
 "nbformat_minor": 5
}
