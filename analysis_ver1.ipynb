{
 "cells": [
  {
   "metadata": {
    "ExecuteTime": {
     "end_time": "2025-07-23T02:59:39.465401Z",
     "start_time": "2025-07-23T02:59:38.204294Z"
    }
   },
   "cell_type": "code",
   "source": [
    "import pandas as pd\n",
    "\n",
    "journal=pd.read_csv('data/02_journal_2020_2025.csv')\n",
    "articles=pd.read_csv('data/04_article_2020_2025.csv')"
   ],
   "id": "d9b25b85f7315549",
   "outputs": [],
   "execution_count": 1
  },
  {
   "metadata": {
    "ExecuteTime": {
     "end_time": "2025-07-23T02:59:39.490532Z",
     "start_time": "2025-07-23T02:59:39.479197Z"
    }
   },
   "cell_type": "code",
   "source": "journal.info()",
   "id": "acf8d3554e0ccf37",
   "outputs": [
    {
     "name": "stdout",
     "output_type": "stream",
     "text": [
      "<class 'pandas.core.frame.DataFrame'>\n",
      "RangeIndex: 6780 entries, 0 to 6779\n",
      "Data columns (total 6 columns):\n",
      " #   Column        Non-Null Count  Dtype \n",
      "---  ------        --------------  ----- \n",
      " 0   title         6780 non-null   object\n",
      " 1   date          6780 non-null   int64 \n",
      " 2   abstract      6780 non-null   object\n",
      " 3   keywords      6780 non-null   object\n",
      " 4   authors       6774 non-null   object\n",
      " 5   affiliations  6780 non-null   object\n",
      "dtypes: int64(1), object(5)\n",
      "memory usage: 317.9+ KB\n"
     ]
    }
   ],
   "execution_count": 2
  },
  {
   "metadata": {
    "ExecuteTime": {
     "end_time": "2025-07-23T02:59:39.563180Z",
     "start_time": "2025-07-23T02:59:39.558085Z"
    }
   },
   "cell_type": "code",
   "source": "articles.info()",
   "id": "d37622959d50c14b",
   "outputs": [
    {
     "name": "stdout",
     "output_type": "stream",
     "text": [
      "<class 'pandas.core.frame.DataFrame'>\n",
      "RangeIndex: 14032 entries, 0 to 14031\n",
      "Data columns (total 5 columns):\n",
      " #   Column        Non-Null Count  Dtype  \n",
      "---  ------        --------------  -----  \n",
      " 0   title         14032 non-null  object \n",
      " 1   content       14032 non-null  object \n",
      " 2   date          14032 non-null  float64\n",
      " 3   affiliations  14032 non-null  object \n",
      " 4   keywords      7604 non-null   object \n",
      "dtypes: float64(1), object(4)\n",
      "memory usage: 548.3+ KB\n"
     ]
    }
   ],
   "execution_count": 3
  },
  {
   "metadata": {
    "ExecuteTime": {
     "end_time": "2025-07-23T02:59:39.630394Z",
     "start_time": "2025-07-23T02:59:39.626125Z"
    }
   },
   "cell_type": "code",
   "source": "print(journal.value_counts(subset=['date']))",
   "id": "e17c13ea61c59eef",
   "outputs": [
    {
     "name": "stdout",
     "output_type": "stream",
     "text": [
      "date\n",
      "2024    1275\n",
      "2021    1222\n",
      "2022    1222\n",
      "2023    1210\n",
      "2020    1127\n",
      "2025     724\n",
      "Name: count, dtype: int64\n"
     ]
    }
   ],
   "execution_count": 4
  },
  {
   "metadata": {
    "ExecuteTime": {
     "end_time": "2025-07-23T02:59:39.718040Z",
     "start_time": "2025-07-23T02:59:39.713712Z"
    }
   },
   "cell_type": "code",
   "source": "print(articles.value_counts(subset=['affiliations']))",
   "id": "b7f11e449fe3a6a7",
   "outputs": [
    {
     "name": "stdout",
     "output_type": "stream",
     "text": [
      "affiliations       \n",
      "techcrunch             3407\n",
      "verge                  2606\n",
      "the guardian           2420\n",
      "BBC                    1864\n",
      "Wall Street Journal     962\n",
      "Techcrunch              921\n",
      "New York Times          769\n",
      "the_verge               670\n",
      "CNN                     413\n",
      "Name: count, dtype: int64\n"
     ]
    }
   ],
   "execution_count": 5
  },
  {
   "metadata": {},
   "cell_type": "markdown",
   "source": "# 토픽모델링 돌리기(년도별로) - 2025.07.15",
   "id": "2e88a4db65a9aea0"
  },
  {
   "cell_type": "code",
   "id": "initial_id",
   "metadata": {
    "collapsed": true,
    "ExecuteTime": {
     "end_time": "2025-07-21T04:09:03.663235Z",
     "start_time": "2025-07-21T04:08:31.062824Z"
    }
   },
   "source": [
    "import pandas as pd\n",
    "from bs4 import BeautifulSoup\n",
    "import re\n",
    "from nltk.corpus import stopwords\n",
    "from nltk.tokenize import word_tokenize\n",
    "from nltk.stem import WordNetLemmatizer\n",
    "from nltk import pos_tag\n",
    "from gensim import corpora, models\n",
    "import nltk\n",
    "\n",
    "# 필요 시 아래 주석 제거하여 다운로드\n",
    "# nltk.download('punkt')\n",
    "# nltk.download('stopwords')\n",
    "# nltk.download('wordnet')\n",
    "# nltk.download('averaged_perceptron_tagger')\n",
    "\n",
    "# 🔸 전처리 함수 (토큰 리스트 반환)\n",
    "def preprocess_text(text):\n",
    "    if pd.isnull(text):\n",
    "        return []\n",
    "    if isinstance(text, list):\n",
    "        text = ' '.join(text)\n",
    "    if isinstance(text, str) and ('<' in text and '>' in text):\n",
    "        text = BeautifulSoup(text, \"html.parser\").get_text()\n",
    "    # 수식, 특수문자 제거\n",
    "    text = re.sub(r\"\\$.*?\\$\", \"\", text)\n",
    "    text = re.sub(r\"\\\\\\(.*?\\\\\\)\", \"\", text)\n",
    "    text = re.sub(r\"[^a-zA-Z\\s]\", \" \", text)\n",
    "    text = text.lower()\n",
    "\n",
    "    # 토큰화\n",
    "    tokens = word_tokenize(text)\n",
    "    stop_words = set(stopwords.words('english'))\n",
    "    tokens = [w for w in tokens if w not in stop_words and len(w) > 2]\n",
    "\n",
    "    # 품사 필터링 (명사, 동사 계열)\n",
    "    pos_tags = pos_tag(tokens)\n",
    "    allowed = {'NN', 'NNS', 'NNP', 'NNPS', 'VB', 'VBD', 'VBG', 'VBN', 'VBP', 'VBZ'}\n",
    "    filtered = [w for w, pos in pos_tags if pos in allowed]\n",
    "\n",
    "    # 표제어\n",
    "    lemmatizer = WordNetLemmatizer()\n",
    "    lemma_tokens = [lemmatizer.lemmatize(w) for w in filtered]\n",
    "    return lemma_tokens\n",
    "\n",
    "# 🔸 연도별 LDA TF-IDF 파이프라인 함수\n",
    "def run_lda_by_year_tfidf(\n",
    "    data_path,\n",
    "    year_column='year',\n",
    "    text_columns=['title', 'abstract', 'keywords'],\n",
    "    num_topics=20,\n",
    "    passes=15,\n",
    "    random_state=42,\n",
    "    no_below=5,\n",
    "    no_above=0.9\n",
    "):\n",
    "    df = pd.read_csv(data_path)\n",
    "    years = sorted(df[year_column].dropna().unique())\n",
    "    print(f\"🔎 Processing years: {years}\")\n",
    "\n",
    "    models_by_year = {}\n",
    "\n",
    "    for year in years:\n",
    "        print(f\"\\n📅 Year: {year}\")\n",
    "        year_df = df[df[year_column] == year].fillna('')\n",
    "        merged = year_df[text_columns].agg(' '.join, axis=1).tolist()\n",
    "        docs = [preprocess_text(txt) for txt in merged]\n",
    "        if not any(docs):\n",
    "            print(f\"⚠️ No docs for {year}\")\n",
    "            continue\n",
    "\n",
    "        # 사전 및 BoW\n",
    "        dictionary = corpora.Dictionary(docs)\n",
    "        # 빈도 기반 필터링: 최소 no_below, 최대 no_above 비율\n",
    "        dictionary.filter_extremes(no_below=no_below, no_above=no_above)\n",
    "        bow_corpus = [dictionary.doc2bow(doc) for doc in docs]\n",
    "\n",
    "        # TF-IDF\n",
    "        tfidf = models.TfidfModel(bow_corpus)\n",
    "        tfidf_corpus = tfidf[bow_corpus]\n",
    "\n",
    "        # LDA\n",
    "        lda = models.LdaModel(\n",
    "            corpus=tfidf_corpus,\n",
    "            id2word=dictionary,\n",
    "            num_topics=num_topics,\n",
    "            passes=passes,\n",
    "            random_state=random_state\n",
    "        )\n",
    "\n",
    "        print(f\"🔹 LDA Topics for {year} (topics={num_topics}):\")\n",
    "        for idx, topic in lda.print_topics(-1):\n",
    "            print(f\"Topic {idx}: {topic}\")\n",
    "\n",
    "        models_by_year[year] = {\n",
    "            'model': lda,\n",
    "            'dictionary': dictionary,\n",
    "            'tfidf': tfidf\n",
    "        }\n",
    "\n",
    "    return models_by_year\n",
    "\n",
    "# ✨ 사용 예시\n",
    "if __name__ == '__main__':\n",
    "    path = 'data/02_journal_2020_2025.csv'\n",
    "    lda_results = run_lda_by_year_tfidf(\n",
    "        data_path=path,\n",
    "        year_column='date',\n",
    "        text_columns=['title', 'abstract'],\n",
    "        num_topics=10,\n",
    "        passes=10,\n",
    "        no_below=15,\n",
    "        no_above=0.8\n",
    "    )\n",
    "    # 결과 활용: lda_results[2021]['model'] 등\n"
   ],
   "outputs": [
    {
     "name": "stdout",
     "output_type": "stream",
     "text": [
      "🔎 Processing years: [2020, 2021, 2022, 2023, 2024, 2025]\n",
      "\n",
      "📅 Year: 2020\n",
      "🔹 LDA Topics for 2020 (topics=10):\n",
      "Topic 0: 0.018*\"investor\" + 0.017*\"market\" + 0.016*\"firm\" + 0.012*\"price\" + 0.012*\"student\" + 0.009*\"option\" + 0.009*\"trading\" + 0.009*\"mining\" + 0.008*\"gender\" + 0.008*\"stock\"\n",
      "Topic 1: 0.018*\"movement\" + 0.016*\"blockchain\" + 0.010*\"job\" + 0.009*\"feature\" + 0.009*\"culture\" + 0.008*\"affordances\" + 0.007*\"message\" + 0.007*\"object\" + 0.007*\"creation\" + 0.007*\"value\"\n",
      "Topic 2: 0.022*\"trust\" + 0.015*\"blockchain\" + 0.010*\"error\" + 0.009*\"consumption\" + 0.008*\"model\" + 0.008*\"machine\" + 0.007*\"governance\" + 0.007*\"collection\" + 0.006*\"traffic\" + 0.006*\"system\"\n",
      "Topic 3: 0.058*\"privacy\" + 0.017*\"concern\" + 0.012*\"party\" + 0.010*\"user\" + 0.010*\"twitter\" + 0.009*\"sharing\" + 0.009*\"panel\" + 0.008*\"tracking\" + 0.008*\"policy\" + 0.008*\"data\"\n",
      "Topic 4: 0.018*\"medium\" + 0.013*\"regulation\" + 0.010*\"price\" + 0.010*\"twitter\" + 0.010*\"stock\" + 0.009*\"effect\" + 0.008*\"agency\" + 0.008*\"message\" + 0.008*\"population\" + 0.007*\"policy\"\n",
      "Topic 5: 0.007*\"system\" + 0.007*\"data\" + 0.006*\"platform\" + 0.006*\"information\" + 0.006*\"design\" + 0.006*\"model\" + 0.005*\"technology\" + 0.005*\"process\" + 0.005*\"user\" + 0.005*\"research\"\n",
      "Topic 6: 0.012*\"brand\" + 0.010*\"energy\" + 0.010*\"seller\" + 0.008*\"property\" + 0.008*\"simulation\" + 0.007*\"risk\" + 0.007*\"system\" + 0.007*\"power\" + 0.007*\"market\" + 0.007*\"demand\"\n",
      "Topic 7: 0.017*\"innovation\" + 0.015*\"game\" + 0.014*\"review\" + 0.012*\"ecosystem\" + 0.010*\"digitalization\" + 0.009*\"supply\" + 0.009*\"service\" + 0.009*\"production\" + 0.008*\"article\" + 0.008*\"chain\"\n",
      "Topic 8: 0.021*\"document\" + 0.012*\"object\" + 0.012*\"bank\" + 0.008*\"network\" + 0.007*\"digitalization\" + 0.006*\"service\" + 0.006*\"population\" + 0.006*\"culture\" + 0.006*\"clustering\" + 0.006*\"collaboration\"\n",
      "Topic 9: 0.026*\"contract\" + 0.012*\"developer\" + 0.011*\"price\" + 0.011*\"commerce\" + 0.011*\"platform\" + 0.010*\"firm\" + 0.009*\"sale\" + 0.009*\"software\" + 0.008*\"consumer\" + 0.008*\"owner\"\n",
      "\n",
      "📅 Year: 2021\n",
      "🔹 LDA Topics for 2021 (topics=10):\n",
      "Topic 0: 0.029*\"blockchain\" + 0.025*\"governance\" + 0.016*\"iot\" + 0.015*\"chain\" + 0.014*\"transformation\" + 0.014*\"supply\" + 0.010*\"city\" + 0.010*\"decentralized\" + 0.009*\"platform\" + 0.009*\"taxonomy\"\n",
      "Topic 1: 0.007*\"data\" + 0.007*\"innovation\" + 0.007*\"design\" + 0.006*\"service\" + 0.006*\"research\" + 0.006*\"business\" + 0.006*\"system\" + 0.006*\"technology\" + 0.006*\"adoption\" + 0.006*\"model\"\n",
      "Topic 2: 0.014*\"product\" + 0.014*\"consumer\" + 0.012*\"review\" + 0.010*\"customer\" + 0.008*\"news\" + 0.007*\"brand\" + 0.007*\"effect\" + 0.007*\"sale\" + 0.006*\"network\" + 0.006*\"firm\"\n",
      "Topic 3: 0.004*\"medium\" + 0.004*\"product\" + 0.003*\"choice\" + 0.003*\"site\" + 0.003*\"frequency\" + 0.003*\"time\" + 0.003*\"review\" + 0.003*\"company\" + 0.003*\"platform\" + 0.002*\"quality\"\n",
      "Topic 4: 0.022*\"sensor\" + 0.016*\"image\" + 0.015*\"classification\" + 0.013*\"vulnerability\" + 0.010*\"thing\" + 0.010*\"recognition\" + 0.009*\"event\" + 0.009*\"iot\" + 0.009*\"method\" + 0.008*\"device\"\n",
      "Topic 5: 0.006*\"community\" + 0.006*\"data\" + 0.005*\"system\" + 0.005*\"learning\" + 0.005*\"information\" + 0.005*\"decision\" + 0.005*\"user\" + 0.005*\"effect\" + 0.005*\"team\" + 0.004*\"work\"\n",
      "Topic 6: 0.030*\"apps\" + 0.022*\"security\" + 0.019*\"app\" + 0.013*\"assistant\" + 0.013*\"privacy\" + 0.010*\"employee\" + 0.010*\"user\" + 0.007*\"medium\" + 0.006*\"home\" + 0.006*\"disease\"\n",
      "Topic 7: 0.004*\"trust\" + 0.004*\"intention\" + 0.003*\"exchange\" + 0.003*\"affordances\" + 0.003*\"interface\" + 0.002*\"apps\" + 0.002*\"perceived\" + 0.002*\"design\" + 0.002*\"effect\" + 0.002*\"crisis\"\n",
      "Topic 8: 0.041*\"crowdfunding\" + 0.017*\"tension\" + 0.016*\"affordances\" + 0.015*\"movement\" + 0.014*\"twitter\" + 0.009*\"medium\" + 0.008*\"facebook\" + 0.006*\"communication\" + 0.006*\"team\" + 0.006*\"evolution\"\n",
      "Topic 9: 0.018*\"disclosure\" + 0.005*\"game\" + 0.005*\"recognition\" + 0.004*\"vulnerability\" + 0.003*\"consumer\" + 0.003*\"app\" + 0.003*\"program\" + 0.003*\"effect\" + 0.003*\"agenda\" + 0.003*\"participation\"\n",
      "\n",
      "📅 Year: 2022\n",
      "🔹 LDA Topics for 2022 (topics=10):\n",
      "Topic 0: 0.031*\"supply\" + 0.028*\"chain\" + 0.024*\"code\" + 0.014*\"explains\" + 0.009*\"claim\" + 0.007*\"job\" + 0.006*\"sustainability\" + 0.006*\"path\" + 0.004*\"cluster\" + 0.003*\"trading\"\n",
      "Topic 1: 0.023*\"utility\" + 0.004*\"medium\" + 0.003*\"energy\" + 0.003*\"user\" + 0.003*\"power\" + 0.003*\"explanation\" + 0.003*\"platform\" + 0.003*\"worker\" + 0.003*\"effect\" + 0.002*\"developer\"\n",
      "Topic 2: 0.031*\"game\" + 0.016*\"tension\" + 0.015*\"gamification\" + 0.014*\"market\" + 0.013*\"meaning\" + 0.012*\"price\" + 0.011*\"sustainability\" + 0.011*\"cue\" + 0.010*\"flow\" + 0.010*\"pricing\"\n",
      "Topic 3: 0.053*\"patient\" + 0.040*\"hospital\" + 0.030*\"physician\" + 0.016*\"care\" + 0.013*\"healthcare\" + 0.012*\"health\" + 0.008*\"comment\" + 0.006*\"trading\" + 0.006*\"disclosure\" + 0.004*\"policy\"\n",
      "Topic 4: 0.076*\"privacy\" + 0.039*\"blockchain\" + 0.010*\"transparency\" + 0.009*\"concern\" + 0.007*\"peer\" + 0.005*\"paradox\" + 0.005*\"regulation\" + 0.004*\"testing\" + 0.004*\"contract\" + 0.004*\"rise\"\n",
      "Topic 5: 0.006*\"data\" + 0.006*\"system\" + 0.006*\"platform\" + 0.005*\"service\" + 0.005*\"design\" + 0.005*\"user\" + 0.005*\"information\" + 0.005*\"learning\" + 0.005*\"technology\" + 0.005*\"model\"\n",
      "Topic 6: 0.041*\"seller\" + 0.033*\"sale\" + 0.026*\"review\" + 0.023*\"product\" + 0.023*\"consumer\" + 0.022*\"commerce\" + 0.018*\"purchase\" + 0.017*\"shopping\" + 0.010*\"consumption\" + 0.008*\"search\"\n",
      "Topic 7: 0.017*\"rule\" + 0.012*\"month\" + 0.006*\"claim\" + 0.005*\"rating\" + 0.003*\"agency\" + 0.003*\"reaction\" + 0.003*\"recommendation\" + 0.002*\"service\" + 0.002*\"estimate\" + 0.002*\"incentive\"\n",
      "Topic 8: 0.019*\"personality\" + 0.015*\"mode\" + 0.012*\"rating\" + 0.011*\"trait\" + 0.011*\"consumer\" + 0.011*\"product\" + 0.010*\"crowd\" + 0.008*\"movement\" + 0.007*\"platform\" + 0.006*\"force\"\n",
      "Topic 9: 0.004*\"exploration\" + 0.002*\"choice\" + 0.002*\"search\" + 0.002*\"customer\" + 0.002*\"attention\" + 0.002*\"diversity\" + 0.002*\"measure\" + 0.002*\"movement\" + 0.002*\"scholar\" + 0.002*\"uncertainty\"\n",
      "\n",
      "📅 Year: 2023\n",
      "🔹 LDA Topics for 2023 (topics=10):\n",
      "Topic 0: 0.013*\"city\" + 0.012*\"creator\" + 0.010*\"user\" + 0.009*\"app\" + 0.009*\"content\" + 0.008*\"label\" + 0.008*\"preference\" + 0.008*\"platform\" + 0.007*\"revenue\" + 0.007*\"medium\"\n",
      "Topic 1: 0.008*\"platform\" + 0.006*\"data\" + 0.006*\"service\" + 0.005*\"innovation\" + 0.005*\"firm\" + 0.005*\"system\" + 0.005*\"technology\" + 0.005*\"work\" + 0.005*\"effect\" + 0.005*\"model\"\n",
      "Topic 2: 0.013*\"prediction\" + 0.011*\"testing\" + 0.011*\"image\" + 0.010*\"robot\" + 0.010*\"city\" + 0.008*\"vehicle\" + 0.008*\"computing\" + 0.008*\"application\" + 0.007*\"model\" + 0.007*\"algorithm\"\n",
      "Topic 3: 0.010*\"data\" + 0.007*\"learning\" + 0.007*\"model\" + 0.006*\"making\" + 0.006*\"experience\" + 0.006*\"system\" + 0.006*\"uncertainty\" + 0.006*\"time\" + 0.006*\"algorithm\" + 0.006*\"information\"\n",
      "Topic 4: 0.026*\"emotion\" + 0.017*\"review\" + 0.010*\"network\" + 0.008*\"generated\" + 0.008*\"recommendation\" + 0.007*\"detection\" + 0.006*\"prediction\" + 0.005*\"content\" + 0.005*\"consumer\" + 0.005*\"cue\"\n",
      "Topic 5: 0.041*\"disaster\" + 0.008*\"movement\" + 0.007*\"gender\" + 0.007*\"diversity\" + 0.006*\"answer\" + 0.004*\"affordances\" + 0.003*\"firm\" + 0.003*\"platform\" + 0.003*\"question\" + 0.003*\"medium\"\n",
      "Topic 6: 0.026*\"gender\" + 0.024*\"payment\" + 0.013*\"purchase\" + 0.011*\"shopping\" + 0.010*\"rule\" + 0.008*\"automation\" + 0.008*\"recognition\" + 0.007*\"absence\" + 0.006*\"disaster\" + 0.005*\"content\"\n",
      "Topic 7: 0.021*\"rating\" + 0.016*\"token\" + 0.015*\"product\" + 0.012*\"feedback\" + 0.007*\"patient\" + 0.007*\"bias\" + 0.006*\"recommendation\" + 0.006*\"care\" + 0.006*\"agent\" + 0.006*\"parameter\"\n",
      "Topic 8: 0.024*\"energy\" + 0.018*\"worker\" + 0.017*\"labor\" + 0.012*\"problem\" + 0.010*\"model\" + 0.010*\"power\" + 0.008*\"search\" + 0.008*\"tweet\" + 0.007*\"resource\" + 0.007*\"distribution\"\n",
      "Topic 9: 0.011*\"privacy\" + 0.009*\"data\" + 0.009*\"design\" + 0.009*\"review\" + 0.008*\"system\" + 0.007*\"research\" + 0.007*\"user\" + 0.006*\"health\" + 0.006*\"information\" + 0.006*\"process\"\n",
      "\n",
      "📅 Year: 2024\n",
      "🔹 LDA Topics for 2024 (topics=10):\n",
      "Topic 0: 0.017*\"return\" + 0.011*\"genai\" + 0.008*\"adoption\" + 0.007*\"implementation\" + 0.007*\"investment\" + 0.007*\"metaverse\" + 0.005*\"accessibility\" + 0.005*\"creation\" + 0.005*\"expert\" + 0.005*\"organization\"\n",
      "Topic 1: 0.008*\"design\" + 0.007*\"innovation\" + 0.007*\"platform\" + 0.006*\"system\" + 0.006*\"firm\" + 0.006*\"knowledge\" + 0.006*\"organization\" + 0.006*\"community\" + 0.006*\"identity\" + 0.006*\"process\"\n",
      "Topic 2: 0.009*\"data\" + 0.006*\"model\" + 0.006*\"decision\" + 0.006*\"platform\" + 0.006*\"learning\" + 0.005*\"system\" + 0.005*\"user\" + 0.005*\"network\" + 0.005*\"information\" + 0.004*\"customer\"\n",
      "Topic 3: 0.016*\"pricing\" + 0.016*\"seller\" + 0.013*\"price\" + 0.010*\"engineering\" + 0.009*\"analytics\" + 0.009*\"product\" + 0.009*\"profit\" + 0.008*\"consumer\" + 0.008*\"attempt\" + 0.008*\"service\"\n",
      "Topic 4: 0.007*\"supported\" + 0.006*\"attack\" + 0.006*\"team\" + 0.006*\"event\" + 0.005*\"reporting\" + 0.004*\"measurement\" + 0.004*\"location\" + 0.004*\"frequency\" + 0.004*\"system\" + 0.003*\"assistant\"\n",
      "Topic 5: 0.026*\"game\" + 0.021*\"player\" + 0.020*\"crisis\" + 0.016*\"investor\" + 0.013*\"health\" + 0.011*\"sale\" + 0.011*\"purchase\" + 0.011*\"brand\" + 0.011*\"patient\" + 0.011*\"theme\"\n",
      "Topic 6: 0.013*\"student\" + 0.008*\"education\" + 0.007*\"chatbots\" + 0.006*\"care\" + 0.006*\"disclosure\" + 0.006*\"learning\" + 0.006*\"effect\" + 0.005*\"healthcare\" + 0.005*\"platform\" + 0.005*\"rate\"\n",
      "Topic 7: 0.054*\"robot\" + 0.005*\"message\" + 0.005*\"variety\" + 0.005*\"risk\" + 0.004*\"background\" + 0.004*\"testing\" + 0.004*\"country\" + 0.003*\"orientation\" + 0.003*\"service\" + 0.003*\"acceptance\"\n",
      "Topic 8: 0.024*\"news\" + 0.013*\"sentiment\" + 0.013*\"image\" + 0.013*\"medium\" + 0.010*\"post\" + 0.010*\"twitter\" + 0.010*\"tweet\" + 0.009*\"opinion\" + 0.009*\"formation\" + 0.009*\"content\"\n",
      "Topic 9: 0.017*\"commerce\" + 0.015*\"product\" + 0.014*\"consumption\" + 0.013*\"consumer\" + 0.011*\"brand\" + 0.010*\"video\" + 0.010*\"search\" + 0.009*\"price\" + 0.009*\"recommendation\" + 0.009*\"category\"\n",
      "\n",
      "📅 Year: 2025\n",
      "🔹 LDA Topics for 2025 (topics=10):\n",
      "Topic 0: 0.016*\"monitoring\" + 0.015*\"attitude\" + 0.014*\"bias\" + 0.013*\"governance\" + 0.012*\"test\" + 0.012*\"llm\" + 0.009*\"health\" + 0.009*\"safety\" + 0.008*\"nature\" + 0.008*\"management\"\n",
      "Topic 1: 0.011*\"student\" + 0.008*\"information\" + 0.007*\"system\" + 0.007*\"data\" + 0.007*\"health\" + 0.006*\"employee\" + 0.006*\"learning\" + 0.006*\"cybersecurity\" + 0.006*\"work\" + 0.006*\"use\"\n",
      "Topic 2: 0.007*\"barrier\" + 0.005*\"patient\" + 0.005*\"automation\" + 0.004*\"code\" + 0.004*\"llm\" + 0.004*\"considered\" + 0.004*\"element\" + 0.003*\"distribution\" + 0.003*\"design\" + 0.003*\"analysis\"\n",
      "Topic 3: 0.019*\"medium\" + 0.017*\"product\" + 0.016*\"identity\" + 0.014*\"diversity\" + 0.013*\"image\" + 0.013*\"agent\" + 0.012*\"content\" + 0.011*\"platform\" + 0.011*\"category\" + 0.010*\"firm\"\n",
      "Topic 4: 0.004*\"university\" + 0.003*\"complexity\" + 0.003*\"construct\" + 0.003*\"attitude\" + 0.003*\"research\" + 0.003*\"article\" + 0.002*\"work\" + 0.002*\"form\" + 0.002*\"principle\" + 0.002*\"characteristic\"\n",
      "Topic 5: 0.022*\"cyber\" + 0.018*\"health\" + 0.014*\"enterprise\" + 0.013*\"intention\" + 0.012*\"medium\" + 0.012*\"discourse\" + 0.011*\"intervention\" + 0.011*\"regulation\" + 0.008*\"access\" + 0.008*\"team\"\n",
      "Topic 6: 0.010*\"data\" + 0.008*\"platform\" + 0.008*\"model\" + 0.007*\"service\" + 0.007*\"system\" + 0.007*\"consumer\" + 0.006*\"value\" + 0.006*\"innovation\" + 0.006*\"business\" + 0.006*\"process\"\n",
      "Topic 7: 0.019*\"transformation\" + 0.017*\"agent\" + 0.016*\"team\" + 0.015*\"technology\" + 0.015*\"development\" + 0.015*\"blockchain\" + 0.014*\"adoption\" + 0.014*\"factor\" + 0.013*\"developer\" + 0.012*\"software\"\n",
      "Topic 8: 0.020*\"image\" + 0.016*\"model\" + 0.015*\"detection\" + 0.015*\"classification\" + 0.014*\"power\" + 0.013*\"control\" + 0.011*\"event\" + 0.011*\"problem\" + 0.009*\"llm\" + 0.008*\"location\"\n",
      "Topic 9: 0.024*\"game\" + 0.013*\"model\" + 0.013*\"decision\" + 0.012*\"space\" + 0.011*\"learning\" + 0.011*\"analytics\" + 0.011*\"classification\" + 0.011*\"making\" + 0.010*\"equity\" + 0.009*\"data\"\n"
     ]
    }
   ],
   "execution_count": 12
  },
  {
   "metadata": {
    "ExecuteTime": {
     "end_time": "2025-07-21T04:12:10.254945Z",
     "start_time": "2025-07-21T04:09:03.679080Z"
    }
   },
   "cell_type": "code",
   "source": [
    "# ✨ 사용 예시\n",
    "path = 'data/04_article_2020_2025.csv'\n",
    "lda_results2 = run_lda_by_year_tfidf(\n",
    "    data_path=path,\n",
    "    year_column='date',\n",
    "    text_columns=['title', 'content'],\n",
    "    num_topics=10,\n",
    "    passes=10,\n",
    "    no_below=15,\n",
    "    no_above=0.8)\n"
   ],
   "id": "ad60d4755f729cb8",
   "outputs": [
    {
     "name": "stdout",
     "output_type": "stream",
     "text": [
      "🔎 Processing years: [2020.0, 2021.0, 2022.0, 2023.0, 2024.0, 2025.0]\n",
      "\n",
      "📅 Year: 2020.0\n",
      "🔹 LDA Topics for 2020.0 (topics=10):\n",
      "Topic 0: 0.002*\"switch\" + 0.001*\"patent\" + 0.001*\"hate\" + 0.001*\"facebook\" + 0.001*\"advertising\" + 0.001*\"robot\" + 0.001*\"marketing\" + 0.001*\"aid\" + 0.001*\"data\" + 0.001*\"said\"\n",
      "Topic 1: 0.019*\"tiktok\" + 0.015*\"bytedance\" + 0.003*\"huawei\" + 0.002*\"export\" + 0.002*\"carbon\" + 0.002*\"china\" + 0.001*\"trump\" + 0.001*\"deal\" + 0.001*\"telecom\" + 0.001*\"corp\"\n",
      "Topic 2: 0.016*\"chip\" + 0.008*\"intel\" + 0.007*\"robotics\" + 0.007*\"venture\" + 0.007*\"quantum\" + 0.006*\"capital\" + 0.006*\"startup\" + 0.006*\"investment\" + 0.006*\"huawei\" + 0.006*\"china\"\n",
      "Topic 3: 0.003*\"forecast\" + 0.001*\"weather\" + 0.001*\"retailer\" + 0.001*\"gpt\" + 0.001*\"brain\" + 0.001*\"deepfake\" + 0.001*\"ad\" + 0.001*\"voice\" + 0.001*\"musk\" + 0.001*\"data\"\n",
      "Topic 4: 0.001*\"voice\" + 0.001*\"alexa\" + 0.001*\"satellite\" + 0.001*\"council\" + 0.001*\"skill\" + 0.001*\"style\" + 0.001*\"facebook\" + 0.001*\"weather\" + 0.001*\"music\" + 0.001*\"shape\"\n",
      "Topic 5: 0.003*\"gpt\" + 0.002*\"trump\" + 0.002*\"facebook\" + 0.001*\"zuckerberg\" + 0.001*\"canada\" + 0.001*\"misinformation\" + 0.001*\"deepfakes\" + 0.001*\"hate\" + 0.001*\"worker\" + 0.001*\"video\"\n",
      "Topic 6: 0.002*\"depth\" + 0.001*\"alexa\" + 0.001*\"hiring\" + 0.001*\"committee\" + 0.001*\"voice\" + 0.001*\"skill\" + 0.001*\"mode\" + 0.001*\"amazon\" + 0.001*\"processor\" + 0.001*\"conversation\"\n",
      "Topic 7: 0.004*\"robot\" + 0.003*\"google\" + 0.003*\"data\" + 0.003*\"facebook\" + 0.002*\"said\" + 0.002*\"say\" + 0.002*\"technology\" + 0.002*\"system\" + 0.002*\"image\" + 0.002*\"user\"\n",
      "Topic 8: 0.007*\"defence\" + 0.006*\"deepfake\" + 0.005*\"deepfakes\" + 0.003*\"cyber\" + 0.002*\"robot\" + 0.002*\"disinformation\" + 0.002*\"budget\" + 0.001*\"tank\" + 0.001*\"drone\" + 0.001*\"weapon\"\n",
      "Topic 9: 0.001*\"jack\" + 0.001*\"avatar\" + 0.001*\"robot\" + 0.001*\"legacy\" + 0.001*\"simulation\" + 0.001*\"bot\" + 0.001*\"dog\" + 0.001*\"footprint\" + 0.001*\"google\" + 0.001*\"server\"\n",
      "\n",
      "📅 Year: 2021.0\n",
      "🔹 LDA Topics for 2021.0 (topics=10):\n",
      "Topic 0: 0.001*\"code\" + 0.001*\"tweet\" + 0.001*\"reading\" + 0.001*\"customer\" + 0.001*\"kid\" + 0.001*\"openai\" + 0.001*\"voice\" + 0.001*\"team\" + 0.001*\"data\" + 0.001*\"child\"\n",
      "Topic 1: 0.001*\"bar\" + 0.001*\"border\" + 0.001*\"apple\" + 0.001*\"marketing\" + 0.001*\"io\" + 0.001*\"sale\" + 0.001*\"recognition\" + 0.001*\"gender\" + 0.001*\"woman\" + 0.001*\"firm\"\n",
      "Topic 2: 0.004*\"google\" + 0.004*\"robot\" + 0.004*\"data\" + 0.003*\"say\" + 0.003*\"facebook\" + 0.003*\"people\" + 0.003*\"model\" + 0.002*\"user\" + 0.002*\"system\" + 0.002*\"team\"\n",
      "Topic 3: 0.001*\"cancer\" + 0.001*\"construction\" + 0.001*\"robot\" + 0.001*\"scope\" + 0.001*\"clip\" + 0.001*\"robotics\" + 0.001*\"openai\" + 0.001*\"satellite\" + 0.001*\"asset\" + 0.001*\"utility\"\n",
      "Topic 4: 0.007*\"chip\" + 0.006*\"venture\" + 0.005*\"china\" + 0.005*\"customer\" + 0.005*\"investor\" + 0.005*\"round\" + 0.004*\"investment\" + 0.004*\"company\" + 0.004*\"funding\" + 0.004*\"cloud\"\n",
      "Topic 5: 0.013*\"china\" + 0.008*\"tiktok\" + 0.008*\"police\" + 0.005*\"beijing\" + 0.004*\"commissioner\" + 0.004*\"allegation\" + 0.004*\"listing\" + 0.004*\"exchange\" + 0.004*\"stock\" + 0.004*\"law\"\n",
      "Topic 6: 0.001*\"chip\" + 0.001*\"theory\" + 0.001*\"softbank\" + 0.001*\"google\" + 0.001*\"intel\" + 0.001*\"alphabet\" + 0.001*\"simulation\" + 0.001*\"night\" + 0.001*\"woman\" + 0.001*\"regulation\"\n",
      "Topic 7: 0.018*\"deepfake\" + 0.011*\"deepfakes\" + 0.007*\"tesla\" + 0.004*\"voice\" + 0.004*\"huawei\" + 0.004*\"cruise\" + 0.003*\"police\" + 0.003*\"video\" + 0.003*\"footage\" + 0.003*\"vehicle\"\n",
      "Topic 8: 0.002*\"uber\" + 0.002*\"worker\" + 0.001*\"student\" + 0.001*\"virus\" + 0.001*\"court\" + 0.001*\"union\" + 0.001*\"driver\" + 0.001*\"conflict\" + 0.001*\"school\" + 0.001*\"job\"\n",
      "Topic 9: 0.001*\"alexa\" + 0.001*\"george\" + 0.001*\"wife\" + 0.001*\"assistant\" + 0.001*\"google\" + 0.001*\"amazon\" + 0.001*\"commerce\" + 0.001*\"brand\" + 0.001*\"emotion\" + 0.001*\"photo\"\n",
      "\n",
      "📅 Year: 2022.0\n",
      "🔹 LDA Topics for 2022.0 (topics=10):\n",
      "Topic 0: 0.001*\"chip\" + 0.001*\"jones\" + 0.001*\"china\" + 0.001*\"character\" + 0.001*\"mobility\" + 0.001*\"avatar\" + 0.001*\"farmer\" + 0.001*\"student\" + 0.001*\"event\" + 0.001*\"memory\"\n",
      "Topic 1: 0.001*\"boston\" + 0.001*\"robot\" + 0.001*\"dynamic\" + 0.001*\"robotics\" + 0.001*\"avatar\" + 0.001*\"letter\" + 0.001*\"spot\" + 0.001*\"suit\" + 0.001*\"hand\" + 0.001*\"election\"\n",
      "Topic 2: 0.002*\"translation\" + 0.002*\"window\" + 0.002*\"voice\" + 0.002*\"apple\" + 0.002*\"musk\" + 0.002*\"trigger\" + 0.002*\"avatar\" + 0.002*\"phrase\" + 0.001*\"insurance\" + 0.001*\"twitter\"\n",
      "Topic 3: 0.002*\"uber\" + 0.001*\"candidate\" + 0.001*\"restaurant\" + 0.001*\"worker\" + 0.001*\"chat\" + 0.001*\"delivery\" + 0.001*\"talent\" + 0.001*\"child\" + 0.001*\"robot\" + 0.001*\"productivity\"\n",
      "Topic 4: 0.004*\"robot\" + 0.003*\"image\" + 0.003*\"data\" + 0.003*\"customer\" + 0.003*\"model\" + 0.002*\"system\" + 0.002*\"google\" + 0.002*\"said\" + 0.002*\"company\" + 0.002*\"user\"\n",
      "Topic 5: 0.020*\"china\" + 0.020*\"chip\" + 0.011*\"export\" + 0.011*\"semiconductor\" + 0.009*\"administration\" + 0.007*\"official\" + 0.007*\"carbon\" + 0.006*\"restriction\" + 0.006*\"beijing\" + 0.006*\"russia\"\n",
      "Topic 6: 0.005*\"verification\" + 0.005*\"proposal\" + 0.004*\"legislation\" + 0.004*\"tweet\" + 0.004*\"jones\" + 0.004*\"sanction\" + 0.004*\"abuse\" + 0.004*\"age\" + 0.003*\"police\" + 0.003*\"disney\"\n",
      "Topic 7: 0.015*\"chatgpt\" + 0.011*\"lemoine\" + 0.010*\"lamda\" + 0.009*\"chatbot\" + 0.009*\"google\" + 0.006*\"avatar\" + 0.006*\"portrait\" + 0.005*\"emotion\" + 0.005*\"artist\" + 0.005*\"construction\"\n",
      "Topic 8: 0.001*\"samsung\" + 0.001*\"sport\" + 0.001*\"grade\" + 0.001*\"oversight\" + 0.001*\"food\" + 0.001*\"restaurant\" + 0.001*\"wale\" + 0.001*\"chip\" + 0.001*\"robotics\" + 0.001*\"plant\"\n",
      "Topic 9: 0.001*\"chip\" + 0.001*\"intel\" + 0.001*\"meta\" + 0.001*\"image\" + 0.001*\"act\" + 0.001*\"google\" + 0.001*\"privacy\" + 0.001*\"court\" + 0.001*\"search\" + 0.001*\"china\"\n",
      "\n",
      "📅 Year: 2023.0\n",
      "🔹 LDA Topics for 2023.0 (topics=10):\n",
      "Topic 0: 0.003*\"mccauley\" + 0.002*\"tasha\" + 0.000*\"toner\" + 0.000*\"ouster\" + 0.000*\"angelo\" + 0.000*\"board\" + 0.000*\"brockman\" + 0.000*\"altman\" + 0.000*\"configuration\" + 0.000*\"helen\"\n",
      "Topic 1: 0.007*\"court\" + 0.006*\"judge\" + 0.006*\"deepfake\" + 0.004*\"alibaba\" + 0.004*\"sir\" + 0.004*\"patent\" + 0.004*\"shutterstock\" + 0.004*\"artist\" + 0.003*\"ernie\" + 0.003*\"rating\"\n",
      "Topic 2: 0.001*\"fooled\" + 0.001*\"fool\" + 0.001*\"tradition\" + 0.001*\"cartoon\" + 0.001*\"ben\" + 0.001*\"read\" + 0.000*\"leader\" + 0.000*\"alibaba\" + 0.000*\"molecule\" + 0.000*\"chatgpt\"\n",
      "Topic 3: 0.007*\"hank\" + 0.000*\"referenced\" + 0.000*\"movie\" + 0.000*\"film\" + 0.000*\"illusion\" + 0.000*\"filmmaker\" + 0.000*\"likeness\" + 0.000*\"presenter\" + 0.000*\"actor\" + 0.000*\"zero\"\n",
      "Topic 4: 0.003*\"model\" + 0.002*\"google\" + 0.002*\"data\" + 0.002*\"image\" + 0.002*\"said\" + 0.002*\"chatgpt\" + 0.002*\"openai\" + 0.002*\"customer\" + 0.002*\"user\" + 0.002*\"tool\"\n",
      "Topic 5: 0.025*\"bing\" + 0.015*\"window\" + 0.014*\"feature\" + 0.010*\"copilot\" + 0.009*\"claude\" + 0.009*\"search\" + 0.008*\"app\" + 0.008*\"microsoft\" + 0.007*\"io\" + 0.007*\"browser\"\n",
      "Topic 6: 0.009*\"beatles\" + 0.009*\"mccartney\" + 0.007*\"mozilla\" + 0.006*\"opera\" + 0.005*\"lennon\" + 0.004*\"farmer\" + 0.003*\"john\" + 0.003*\"podcast\" + 0.003*\"paul\" + 0.002*\"song\"\n",
      "Topic 7: 0.040*\"music\" + 0.024*\"song\" + 0.015*\"artist\" + 0.010*\"drake\" + 0.008*\"spotify\" + 0.007*\"musician\" + 0.007*\"track\" + 0.006*\"voice\" + 0.006*\"vocal\" + 0.005*\"lyric\"\n",
      "Topic 8: 0.022*\"strike\" + 0.021*\"actor\" + 0.018*\"writer\" + 0.014*\"film\" + 0.013*\"hollywood\" + 0.011*\"studio\" + 0.010*\"union\" + 0.010*\"sag\" + 0.009*\"guild\" + 0.007*\"wga\"\n",
      "Topic 9: 0.026*\"adobe\" + 0.013*\"firefly\" + 0.008*\"photoshop\" + 0.003*\"illustrator\" + 0.001*\"vector\" + 0.001*\"fill\" + 0.000*\"dutch\" + 0.000*\"upload\" + 0.000*\"exclude\" + 0.000*\"photograph\"\n",
      "\n",
      "📅 Year: 2024.0\n",
      "🔹 LDA Topics for 2024.0 (topics=10):\n",
      "Topic 0: 0.007*\"iceland\" + 0.000*\"forbes\" + 0.000*\"enjoyed\" + 0.000*\"perplexity\" + 0.000*\"corp\" + 0.000*\"cambridgeshire\" + 0.000*\"tourist\" + 0.000*\"fromthe\" + 0.000*\"tower\" + 0.000*\"confrontation\"\n",
      "Topic 1: 0.023*\"patient\" + 0.015*\"cancer\" + 0.013*\"hospital\" + 0.012*\"treatment\" + 0.012*\"student\" + 0.011*\"bbc\" + 0.009*\"trial\" + 0.008*\"heart\" + 0.007*\"disease\" + 0.007*\"health\"\n",
      "Topic 2: 0.013*\"music\" + 0.011*\"voice\" + 0.010*\"artist\" + 0.010*\"film\" + 0.010*\"game\" + 0.007*\"video\" + 0.007*\"song\" + 0.006*\"actor\" + 0.005*\"studio\" + 0.005*\"glass\"\n",
      "Topic 3: 0.004*\"simulator\" + 0.001*\"cartoon\" + 0.000*\"pin\" + 0.000*\"humane\" + 0.000*\"palm\" + 0.000*\"slack\" + 0.000*\"shaping\" + 0.000*\"gadget\" + 0.000*\"hello\" + 0.000*\"pierce\"\n",
      "Topic 4: 0.007*\"bat\" + 0.005*\"leisure\" + 0.002*\"attendance\" + 0.002*\"fingerprint\" + 0.001*\"box\" + 0.001*\"collision\" + 0.001*\"chang\" + 0.000*\"gelsinger\" + 0.000*\"paste\" + 0.000*\"connector\"\n",
      "Topic 5: 0.003*\"said\" + 0.002*\"data\" + 0.002*\"bbc\" + 0.002*\"image\" + 0.002*\"people\" + 0.002*\"government\" + 0.002*\"model\" + 0.002*\"firm\" + 0.002*\"say\" + 0.002*\"technology\"\n",
      "Topic 6: 0.004*\"notebooklm\" + 0.003*\"notebook\" + 0.003*\"quora\" + 0.001*\"angelo\" + 0.001*\"vox\" + 0.001*\"bret\" + 0.000*\"dubbing\" + 0.000*\"translator\" + 0.000*\"versa\" + 0.000*\"polished\"\n",
      "Topic 7: 0.005*\"protein\" + 0.005*\"snake\" + 0.004*\"gemma\" + 0.003*\"opus\" + 0.003*\"jumper\" + 0.002*\"hassabis\" + 0.002*\"baker\" + 0.001*\"adaptation\" + 0.001*\"lifetime\" + 0.000*\"sonnet\"\n",
      "Topic 8: 0.024*\"apple\" + 0.016*\"feature\" + 0.016*\"google\" + 0.014*\"search\" + 0.013*\"gemini\" + 0.012*\"copilot\" + 0.008*\"window\" + 0.008*\"user\" + 0.007*\"iphone\" + 0.006*\"perplexity\"\n",
      "Topic 9: 0.006*\"wiener\" + 0.006*\"bezos\" + 0.000*\"veto\" + 0.000*\"newsom\" + 0.000*\"alignment\" + 0.000*\"chang\" + 0.000*\"federighi\" + 0.000*\"chamber\" + 0.000*\"bill\" + 0.000*\"neighbor\"\n",
      "\n",
      "📅 Year: 2025.0\n",
      "🔹 LDA Topics for 2025.0 (topics=10):\n",
      "Topic 0: 0.008*\"lens\" + 0.006*\"radiologist\" + 0.005*\"imaging\" + 0.004*\"volunteer\" + 0.004*\"recap\" + 0.002*\"snap\" + 0.002*\"bytedance\" + 0.002*\"recall\" + 0.001*\"deepfake\" + 0.001*\"enters\"\n",
      "Topic 1: 0.008*\"episode\" + 0.007*\"lightning\" + 0.006*\"verge\" + 0.005*\"overcast\" + 0.005*\"applepodcasts\" + 0.004*\"talk\" + 0.004*\"discus\" + 0.004*\"listen\" + 0.003*\"hotline\" + 0.003*\"nilay\"\n",
      "Topic 2: 0.012*\"chip\" + 0.009*\"china\" + 0.008*\"tariff\" + 0.006*\"deepseek\" + 0.005*\"stock\" + 0.005*\"market\" + 0.004*\"trade\" + 0.004*\"trump\" + 0.004*\"export\" + 0.004*\"nvidia\"\n",
      "Topic 3: 0.015*\"rtx\" + 0.011*\"blackwell\" + 0.008*\"digit\" + 0.008*\"nvidia\" + 0.006*\"gpu\" + 0.006*\"grace\" + 0.005*\"dgx\" + 0.005*\"gpus\" + 0.005*\"mac\" + 0.004*\"memory\"\n",
      "Topic 4: 0.002*\"data\" + 0.002*\"model\" + 0.002*\"musk\" + 0.002*\"openai\" + 0.002*\"said\" + 0.002*\"government\" + 0.002*\"meta\" + 0.002*\"people\" + 0.002*\"trump\" + 0.002*\"system\"\n",
      "Topic 5: 0.025*\"model\" + 0.019*\"reasoning\" + 0.015*\"benchmark\" + 0.015*\"gpt\" + 0.009*\"mini\" + 0.008*\"llama\" + 0.008*\"coding\" + 0.007*\"hugging\" + 0.007*\"token\" + 0.007*\"openai\"\n",
      "Topic 6: 0.015*\"google\" + 0.014*\"gemini\" + 0.013*\"feature\" + 0.012*\"apple\" + 0.011*\"search\" + 0.010*\"copilot\" + 0.010*\"user\" + 0.008*\"image\" + 0.007*\"chatgpt\" + 0.006*\"alexa\"\n",
      "Topic 7: 0.011*\"reactor\" + 0.007*\"arc\" + 0.005*\"constellation\" + 0.004*\"plant\" + 0.003*\"tv\" + 0.002*\"netflix\" + 0.002*\"lens\" + 0.002*\"pixel\" + 0.002*\"restart\" + 0.001*\"glass\"\n",
      "Topic 8: 0.003*\"cartoon\" + 0.003*\"rubio\" + 0.002*\"workshop\" + 0.001*\"marco\" + 0.001*\"ben\" + 0.001*\"pressed\" + 0.001*\"stephen\" + 0.001*\"please\" + 0.001*\"starmer\" + 0.001*\"button\"\n",
      "Topic 9: 0.005*\"runway\" + 0.005*\"watermark\" + 0.003*\"zoom\" + 0.003*\"receipt\" + 0.002*\"watermarking\" + 0.001*\"dismiss\" + 0.001*\"metadata\" + 0.001*\"companion\" + 0.001*\"workplace\" + 0.001*\"fought\"\n"
     ]
    }
   ],
   "execution_count": 13
  },
  {
   "metadata": {},
   "cell_type": "code",
   "outputs": [],
   "execution_count": null,
   "source": "",
   "id": "2a863c1d5b6ffa6a"
  }
 ],
 "metadata": {
  "kernelspec": {
   "display_name": "Python 3",
   "language": "python",
   "name": "python3"
  },
  "language_info": {
   "codemirror_mode": {
    "name": "ipython",
    "version": 2
   },
   "file_extension": ".py",
   "mimetype": "text/x-python",
   "name": "python",
   "nbconvert_exporter": "python",
   "pygments_lexer": "ipython2",
   "version": "2.7.6"
  }
 },
 "nbformat": 4,
 "nbformat_minor": 5
}
