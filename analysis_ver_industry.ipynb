{
 "cells": [
  {
   "metadata": {},
   "cell_type": "markdown",
   "source": "# 1. 2022년 12월 기준 이후 데이터만 모으기",
   "id": "8d34461bec6d26fb"
  },
  {
   "metadata": {
    "ExecuteTime": {
     "end_time": "2025-07-30T11:03:49.529246Z",
     "start_time": "2025-07-30T11:03:48.551518Z"
    }
   },
   "cell_type": "code",
   "source": [
    "import pandas as pd\n",
    "\n",
    "acad=pd.read_csv('data/02_journal_2020_2025.csv')\n",
    "indu=pd.read_csv('data/04_article_2020_2025.csv')"
   ],
   "id": "d6a7453ec32520a5",
   "outputs": [],
   "execution_count": 13
  },
  {
   "metadata": {
    "ExecuteTime": {
     "end_time": "2025-07-30T11:03:49.587572Z",
     "start_time": "2025-07-30T11:03:49.569494Z"
    }
   },
   "cell_type": "code",
   "source": "acad.info()",
   "id": "5d2945ca474810ad",
   "outputs": [
    {
     "name": "stdout",
     "output_type": "stream",
     "text": [
      "<class 'pandas.core.frame.DataFrame'>\n",
      "RangeIndex: 6780 entries, 0 to 6779\n",
      "Data columns (total 6 columns):\n",
      " #   Column        Non-Null Count  Dtype \n",
      "---  ------        --------------  ----- \n",
      " 0   title         6780 non-null   object\n",
      " 1   date          6780 non-null   int64 \n",
      " 2   abstract      6780 non-null   object\n",
      " 3   keywords      6780 non-null   object\n",
      " 4   authors       6774 non-null   object\n",
      " 5   affiliations  6780 non-null   object\n",
      "dtypes: int64(1), object(5)\n",
      "memory usage: 317.9+ KB\n"
     ]
    }
   ],
   "execution_count": 14
  },
  {
   "metadata": {
    "ExecuteTime": {
     "end_time": "2025-07-30T11:03:49.605186Z",
     "start_time": "2025-07-30T11:03:49.600482Z"
    }
   },
   "cell_type": "code",
   "source": "indu.info()",
   "id": "3e335b7d0f5e94c2",
   "outputs": [
    {
     "name": "stdout",
     "output_type": "stream",
     "text": [
      "<class 'pandas.core.frame.DataFrame'>\n",
      "RangeIndex: 14032 entries, 0 to 14031\n",
      "Data columns (total 5 columns):\n",
      " #   Column        Non-Null Count  Dtype  \n",
      "---  ------        --------------  -----  \n",
      " 0   title         14032 non-null  object \n",
      " 1   content       14032 non-null  object \n",
      " 2   date          14032 non-null  float64\n",
      " 3   affiliations  14032 non-null  object \n",
      " 4   keywords      7604 non-null   object \n",
      "dtypes: float64(1), object(4)\n",
      "memory usage: 548.3+ KB\n"
     ]
    }
   ],
   "execution_count": 15
  },
  {
   "cell_type": "code",
   "id": "initial_id",
   "metadata": {
    "collapsed": true,
    "ExecuteTime": {
     "end_time": "2025-07-30T11:03:49.628112Z",
     "start_time": "2025-07-30T11:03:49.609303Z"
    }
   },
   "source": [
    "# year 컬럼이 2023, 2024, 2025인 데이터만 선택\n",
    "academia = acad[acad['date'].isin((2023, 2024, 2025))]\n",
    "industry=indu[indu['date'].isin((2023, 2024, 2025))]\n",
    "\n",
    "print(academia.value_counts(subset=['date']))\n",
    "print(industry.value_counts(subset=['date']))"
   ],
   "outputs": [
    {
     "name": "stdout",
     "output_type": "stream",
     "text": [
      "date\n",
      "2024    1275\n",
      "2023    1210\n",
      "2025     724\n",
      "Name: count, dtype: int64\n",
      "date  \n",
      "2024.0    4471\n",
      "2023.0    3604\n",
      "2025.0    3597\n",
      "Name: count, dtype: int64\n"
     ]
    }
   ],
   "execution_count": 16
  },
  {
   "metadata": {
    "ExecuteTime": {
     "end_time": "2025-07-30T11:03:49.925834Z",
     "start_time": "2025-07-30T11:03:49.919147Z"
    }
   },
   "cell_type": "code",
   "source": [
    "print(academia.value_counts(subset=['affiliations']))\n",
    "print(industry.value_counts(subset=['affiliations']))"
   ],
   "id": "80f8dcdee145bfe",
   "outputs": [
    {
     "name": "stdout",
     "output_type": "stream",
     "text": [
      "affiliations\n",
      "HICSS           2098\n",
      "ICIS             822\n",
      "ISR              149\n",
      "MISQ             140\n",
      "Name: count, dtype: int64\n",
      "affiliations       \n",
      "techcrunch             2748\n",
      "verge                  2328\n",
      "the guardian           2128\n",
      "BBC                    1363\n",
      "Wall Street Journal     789\n",
      "New York Times          751\n",
      "Techcrunch              645\n",
      "the_verge               531\n",
      "CNN                     389\n",
      "Name: count, dtype: int64\n"
     ]
    }
   ],
   "execution_count": 17
  },
  {
   "metadata": {
    "ExecuteTime": {
     "end_time": "2025-07-30T11:03:51.314920Z",
     "start_time": "2025-07-30T11:03:50.716081Z"
    }
   },
   "cell_type": "code",
   "source": [
    "academia.to_csv('data/03_journal_2023_2025.csv', index=False, encoding='utf-8')\n",
    "industry.to_csv('data/05_article_2023_2025.csv', index=False, encoding='utf-8')"
   ],
   "id": "c9a23b7c6b625e3f",
   "outputs": [],
   "execution_count": 18
  },
  {
   "metadata": {},
   "cell_type": "markdown",
   "source": "# 2. 토픽모델링",
   "id": "2849ae71af6097ff"
  },
  {
   "metadata": {
    "ExecuteTime": {
     "end_time": "2025-08-04T05:41:34.264590Z",
     "start_time": "2025-08-04T05:41:33.811156Z"
    }
   },
   "cell_type": "code",
   "source": [
    "import pandas as pd\n",
    "\n",
    "# academia=pd.read_csv('data/03_journal_2023_2025.csv')\n",
    "industry=pd.read_csv('data/05_article_2023_2025.csv')"
   ],
   "id": "5bf57acf9f407ec3",
   "outputs": [],
   "execution_count": 6
  },
  {
   "metadata": {
    "ExecuteTime": {
     "end_time": "2025-08-04T05:41:35.003328Z",
     "start_time": "2025-08-04T05:41:34.994016Z"
    }
   },
   "cell_type": "code",
   "source": [
    "import re\n",
    "import pandas as pd\n",
    "from bs4 import BeautifulSoup\n",
    "from nltk.tokenize import word_tokenize\n",
    "from nltk.corpus import stopwords\n",
    "from nltk import pos_tag\n",
    "from nltk.stem import WordNetLemmatizer\n",
    "\n",
    "from gensim.corpora import Dictionary\n",
    "from gensim.models import TfidfModel, LdaModel\n",
    "\n",
    "def preprocess_text(text):\n",
    "    \"\"\"문자열 → 토큰화 → 불용어·특수문자 제거 → 표제어 추출.\"\"\"\n",
    "    if pd.isnull(text):\n",
    "        return []\n",
    "    if isinstance(text, list):\n",
    "        text = ' '.join(text)\n",
    "    if isinstance(text, str) and ('<' in text and '>' in text):\n",
    "        text = BeautifulSoup(text, \"html.parser\").get_text()\n",
    "    text = re.sub(r\"\\$.*?\\$\", \"\", text)\n",
    "    text = re.sub(r\"\\\\\\(.*?\\\\\\)\", \"\", text)\n",
    "    text = re.sub(r\"[^a-zA-Z\\s]\", \" \", text)\n",
    "    text = text.lower()\n",
    "\n",
    "    tokens = word_tokenize(text)\n",
    "    stop_words = set(stopwords.words('english'))\n",
    "    tokens = [w for w in tokens if w not in stop_words and len(w) > 2]\n",
    "\n",
    "    pos_tags = pos_tag(tokens)\n",
    "    allowed = {'NN','NNS','NNP','NNPS','VB','VBD','VBG','VBN','VBP','VBZ'}\n",
    "    filtered = [w for w, pos in pos_tags if pos in allowed]\n",
    "\n",
    "    lemmatizer = WordNetLemmatizer()\n",
    "    return [lemmatizer.lemmatize(w) for w in filtered]\n",
    "\n",
    "def run_lda_tfidf(\n",
    "    df: pd.DataFrame,\n",
    "    text_columns: list,\n",
    "    num_topics: int = 20,\n",
    "    no_below: int = 5,\n",
    "    no_above: float = 0.5,\n",
    "    keep_n: int = 100000,\n",
    "    passes: int = 10,\n",
    "    random_state: int = 42\n",
    "):\n",
    "    \"\"\"\n",
    "    df의 text_columns(예: ['title','content']) 합친 뒤 전처리 → TF-IDF 기반 LDA 수행.\n",
    "\n",
    "    Returns:\n",
    "      lda_model, dictionary, tfidf_model, corpus_tfidf\n",
    "    \"\"\"\n",
    "    # 1. title, content 등 합치기 (null-safe)\n",
    "    combined = df[text_columns].fillna('').agg(' '.join, axis=1)\n",
    "\n",
    "    # 2. 전처리\n",
    "    texts = combined.map(preprocess_text).tolist()\n",
    "\n",
    "    # 3. 사전 생성 및 극단값 필터링\n",
    "    dictionary = Dictionary(texts)\n",
    "    dictionary.filter_extremes(\n",
    "        no_below=no_below,\n",
    "        no_above=no_above,\n",
    "        keep_n=keep_n\n",
    "    )\n",
    "\n",
    "    # 4. BOW 코퍼스 생성\n",
    "    bow_corpus = [dictionary.doc2bow(doc) for doc in texts]\n",
    "\n",
    "    # 5. TF-IDF 모델링\n",
    "    tfidf_model = TfidfModel(bow_corpus, id2word=dictionary)\n",
    "    corpus_tfidf = tfidf_model[bow_corpus]\n",
    "\n",
    "    # 6. LDA 학습\n",
    "    lda_model = LdaModel(\n",
    "        corpus=corpus_tfidf,\n",
    "        id2word=dictionary,\n",
    "        num_topics=num_topics,\n",
    "        passes=passes,\n",
    "        random_state=random_state\n",
    "    )\n",
    "\n",
    "    return lda_model, dictionary, tfidf_model, corpus_tfidf\n",
    "\n"
   ],
   "id": "2935c32a01a145a",
   "outputs": [],
   "execution_count": 7
  },
  {
   "metadata": {
    "ExecuteTime": {
     "end_time": "2025-08-04T05:44:04.108892Z",
     "start_time": "2025-08-04T05:41:37.374895Z"
    }
   },
   "cell_type": "code",
   "source": [
    "# industry 토픽모델링\n",
    "\n",
    "# ─── 사용 예시 ─────────────────────────────────────────────────────────\n",
    "lda_model_in, dictionary_in, tfidf_model_in, corpus_tfidf_in = run_lda_tfidf(\n",
    "    industry,\n",
    "    text_columns=['title', 'content'],\n",
    "    num_topics=20,\n",
    "    no_below=58,\n",
    "    no_above=0.5,\n",
    "    passes=10\n",
    ")\n"
   ],
   "id": "14f1b0c3d3694d1d",
   "outputs": [],
   "execution_count": 8
  },
  {
   "metadata": {
    "ExecuteTime": {
     "end_time": "2025-08-04T05:44:04.170171Z",
     "start_time": "2025-08-04T05:44:04.165428Z"
    }
   },
   "cell_type": "code",
   "source": [
    "for topic_id, terms in lda_model_in.print_topics(num_topics=20, num_words=10):\n",
    "    print(f\"토픽 #{topic_id}: {terms}\")"
   ],
   "id": "3a4ce2b8529e4824",
   "outputs": [
    {
     "name": "stdout",
     "output_type": "stream",
     "text": [
      "토픽 #0: 0.014*\"retention\" + 0.000*\"saas\" + 0.000*\"adobe\" + 0.000*\"accessed\" + 0.000*\"vcs\" + 0.000*\"asserts\" + 0.000*\"roadmap\" + 0.000*\"apis\" + 0.000*\"depending\" + 0.000*\"expression\"\n",
      "토픽 #1: 0.045*\"musk\" + 0.041*\"grok\" + 0.032*\"trump\" + 0.027*\"xai\" + 0.020*\"summit\" + 0.020*\"api\" + 0.018*\"bill\" + 0.017*\"sunak\" + 0.015*\"president\" + 0.013*\"administration\"\n",
      "토픽 #2: 0.058*\"board\" + 0.046*\"altman\" + 0.043*\"openai\" + 0.034*\"workspace\" + 0.029*\"musk\" + 0.027*\"murati\" + 0.025*\"profit\" + 0.021*\"brockman\" + 0.019*\"sutskever\" + 0.018*\"suleyman\"\n",
      "토픽 #3: 0.101*\"adobe\" + 0.050*\"firefly\" + 0.025*\"photoshop\" + 0.023*\"quantum\" + 0.009*\"texture\" + 0.007*\"adventure\" + 0.006*\"object\" + 0.004*\"scaled\" + 0.002*\"dataset\" + 0.001*\"blur\"\n",
      "토픽 #4: 0.067*\"hinton\" + 0.041*\"headset\" + 0.027*\"godfather\" + 0.023*\"lecun\" + 0.021*\"shortcut\" + 0.019*\"geoffrey\" + 0.013*\"yann\" + 0.005*\"prize\" + 0.003*\"intelligent\" + 0.002*\"architecture\"\n",
      "토픽 #5: 0.028*\"intel\" + 0.016*\"core\" + 0.014*\"wallet\" + 0.011*\"configuration\" + 0.010*\"inch\" + 0.009*\"amd\" + 0.009*\"processor\" + 0.007*\"laptop\" + 0.005*\"chip\" + 0.002*\"qualcomm\"\n",
      "토픽 #6: 0.028*\"headcount\" + 0.027*\"github\" + 0.020*\"documentation\" + 0.016*\"vcs\" + 0.011*\"allege\" + 0.002*\"violates\" + 0.001*\"repository\" + 0.000*\"demonstrate\" + 0.000*\"tellsthe\" + 0.000*\"benchmarking\"\n",
      "토픽 #7: 0.014*\"cartoon\" + 0.004*\"ben\" + 0.000*\"industry\" + 0.000*\"tradition\" + 0.000*\"ftc\" + 0.000*\"shaping\" + 0.000*\"signatory\" + 0.000*\"stock\" + 0.000*\"energy\" + 0.000*\"trump\"\n",
      "토픽 #8: 0.047*\"johansson\" + 0.035*\"databricks\" + 0.028*\"weather\" + 0.016*\"pirated\" + 0.015*\"forecast\" + 0.014*\"scarlett\" + 0.011*\"forecasting\" + 0.010*\"coin\" + 0.008*\"authored\" + 0.007*\"dataset\"\n",
      "토픽 #9: 0.032*\"image\" + 0.026*\"meta\" + 0.025*\"election\" + 0.021*\"child\" + 0.020*\"deepfakes\" + 0.017*\"deepfake\" + 0.016*\"generated\" + 0.015*\"content\" + 0.015*\"facebook\" + 0.014*\"abuse\"\n",
      "토픽 #10: 0.078*\"patient\" + 0.053*\"cancer\" + 0.039*\"hospital\" + 0.032*\"health\" + 0.032*\"treatment\" + 0.029*\"doctor\" + 0.025*\"disease\" + 0.024*\"nh\" + 0.021*\"gmail\" + 0.020*\"diagnosis\"\n",
      "토픽 #11: 0.102*\"student\" + 0.050*\"teacher\" + 0.041*\"beta\" + 0.039*\"school\" + 0.036*\"education\" + 0.022*\"university\" + 0.019*\"educator\" + 0.018*\"exam\" + 0.017*\"cto\" + 0.016*\"desktop\"\n",
      "토픽 #12: 0.002*\"data\" + 0.002*\"technology\" + 0.002*\"government\" + 0.002*\"system\" + 0.002*\"job\" + 0.002*\"openai\" + 0.002*\"meta\" + 0.002*\"think\" + 0.002*\"research\" + 0.002*\"work\"\n",
      "토픽 #13: 0.075*\"apple\" + 0.023*\"io\" + 0.022*\"iphone\" + 0.020*\"samsung\" + 0.017*\"siri\" + 0.017*\"phone\" + 0.016*\"device\" + 0.016*\"actor\" + 0.015*\"film\" + 0.014*\"strike\"\n",
      "토픽 #14: 0.000*\"chip\" + 0.000*\"stock\" + 0.000*\"water\" + 0.000*\"energy\" + 0.000*\"china\" + 0.000*\"suspended\" + 0.000*\"expanded\" + 0.000*\"endeavor\" + 0.000*\"completion\" + 0.000*\"blueprint\"\n",
      "토픽 #15: 0.027*\"publisher\" + 0.025*\"copyright\" + 0.023*\"lawsuit\" + 0.022*\"author\" + 0.019*\"copyrighted\" + 0.016*\"book\" + 0.015*\"court\" + 0.014*\"artist\" + 0.013*\"news\" + 0.013*\"stability\"\n",
      "토픽 #16: 0.020*\"tory\" + 0.000*\"organised\" + 0.000*\"saturday\" + 0.000*\"centred\" + 0.000*\"commented\" + 0.000*\"assured\" + 0.000*\"connecting\" + 0.000*\"mp\" + 0.000*\"bbc\" + 0.000*\"fault\"\n",
      "토픽 #17: 0.015*\"google\" + 0.012*\"gemini\" + 0.012*\"search\" + 0.011*\"feature\" + 0.010*\"user\" + 0.010*\"copilot\" + 0.008*\"image\" + 0.007*\"bbc\" + 0.006*\"chatgpt\" + 0.006*\"app\"\n",
      "토픽 #18: 0.036*\"chip\" + 0.018*\"china\" + 0.015*\"energy\" + 0.014*\"stock\" + 0.013*\"nvidia\" + 0.012*\"center\" + 0.012*\"deepseek\" + 0.011*\"tariff\" + 0.011*\"market\" + 0.009*\"huang\"\n",
      "토픽 #19: 0.032*\"snapdragon\" + 0.023*\"ram\" + 0.023*\"rumored\" + 0.018*\"qualcomm\" + 0.013*\"port\" + 0.011*\"timer\" + 0.005*\"processor\" + 0.000*\"spec\" + 0.000*\"ce\" + 0.000*\"vertical\"\n"
     ]
    }
   ],
   "execution_count": 9
  },
  {
   "metadata": {
    "ExecuteTime": {
     "end_time": "2025-08-04T05:30:35.406072Z",
     "start_time": "2025-08-04T05:30:31.625268Z"
    }
   },
   "cell_type": "code",
   "source": [
    "# (2) Gensim 객체 저장\n",
    "dictionary_in.save('data/industry_dictionary.dict')\n",
    "tfidf_model_in.save('data/industry_tfidf.model')\n",
    "lda_model_in.save('data/industry_lda.model')\n",
    "\n",
    "# (3) 문서별 토픽 분포 계산 및 저장\n",
    "topic_dist = []\n",
    "for doc_id, doc_tfidf in enumerate(corpus_tfidf_in):\n",
    "    doc_topics = dict(lda_model_in.get_document_topics(doc_tfidf, minimum_probability=0))\n",
    "    doc_topics['doc_id'] = doc_id\n",
    "    topic_dist.append(doc_topics)\n",
    "\n",
    "topic_dist_df = pd.DataFrame(topic_dist)\n",
    "cols = ['doc_id'] + [c for c in topic_dist_df.columns if c != 'doc_id']\n",
    "topic_dist_df = topic_dist_df[cols]\n",
    "topic_dist_df.to_csv('data/industry_topic_distribution.csv', index=False)\n",
    "\n",
    "print(\"■ 모델 및 토픽 분포 저장 완료\")"
   ],
   "id": "7be7c489ccda77aa",
   "outputs": [
    {
     "name": "stdout",
     "output_type": "stream",
     "text": [
      "■ 모델 및 토픽 분포 저장 완료\n"
     ]
    }
   ],
   "execution_count": 12
  },
  {
   "metadata": {
    "ExecuteTime": {
     "end_time": "2025-07-30T11:49:08.254509Z",
     "start_time": "2025-07-30T11:48:56.105825Z"
    }
   },
   "cell_type": "code",
   "outputs": [],
   "execution_count": 5,
   "source": [
    "# academia 토픽모델링\n",
    "# ─── 사용 예시 ─────────────────────────────────────────────────────────\n",
    "lda_model, dictionary, tfidf_model, corpus_tfidf = run_lda_tfidf(\n",
    "    academia,\n",
    "    text_columns=['title', 'abstract'],\n",
    "    num_topics=20,\n",
    "    no_below=16,\n",
    "    no_above=0.5,\n",
    "    passes=10\n",
    ")\n"
   ],
   "id": "2a620ffe18cb600e"
  },
  {
   "metadata": {
    "ExecuteTime": {
     "end_time": "2025-07-30T11:49:08.277655Z",
     "start_time": "2025-07-30T11:49:08.274557Z"
    }
   },
   "cell_type": "code",
   "outputs": [
    {
     "name": "stdout",
     "output_type": "stream",
     "text": [
      "토픽 #0: 0.075*\"xai\" + 0.067*\"aversion\" + 0.041*\"loyalty\" + 0.034*\"trade\" + 0.010*\"offs\" + 0.004*\"incorporated\" + 0.003*\"automate\" + 0.002*\"debate\" + 0.002*\"forecasting\" + 0.001*\"utility\"\n",
      "토픽 #1: 0.006*\"data\" + 0.006*\"system\" + 0.005*\"model\" + 0.005*\"learning\" + 0.005*\"research\" + 0.005*\"design\" + 0.004*\"information\" + 0.004*\"technology\" + 0.004*\"work\" + 0.004*\"health\"\n",
      "토픽 #2: 0.022*\"medium\" + 0.015*\"brand\" + 0.015*\"news\" + 0.014*\"disclosure\" + 0.014*\"influencers\" + 0.013*\"engagement\" + 0.013*\"user\" + 0.011*\"leadership\" + 0.010*\"intention\" + 0.010*\"privacy\"\n",
      "토픽 #3: 0.033*\"robot\" + 0.018*\"metaverse\" + 0.016*\"nudge\" + 0.015*\"attack\" + 0.013*\"power\" + 0.012*\"grid\" + 0.012*\"prompt\" + 0.010*\"cyber\" + 0.010*\"confidence\" + 0.009*\"protection\"\n",
      "토픽 #4: 0.035*\"personality\" + 0.034*\"woman\" + 0.032*\"trait\" + 0.031*\"gender\" + 0.029*\"disability\" + 0.019*\"message\" + 0.018*\"engaging\" + 0.017*\"week\" + 0.017*\"contributor\" + 0.016*\"hope\"\n",
      "토픽 #5: 0.085*\"genai\" + 0.042*\"gai\" + 0.039*\"creativity\" + 0.032*\"delegation\" + 0.021*\"literacy\" + 0.021*\"overview\" + 0.018*\"scoping\" + 0.017*\"public\" + 0.017*\"thinking\" + 0.016*\"format\"\n",
      "토픽 #6: 0.191*\"llm\" + 0.026*\"household\" + 0.025*\"discrimination\" + 0.023*\"campaign\" + 0.022*\"prompting\" + 0.019*\"participating\" + 0.017*\"dilemma\" + 0.016*\"language\" + 0.011*\"coding\" + 0.007*\"causing\"\n",
      "토픽 #7: 0.058*\"startup\" + 0.026*\"request\" + 0.024*\"biased\" + 0.021*\"decline\" + 0.019*\"duration\" + 0.013*\"speed\" + 0.009*\"buyer\" + 0.009*\"pricing\" + 0.007*\"welfare\" + 0.005*\"get\"\n",
      "토픽 #8: 0.015*\"innovation\" + 0.012*\"ecosystem\" + 0.010*\"business\" + 0.009*\"value\" + 0.009*\"platform\" + 0.009*\"service\" + 0.009*\"data\" + 0.008*\"organization\" + 0.008*\"governance\" + 0.008*\"firm\"\n",
      "토픽 #9: 0.071*\"energy\" + 0.056*\"esports\" + 0.040*\"fault\" + 0.031*\"electricity\" + 0.029*\"authenticity\" + 0.025*\"power\" + 0.021*\"travel\" + 0.017*\"sustained\" + 0.016*\"instantiation\" + 0.012*\"trajectory\"\n",
      "토픽 #10: 0.054*\"disaster\" + 0.030*\"partnership\" + 0.027*\"bank\" + 0.020*\"rule\" + 0.016*\"release\" + 0.001*\"component\" + 0.001*\"internet\" + 0.001*\"composition\" + 0.001*\"viability\" + 0.001*\"portfolio\"\n",
      "토픽 #11: 0.069*\"smes\" + 0.064*\"comment\" + 0.029*\"youtube\" + 0.027*\"sized\" + 0.024*\"exploitation\" + 0.017*\"resistance\" + 0.014*\"generator\" + 0.009*\"labor\" + 0.005*\"informed\" + 0.004*\"minimize\"\n",
      "토픽 #12: 0.093*\"chatbots\" + 0.057*\"chatbot\" + 0.045*\"advice\" + 0.034*\"powered\" + 0.026*\"trial\" + 0.020*\"anxiety\" + 0.017*\"worldwide\" + 0.014*\"coverage\" + 0.010*\"debate\" + 0.007*\"expectation\"\n",
      "토픽 #13: 0.100*\"breach\" + 0.047*\"stability\" + 0.034*\"prevention\" + 0.016*\"visibility\" + 0.016*\"fall\" + 0.011*\"incident\" + 0.007*\"absence\" + 0.005*\"agile\" + 0.004*\"vulnerability\" + 0.003*\"conceptualizing\"\n",
      "토픽 #14: 0.054*\"gaming\" + 0.033*\"legacy\" + 0.031*\"logistics\" + 0.026*\"incentive\" + 0.021*\"frame\" + 0.020*\"sought\" + 0.020*\"reward\" + 0.014*\"motivate\" + 0.014*\"scheme\" + 0.012*\"player\"\n",
      "토픽 #15: 0.037*\"consumer\" + 0.030*\"product\" + 0.023*\"creator\" + 0.021*\"platform\" + 0.020*\"sale\" + 0.019*\"streaming\" + 0.019*\"maturity\" + 0.017*\"seller\" + 0.017*\"commerce\" + 0.014*\"viewer\"\n",
      "토픽 #16: 0.010*\"customer\" + 0.009*\"image\" + 0.008*\"market\" + 0.006*\"platform\" + 0.006*\"gamification\" + 0.006*\"effect\" + 0.006*\"crowdfunding\" + 0.006*\"product\" + 0.005*\"sentiment\" + 0.005*\"review\"\n",
      "토픽 #17: 0.034*\"default\" + 0.023*\"extraction\" + 0.017*\"robustness\" + 0.013*\"sensitivity\" + 0.008*\"extracted\" + 0.007*\"website\" + 0.005*\"one\" + 0.004*\"achieves\" + 0.002*\"discrimination\" + 0.001*\"stock\"\n",
      "토픽 #18: 0.098*\"game\" + 0.057*\"player\" + 0.034*\"vehicle\" + 0.021*\"segment\" + 0.020*\"constructed\" + 0.015*\"moderation\" + 0.007*\"car\" + 0.007*\"classifier\" + 0.006*\"character\" + 0.006*\"determination\"\n",
      "토픽 #19: 0.052*\"disruption\" + 0.036*\"framing\" + 0.028*\"victim\" + 0.017*\"reflected\" + 0.010*\"inspired\" + 0.005*\"navigate\" + 0.005*\"decline\" + 0.004*\"observe\" + 0.001*\"session\" + 0.001*\"compromise\"\n"
     ]
    }
   ],
   "execution_count": 6,
   "source": [
    "for topic_id, terms in lda_model.print_topics(num_topics=20, num_words=10):\n",
    "    print(f\"토픽 #{topic_id}: {terms}\")"
   ],
   "id": "32111e145558945f"
  },
  {
   "metadata": {
    "ExecuteTime": {
     "end_time": "2025-07-30T11:49:11.990692Z",
     "start_time": "2025-07-30T11:49:11.965898Z"
    }
   },
   "cell_type": "code",
   "source": "academia.info()",
   "id": "e101886180d66236",
   "outputs": [
    {
     "name": "stdout",
     "output_type": "stream",
     "text": [
      "<class 'pandas.core.frame.DataFrame'>\n",
      "RangeIndex: 3209 entries, 0 to 3208\n",
      "Data columns (total 6 columns):\n",
      " #   Column        Non-Null Count  Dtype \n",
      "---  ------        --------------  ----- \n",
      " 0   title         3209 non-null   object\n",
      " 1   date          3209 non-null   int64 \n",
      " 2   abstract      3209 non-null   object\n",
      " 3   keywords      3209 non-null   object\n",
      " 4   authors       3209 non-null   object\n",
      " 5   affiliations  3209 non-null   object\n",
      "dtypes: int64(1), object(5)\n",
      "memory usage: 150.6+ KB\n"
     ]
    }
   ],
   "execution_count": 8
  },
  {
   "metadata": {
    "ExecuteTime": {
     "end_time": "2025-07-30T11:49:13.120800Z",
     "start_time": "2025-07-30T11:49:13.067295Z"
    }
   },
   "cell_type": "code",
   "source": "industry.info()",
   "id": "700354c3ea75c7ac",
   "outputs": [
    {
     "name": "stdout",
     "output_type": "stream",
     "text": [
      "<class 'pandas.core.frame.DataFrame'>\n",
      "RangeIndex: 11672 entries, 0 to 11671\n",
      "Data columns (total 5 columns):\n",
      " #   Column        Non-Null Count  Dtype  \n",
      "---  ------        --------------  -----  \n",
      " 0   title         11672 non-null  object \n",
      " 1   content       11672 non-null  object \n",
      " 2   date          11672 non-null  float64\n",
      " 3   affiliations  11672 non-null  object \n",
      " 4   keywords      6252 non-null   object \n",
      "dtypes: float64(1), object(4)\n",
      "memory usage: 456.1+ KB\n"
     ]
    }
   ],
   "execution_count": 9
  },
  {
   "metadata": {},
   "cell_type": "markdown",
   "source": "# 3. 키워드 기반 type 1,2,3 분류 방법 모색",
   "id": "fc866cdddeed554b"
  },
  {
   "metadata": {
    "ExecuteTime": {
     "end_time": "2025-07-30T11:49:20.205897Z",
     "start_time": "2025-07-30T11:49:20.145865Z"
    }
   },
   "cell_type": "code",
   "source": [
    "import pandas as pd\n",
    "df=pd.read_csv('data/03_journal_2023_2025.csv')\n",
    "df.info()"
   ],
   "id": "a94f78e00bb2b249",
   "outputs": [
    {
     "name": "stdout",
     "output_type": "stream",
     "text": [
      "<class 'pandas.core.frame.DataFrame'>\n",
      "RangeIndex: 3209 entries, 0 to 3208\n",
      "Data columns (total 6 columns):\n",
      " #   Column        Non-Null Count  Dtype \n",
      "---  ------        --------------  ----- \n",
      " 0   title         3209 non-null   object\n",
      " 1   date          3209 non-null   int64 \n",
      " 2   abstract      3209 non-null   object\n",
      " 3   keywords      3209 non-null   object\n",
      " 4   authors       3209 non-null   object\n",
      " 5   affiliations  3209 non-null   object\n",
      "dtypes: int64(1), object(5)\n",
      "memory usage: 150.6+ KB\n"
     ]
    }
   ],
   "execution_count": 10
  },
  {
   "metadata": {
    "ExecuteTime": {
     "end_time": "2025-07-30T11:49:21.214366Z",
     "start_time": "2025-07-30T11:49:21.210436Z"
    }
   },
   "cell_type": "code",
   "source": "print(df['keywords'][:5])",
   "id": "1d1f61baf6338f47",
   "outputs": [
    {
     "name": "stdout",
     "output_type": "stream",
     "text": [
      "0    digital x, IT x, digitalization, digitization,...\n",
      "1    data protection regulation, government policy,...\n",
      "2    personal health management, online healthcare ...\n",
      "3    customer response prediction, voice chat, theo...\n",
      "4    recommendation system, personalization, decoy ...\n",
      "Name: keywords, dtype: object\n"
     ]
    }
   ],
   "execution_count": 11
  },
  {
   "metadata": {
    "ExecuteTime": {
     "end_time": "2025-07-30T11:49:23.296977Z",
     "start_time": "2025-07-30T11:49:22.915335Z"
    }
   },
   "cell_type": "code",
   "source": [
    "import pandas as pd\n",
    "\n",
    "# 1. 데이터 로드\n",
    "input_path = 'data/03_journal_2023_2025.csv'\n",
    "df = pd.read_csv(input_path, encoding='utf-8')\n",
    "\n",
    "# 2. 컬럼 이름 소문자화\n",
    "df.columns = df.columns.str.lower()\n",
    "\n",
    "# 3. 타입별 키워드 리스트 정의 (업데이트)\n",
    "design_terms = [\n",
    "    \"design\", \"algorithm\", \"model\", \"framework\", \"implementation\",\n",
    "    \"design science\", \"it artifact\", \"computational model\", \"predictive analytics\",\n",
    "    \"ablation study\", \"benchmarking\", \"case study\", \"simulation\", \"data quality\",\n",
    "    \"fairness\", \"explainability\", \"transparency\", \"knowledge graph\", \"auto-ml\"\n",
    "]\n",
    "\n",
    "econ_terms = [\n",
    "    \"causal\", \"treatment\", \"effect\", \"econometric\", \"regression\", \"instrument\",\n",
    "    \"causal inference\", \"confounders\", \"heterogeneous effects\", \"personalized intervention\",\n",
    "    \"structural model\", \"point process\", \"mcmc estimation\", \"policy simulation\",\n",
    "    \"counterfactual analysis\", \"aic\", \"bic\", \"out-of-sample validation\"\n",
    "]\n",
    "\n",
    "behavior_terms = [\n",
    "    \"interaction\", \"system\", \"behavior\", \"architecture\", \"learning\", \"ecosystem\",\n",
    "    \"complex systems\", \"emergent behavior\", \"feedback loop\", \"performative prediction\",\n",
    "    \"agent-based modeling\", \"multi-agent system\", \"sociotechnical complexity\", \"environment modeling\",\n",
    "    \"fairness dynamics\", \"autonomy\", \"inscrutability\", \"sociotechnical entanglement\"\n",
    "]\n",
    "\n",
    "others_terms = [\n",
    "    # 이론·문헌 리뷰\n",
    "    \"review\", \"literature review\", \"systematic review\", \"framework\", \"theoretical\",\n",
    "    # 거버넌스·윤리·정책\n",
    "    \"governance\", \"ethics\", \"policy\", \"regulation\", \"compliance\", \"privacy\", \"security\",\n",
    "    # 사용자 수용·채택\n",
    "    \"adoption\", \"acceptance\", \"technology acceptance model\", \"t a m\", \"diffusion\", \"u t a u\",\n",
    "    \"doi\",  # diffusion of innovations\n",
    "    # 질적·설문조사·케이스\n",
    "    \"case study\", \"qualitative\", \"interview\", \"survey\", \"focus group\", \"grounded theory\",\n",
    "    # 리스크·신뢰·관리\n",
    "    \"risk management\", \"trust\", \"transparency dynamics\"\n",
    "]\n",
    "\n",
    "# 4. 스코어 함수 정의\n",
    "def score(text, terms):\n",
    "    text = str(text).lower()\n",
    "    return sum(text.count(term) for term in terms)\n",
    "\n",
    "# 5. 텍스트 결합: title + abstract + keywords\n",
    "df['combined'] = df[['title', 'abstract', 'keywords']].fillna('').agg(' '.join, axis=1)\n",
    "\n",
    "# 6. 타입별 점수 계산\n",
    "df['score1'] = df['combined'].apply(lambda x: score(x, design_terms))\n",
    "df['score2'] = df['combined'].apply(lambda x: score(x, econ_terms))\n",
    "df['score3'] = df['combined'].apply(lambda x: score(x, behavior_terms))\n",
    "df['score4'] = df['combined'].apply(lambda x: score(x, others_terms))\n",
    "\n",
    "# 7. 최댓값 기반 타입 할당 (Type1, Type2, Type3, Others)\n",
    "def assign_type(row):\n",
    "    scores = [\n",
    "        ('Type1', row['score1']),\n",
    "        ('Type2', row['score2']),\n",
    "        ('Type3', row['score3']),\n",
    "        ('Others', row['score4'])\n",
    "    ]\n",
    "    return max(scores, key=lambda x: x[1])[0]\n",
    "\n",
    "df['assigned_type'] = df.apply(assign_type, axis=1)\n",
    "\n",
    "# 8. 결과 미리보기\n",
    "print(df[['title', 'score1', 'score2', 'score3', 'score4', 'assigned_type']].head(20))\n",
    "\n",
    "# 9. 라벨링된 데이터 저장\n",
    "output_path = 'data/03_journal_2023_2025_labeled_with_others.csv'\n",
    "df.to_csv(output_path, index=False, encoding='utf-8')\n",
    "print(f'Labeled dataset saved to {output_path}')"
   ],
   "id": "39a8cf6b81aee9f8",
   "outputs": [
    {
     "name": "stdout",
     "output_type": "stream",
     "text": [
      "                                                title  score1  score2  score3  \\\n",
      "0   Digital “x”?Charting a Path for Digital-Themed...       0       1       2   \n",
      "1   Law, Economics, and Privacy: Implications of G...       2       1       0   \n",
      "2   Spoiled for Choice? Personalized Recommendatio...       6       1       6   \n",
      "3   A Theory-Driven Deep Learning Method for Voice...       2       0       9   \n",
      "4         The Decoy Effect and Recommendation Systems       1      12      11   \n",
      "5   Physical Stores as Warehouses for Online Chann...       3       1       0   \n",
      "6   Expl(AI)ned: The Impact of Explainable Artific...       6       2       7   \n",
      "7   Optional Verification and Signaling in Online ...       1       1       1   \n",
      "8                                  Who’s Watching TV?       3       0       2   \n",
      "9   When Images Backfire: The Effect of Customer-G...       1       8       0   \n",
      "10  Green Data Analytics of Supercomputing from Ma...       7       3       1   \n",
      "11  Extended Generativity Theory on Digital Platforms       0       0      10   \n",
      "12  Which Enemy to Dance with? A New Role of Softw...       2      10       0   \n",
      "13  A Complex Adaptive Systems Perspective of Soft...       2       1       8   \n",
      "14  Numerological Heuristics and Credit Risk in Pe...       0       2       1   \n",
      "15  All External Reference Prices Are Not the Same...       6       3       0   \n",
      "16  Ridesharing and Digital Resilience for Urban A...       2       3       4   \n",
      "17  The Interdependence of Coordination and Cooper...       2       1       5   \n",
      "18  Motion Sensor?Based Fall Prevention for Senior...      18       1       2   \n",
      "19  Improving Convenience or Saving Face? An Empir...       1      10       1   \n",
      "\n",
      "    score4 assigned_type  \n",
      "0        2         Type3  \n",
      "1       11        Others  \n",
      "2        5         Type1  \n",
      "3        0         Type3  \n",
      "4        1         Type2  \n",
      "5        0         Type1  \n",
      "6        1         Type3  \n",
      "7        1         Type1  \n",
      "8        2         Type1  \n",
      "9        4         Type2  \n",
      "10       1         Type1  \n",
      "11       0         Type3  \n",
      "12       1         Type2  \n",
      "13       3         Type3  \n",
      "14       0         Type2  \n",
      "15       0         Type1  \n",
      "16       1         Type3  \n",
      "17       1         Type3  \n",
      "18       6         Type1  \n",
      "19       1         Type2  \n",
      "Labeled dataset saved to data/03_journal_2023_2025_labeled_with_others.csv\n"
     ]
    }
   ],
   "execution_count": 12
  },
  {
   "metadata": {
    "ExecuteTime": {
     "end_time": "2025-07-30T11:49:27.693031Z",
     "start_time": "2025-07-30T11:49:27.591708Z"
    }
   },
   "cell_type": "code",
   "source": [
    "# A: LDA 토픽 분포\n",
    "#   doc_id, topic_0, topic_1, …, topic_{K-1}\n",
    "topic_dist_df = pd.read_csv('data/academia_topic_distribution.csv')\n",
    "\n",
    "# B: 타입 라벨링 결과\n",
    "#   doc_id, assigned_type\n",
    "type_df = pd.read_csv('data/03_journal_2023_2025_labeled_with_others.csv')"
   ],
   "id": "958ebafc708a4c79",
   "outputs": [],
   "execution_count": 13
  },
  {
   "metadata": {
    "ExecuteTime": {
     "end_time": "2025-07-30T11:49:28.591576Z",
     "start_time": "2025-07-30T11:49:28.584474Z"
    }
   },
   "cell_type": "code",
   "source": "topic_dist_df.info()",
   "id": "64e7ac5a2eb024a7",
   "outputs": [
    {
     "name": "stdout",
     "output_type": "stream",
     "text": [
      "<class 'pandas.core.frame.DataFrame'>\n",
      "RangeIndex: 3209 entries, 0 to 3208\n",
      "Data columns (total 21 columns):\n",
      " #   Column  Non-Null Count  Dtype  \n",
      "---  ------  --------------  -----  \n",
      " 0   doc_id  3209 non-null   int64  \n",
      " 1   0       3209 non-null   float64\n",
      " 2   1       3209 non-null   float64\n",
      " 3   2       3209 non-null   float64\n",
      " 4   3       3209 non-null   float64\n",
      " 5   4       3209 non-null   float64\n",
      " 6   5       3209 non-null   float64\n",
      " 7   6       3209 non-null   float64\n",
      " 8   7       3209 non-null   float64\n",
      " 9   8       3209 non-null   float64\n",
      " 10  9       3209 non-null   float64\n",
      " 11  10      3209 non-null   float64\n",
      " 12  11      3209 non-null   float64\n",
      " 13  12      3209 non-null   float64\n",
      " 14  13      3209 non-null   float64\n",
      " 15  14      3209 non-null   float64\n",
      " 16  15      3209 non-null   float64\n",
      " 17  16      3209 non-null   float64\n",
      " 18  17      3209 non-null   float64\n",
      " 19  18      3209 non-null   float64\n",
      " 20  19      3209 non-null   float64\n",
      "dtypes: float64(20), int64(1)\n",
      "memory usage: 526.6 KB\n"
     ]
    }
   ],
   "execution_count": 14
  },
  {
   "metadata": {
    "ExecuteTime": {
     "end_time": "2025-07-30T11:49:29.746734Z",
     "start_time": "2025-07-30T11:49:29.739486Z"
    }
   },
   "cell_type": "code",
   "source": "type_df.info()",
   "id": "6a58740b6cba8409",
   "outputs": [
    {
     "name": "stdout",
     "output_type": "stream",
     "text": [
      "<class 'pandas.core.frame.DataFrame'>\n",
      "RangeIndex: 3209 entries, 0 to 3208\n",
      "Data columns (total 12 columns):\n",
      " #   Column         Non-Null Count  Dtype \n",
      "---  ------         --------------  ----- \n",
      " 0   title          3209 non-null   object\n",
      " 1   date           3209 non-null   int64 \n",
      " 2   abstract       3209 non-null   object\n",
      " 3   keywords       3209 non-null   object\n",
      " 4   authors        3209 non-null   object\n",
      " 5   affiliations   3209 non-null   object\n",
      " 6   combined       3209 non-null   object\n",
      " 7   score1         3209 non-null   int64 \n",
      " 8   score2         3209 non-null   int64 \n",
      " 9   score3         3209 non-null   int64 \n",
      " 10  score4         3209 non-null   int64 \n",
      " 11  assigned_type  3209 non-null   object\n",
      "dtypes: int64(5), object(7)\n",
      "memory usage: 301.0+ KB\n"
     ]
    }
   ],
   "execution_count": 15
  },
  {
   "metadata": {
    "ExecuteTime": {
     "end_time": "2025-07-30T11:49:31.450460Z",
     "start_time": "2025-07-30T11:49:31.433038Z"
    }
   },
   "cell_type": "code",
   "source": [
    "import pandas as pd\n",
    "\n",
    "# 3) 두 DataFrame에 doc_id 컬럼이 있는지 확인\n",
    "for name, df in [('type_df', type_df), ('topic_dist_df', topic_dist_df)]:\n",
    "    if 'doc_id' not in df.columns:\n",
    "        # 인덱스를 doc_id로 승격\n",
    "        df.reset_index(inplace=True)\n",
    "        df.rename(columns={'index':'doc_id'}, inplace=True)\n",
    "        print(f\">>> '{name}'에 doc_id 컬럼이 없어 index를 doc_id로 생성했습니다.\")"
   ],
   "id": "3ca02844f249b082",
   "outputs": [
    {
     "name": "stdout",
     "output_type": "stream",
     "text": [
      ">>> 'type_df'에 doc_id 컬럼이 없어 index를 doc_id로 생성했습니다.\n"
     ]
    }
   ],
   "execution_count": 16
  },
  {
   "metadata": {
    "ExecuteTime": {
     "end_time": "2025-07-30T11:49:34.159715Z",
     "start_time": "2025-07-30T11:49:34.151553Z"
    }
   },
   "cell_type": "code",
   "source": "merged = topic_dist_df.merge(type_df, on='doc_id', how='left')",
   "id": "137f436774a9fc57",
   "outputs": [],
   "execution_count": 17
  },
  {
   "metadata": {
    "ExecuteTime": {
     "end_time": "2025-07-30T11:49:34.910552Z",
     "start_time": "2025-07-30T11:49:34.895350Z"
    }
   },
   "cell_type": "code",
   "source": "merged.head()",
   "id": "41458d702f867599",
   "outputs": [
    {
     "data": {
      "text/plain": [
       "   doc_id         0         1         2         3         4         5  \\\n",
       "0       0  0.006963  0.603130  0.079606  0.006963  0.027619  0.006963   \n",
       "1       1  0.008111  0.279033  0.008111  0.008111  0.008111  0.008111   \n",
       "2       2  0.006671  0.797119  0.006671  0.006671  0.006671  0.006671   \n",
       "3       3  0.007040  0.531185  0.159037  0.007040  0.007040  0.007040   \n",
       "4       4  0.007825  0.485001  0.007825  0.007825  0.007825  0.007825   \n",
       "\n",
       "          6         7         8  ...  \\\n",
       "0  0.006963  0.006963  0.178245  ...   \n",
       "1  0.008111  0.008111  0.008111  ...   \n",
       "2  0.006671  0.006671  0.082799  ...   \n",
       "3  0.007040  0.007040  0.007040  ...   \n",
       "4  0.007825  0.007825  0.007825  ...   \n",
       "\n",
       "                                            abstract  \\\n",
       "0  As of late, the use of “digital” as a qualifie...   \n",
       "1  Widespread abuse of internet users’ privacy on...   \n",
       "2  Online healthcare platforms provide users with...   \n",
       "3  As artificial intelligence and digitalization ...   \n",
       "4  In this paper, we explore the decoy effect in ...   \n",
       "\n",
       "                                            keywords  \\\n",
       "0  digital x, IT x, digitalization, digitization,...   \n",
       "1  data protection regulation, government policy,...   \n",
       "2  personal health management, online healthcare ...   \n",
       "3  customer response prediction, voice chat, theo...   \n",
       "4  recommendation system, personalization, decoy ...   \n",
       "\n",
       "                                             authors  affiliations  \\\n",
       "0  Abayomi Baiyere, Varun Grover, Kalle J. Lyytin...           ISR   \n",
       "1  Ram D. Gopal, Hooman Hidaji, Sule Nur Kutlu, R...           ISR   \n",
       "2  Tongxin Zhou, Yingfei Wang, Lu (Lucy) Yan, Yon...           ISR   \n",
       "3  Gang Chen, Shuaiyong Xiao, Chenghong Zhang, Hu...           ISR   \n",
       "4  Nasim Mousavi, Panagiotis Adamopoulos, Jesse B...           ISR   \n",
       "\n",
       "                                            combined  score1  score2  score3  \\\n",
       "0  Digital “x”?Charting a Path for Digital-Themed...       0       1       2   \n",
       "1  Law, Economics, and Privacy: Implications of G...       2       1       0   \n",
       "2  Spoiled for Choice? Personalized Recommendatio...       6       1       6   \n",
       "3  A Theory-Driven Deep Learning Method for Voice...       2       0       9   \n",
       "4  The Decoy Effect and Recommendation Systems In...       1      12      11   \n",
       "\n",
       "   score4  assigned_type  \n",
       "0       2          Type3  \n",
       "1      11         Others  \n",
       "2       5          Type1  \n",
       "3       0          Type3  \n",
       "4       1          Type2  \n",
       "\n",
       "[5 rows x 33 columns]"
      ],
      "text/html": [
       "<div>\n",
       "<style scoped>\n",
       "    .dataframe tbody tr th:only-of-type {\n",
       "        vertical-align: middle;\n",
       "    }\n",
       "\n",
       "    .dataframe tbody tr th {\n",
       "        vertical-align: top;\n",
       "    }\n",
       "\n",
       "    .dataframe thead th {\n",
       "        text-align: right;\n",
       "    }\n",
       "</style>\n",
       "<table border=\"1\" class=\"dataframe\">\n",
       "  <thead>\n",
       "    <tr style=\"text-align: right;\">\n",
       "      <th></th>\n",
       "      <th>doc_id</th>\n",
       "      <th>0</th>\n",
       "      <th>1</th>\n",
       "      <th>2</th>\n",
       "      <th>3</th>\n",
       "      <th>4</th>\n",
       "      <th>5</th>\n",
       "      <th>6</th>\n",
       "      <th>7</th>\n",
       "      <th>8</th>\n",
       "      <th>...</th>\n",
       "      <th>abstract</th>\n",
       "      <th>keywords</th>\n",
       "      <th>authors</th>\n",
       "      <th>affiliations</th>\n",
       "      <th>combined</th>\n",
       "      <th>score1</th>\n",
       "      <th>score2</th>\n",
       "      <th>score3</th>\n",
       "      <th>score4</th>\n",
       "      <th>assigned_type</th>\n",
       "    </tr>\n",
       "  </thead>\n",
       "  <tbody>\n",
       "    <tr>\n",
       "      <th>0</th>\n",
       "      <td>0</td>\n",
       "      <td>0.006963</td>\n",
       "      <td>0.603130</td>\n",
       "      <td>0.079606</td>\n",
       "      <td>0.006963</td>\n",
       "      <td>0.027619</td>\n",
       "      <td>0.006963</td>\n",
       "      <td>0.006963</td>\n",
       "      <td>0.006963</td>\n",
       "      <td>0.178245</td>\n",
       "      <td>...</td>\n",
       "      <td>As of late, the use of “digital” as a qualifie...</td>\n",
       "      <td>digital x, IT x, digitalization, digitization,...</td>\n",
       "      <td>Abayomi Baiyere, Varun Grover, Kalle J. Lyytin...</td>\n",
       "      <td>ISR</td>\n",
       "      <td>Digital “x”?Charting a Path for Digital-Themed...</td>\n",
       "      <td>0</td>\n",
       "      <td>1</td>\n",
       "      <td>2</td>\n",
       "      <td>2</td>\n",
       "      <td>Type3</td>\n",
       "    </tr>\n",
       "    <tr>\n",
       "      <th>1</th>\n",
       "      <td>1</td>\n",
       "      <td>0.008111</td>\n",
       "      <td>0.279033</td>\n",
       "      <td>0.008111</td>\n",
       "      <td>0.008111</td>\n",
       "      <td>0.008111</td>\n",
       "      <td>0.008111</td>\n",
       "      <td>0.008111</td>\n",
       "      <td>0.008111</td>\n",
       "      <td>0.008111</td>\n",
       "      <td>...</td>\n",
       "      <td>Widespread abuse of internet users’ privacy on...</td>\n",
       "      <td>data protection regulation, government policy,...</td>\n",
       "      <td>Ram D. Gopal, Hooman Hidaji, Sule Nur Kutlu, R...</td>\n",
       "      <td>ISR</td>\n",
       "      <td>Law, Economics, and Privacy: Implications of G...</td>\n",
       "      <td>2</td>\n",
       "      <td>1</td>\n",
       "      <td>0</td>\n",
       "      <td>11</td>\n",
       "      <td>Others</td>\n",
       "    </tr>\n",
       "    <tr>\n",
       "      <th>2</th>\n",
       "      <td>2</td>\n",
       "      <td>0.006671</td>\n",
       "      <td>0.797119</td>\n",
       "      <td>0.006671</td>\n",
       "      <td>0.006671</td>\n",
       "      <td>0.006671</td>\n",
       "      <td>0.006671</td>\n",
       "      <td>0.006671</td>\n",
       "      <td>0.006671</td>\n",
       "      <td>0.082799</td>\n",
       "      <td>...</td>\n",
       "      <td>Online healthcare platforms provide users with...</td>\n",
       "      <td>personal health management, online healthcare ...</td>\n",
       "      <td>Tongxin Zhou, Yingfei Wang, Lu (Lucy) Yan, Yon...</td>\n",
       "      <td>ISR</td>\n",
       "      <td>Spoiled for Choice? Personalized Recommendatio...</td>\n",
       "      <td>6</td>\n",
       "      <td>1</td>\n",
       "      <td>6</td>\n",
       "      <td>5</td>\n",
       "      <td>Type1</td>\n",
       "    </tr>\n",
       "    <tr>\n",
       "      <th>3</th>\n",
       "      <td>3</td>\n",
       "      <td>0.007040</td>\n",
       "      <td>0.531185</td>\n",
       "      <td>0.159037</td>\n",
       "      <td>0.007040</td>\n",
       "      <td>0.007040</td>\n",
       "      <td>0.007040</td>\n",
       "      <td>0.007040</td>\n",
       "      <td>0.007040</td>\n",
       "      <td>0.007040</td>\n",
       "      <td>...</td>\n",
       "      <td>As artificial intelligence and digitalization ...</td>\n",
       "      <td>customer response prediction, voice chat, theo...</td>\n",
       "      <td>Gang Chen, Shuaiyong Xiao, Chenghong Zhang, Hu...</td>\n",
       "      <td>ISR</td>\n",
       "      <td>A Theory-Driven Deep Learning Method for Voice...</td>\n",
       "      <td>2</td>\n",
       "      <td>0</td>\n",
       "      <td>9</td>\n",
       "      <td>0</td>\n",
       "      <td>Type3</td>\n",
       "    </tr>\n",
       "    <tr>\n",
       "      <th>4</th>\n",
       "      <td>4</td>\n",
       "      <td>0.007825</td>\n",
       "      <td>0.485001</td>\n",
       "      <td>0.007825</td>\n",
       "      <td>0.007825</td>\n",
       "      <td>0.007825</td>\n",
       "      <td>0.007825</td>\n",
       "      <td>0.007825</td>\n",
       "      <td>0.007825</td>\n",
       "      <td>0.007825</td>\n",
       "      <td>...</td>\n",
       "      <td>In this paper, we explore the decoy effect in ...</td>\n",
       "      <td>recommendation system, personalization, decoy ...</td>\n",
       "      <td>Nasim Mousavi, Panagiotis Adamopoulos, Jesse B...</td>\n",
       "      <td>ISR</td>\n",
       "      <td>The Decoy Effect and Recommendation Systems In...</td>\n",
       "      <td>1</td>\n",
       "      <td>12</td>\n",
       "      <td>11</td>\n",
       "      <td>1</td>\n",
       "      <td>Type2</td>\n",
       "    </tr>\n",
       "  </tbody>\n",
       "</table>\n",
       "<p>5 rows × 33 columns</p>\n",
       "</div>"
      ]
     },
     "execution_count": 18,
     "metadata": {},
     "output_type": "execute_result"
    }
   ],
   "execution_count": 18
  },
  {
   "metadata": {
    "ExecuteTime": {
     "end_time": "2025-07-30T11:49:36.984928Z",
     "start_time": "2025-07-30T11:49:36.421928Z"
    }
   },
   "cell_type": "code",
   "source": [
    "import pandas as pd\n",
    "\n",
    "topic_cols = [c for c in merged.columns if str(c).isdigit()]\n",
    "\n",
    "# 2) topic_cols가 비어 있지 않은지 확인\n",
    "if not topic_cols:\n",
    "    raise ValueError(\"토픽 분포 열(topic_*)이 하나도 없습니다. topic_dist_df를 제대로 불러왔는지 확인하세요.\")\n",
    "\n",
    "# 3) NaN을 0으로 채워 “빈 시퀀스” 문제 방지\n",
    "merged[topic_cols] = merged[topic_cols].fillna(0)\n",
    "\n",
    "# 4) 안전한 주토픽 계산\n",
    "def safe_dominant_topic(row):\n",
    "    # 모든 값이 0이면 None 반환\n",
    "    if (row[topic_cols] == 0).all():\n",
    "        return None\n",
    "    return row[topic_cols].idxmax()\n",
    "\n",
    "merged['dominant_topic'] = merged.apply(safe_dominant_topic, axis=1)\n",
    "\n",
    "# 5) 결과 확인\n",
    "print(merged[['doc_id', 'assigned_type', 'dominant_topic']].head(10))"
   ],
   "id": "f158d97f50699e",
   "outputs": [
    {
     "name": "stdout",
     "output_type": "stream",
     "text": [
      "   doc_id assigned_type dominant_topic\n",
      "0       0         Type3              1\n",
      "1       1        Others             16\n",
      "2       2         Type1              1\n",
      "3       3         Type3              1\n",
      "4       4         Type2              1\n",
      "5       5         Type1             15\n",
      "6       6         Type3              1\n",
      "7       7         Type1              1\n",
      "8       8         Type1              1\n",
      "9       9         Type2             16\n"
     ]
    }
   ],
   "execution_count": 19
  },
  {
   "metadata": {
    "ExecuteTime": {
     "end_time": "2025-07-30T11:49:38.474569Z",
     "start_time": "2025-07-30T11:49:38.284159Z"
    }
   },
   "cell_type": "code",
   "source": [
    "import seaborn as sns\n",
    "import matplotlib.pyplot as plt\n",
    "\n",
    "ct = pd.crosstab(merged['dominant_topic'], merged['assigned_type'])\n",
    "print(ct)\n",
    "\n",
    "plt.figure(figsize=(8,6))\n",
    "sns.heatmap(ct, annot=True, fmt='d', cmap='Blues')\n",
    "plt.title('주토픽 × Assigned Type 분포')\n",
    "plt.ylabel('Dominant Topic')\n",
    "plt.xlabel('Assigned Type')\n",
    "plt.tight_layout()\n",
    "plt.show()"
   ],
   "id": "9370d823888b0508",
   "outputs": [
    {
     "name": "stdout",
     "output_type": "stream",
     "text": [
      "assigned_type   Others  Type1  Type2  Type3\n",
      "dominant_topic                             \n",
      "1                  693    993    248    701\n",
      "15                   6     13     16      6\n",
      "16                  40     66     57     34\n",
      "2                   17     10     19     10\n",
      "3                    1      2      3      3\n",
      "7                    0      1      0      0\n",
      "8                   69    104     25     72\n"
     ]
    },
    {
     "name": "stderr",
     "output_type": "stream",
     "text": [
      "/var/folders/gb/6tdg7g8x441bp8yfgnfm4thh0000gn/T/ipykernel_46348/3851260610.py:12: UserWarning: Glyph 51452 (\\N{HANGUL SYLLABLE JU}) missing from font(s) Arial.\n",
      "  plt.tight_layout()\n",
      "/var/folders/gb/6tdg7g8x441bp8yfgnfm4thh0000gn/T/ipykernel_46348/3851260610.py:12: UserWarning: Glyph 53664 (\\N{HANGUL SYLLABLE TO}) missing from font(s) Arial.\n",
      "  plt.tight_layout()\n",
      "/var/folders/gb/6tdg7g8x441bp8yfgnfm4thh0000gn/T/ipykernel_46348/3851260610.py:12: UserWarning: Glyph 54589 (\\N{HANGUL SYLLABLE PIG}) missing from font(s) Arial.\n",
      "  plt.tight_layout()\n",
      "/var/folders/gb/6tdg7g8x441bp8yfgnfm4thh0000gn/T/ipykernel_46348/3851260610.py:12: UserWarning: Glyph 48516 (\\N{HANGUL SYLLABLE BUN}) missing from font(s) Arial.\n",
      "  plt.tight_layout()\n",
      "/var/folders/gb/6tdg7g8x441bp8yfgnfm4thh0000gn/T/ipykernel_46348/3851260610.py:12: UserWarning: Glyph 54252 (\\N{HANGUL SYLLABLE PO}) missing from font(s) Arial.\n",
      "  plt.tight_layout()\n",
      "/opt/anaconda3/envs/AI_news/lib/python3.11/site-packages/IPython/core/pylabtools.py:170: UserWarning: Glyph 51452 (\\N{HANGUL SYLLABLE JU}) missing from font(s) Arial.\n",
      "  fig.canvas.print_figure(bytes_io, **kw)\n",
      "/opt/anaconda3/envs/AI_news/lib/python3.11/site-packages/IPython/core/pylabtools.py:170: UserWarning: Glyph 53664 (\\N{HANGUL SYLLABLE TO}) missing from font(s) Arial.\n",
      "  fig.canvas.print_figure(bytes_io, **kw)\n",
      "/opt/anaconda3/envs/AI_news/lib/python3.11/site-packages/IPython/core/pylabtools.py:170: UserWarning: Glyph 54589 (\\N{HANGUL SYLLABLE PIG}) missing from font(s) Arial.\n",
      "  fig.canvas.print_figure(bytes_io, **kw)\n",
      "/opt/anaconda3/envs/AI_news/lib/python3.11/site-packages/IPython/core/pylabtools.py:170: UserWarning: Glyph 48516 (\\N{HANGUL SYLLABLE BUN}) missing from font(s) Arial.\n",
      "  fig.canvas.print_figure(bytes_io, **kw)\n",
      "/opt/anaconda3/envs/AI_news/lib/python3.11/site-packages/IPython/core/pylabtools.py:170: UserWarning: Glyph 54252 (\\N{HANGUL SYLLABLE PO}) missing from font(s) Arial.\n",
      "  fig.canvas.print_figure(bytes_io, **kw)\n"
     ]
    },
    {
     "data": {
      "text/plain": [
       "<Figure size 800x600 with 2 Axes>"
      ],
      "image/png": "[encoded data removed]"
     },
     "metadata": {},
     "output_type": "display_data"
    }
   ],
   "execution_count": 20
  },
  {
   "metadata": {
    "ExecuteTime": {
     "end_time": "2025-07-30T11:49:41.209991Z",
     "start_time": "2025-07-30T11:49:41.079931Z"
    }
   },
   "cell_type": "code",
   "source": [
    "import pandas as pd\n",
    "import seaborn as sns\n",
    "import matplotlib.pyplot as plt\n",
    "\n",
    "# 1) 가능한 모든 토픽 레이블 리스트\n",
    "all_topics = [f'{i}' for i in range(20)]\n",
    "\n",
    "# 2) crosstab 생성\n",
    "ct = pd.crosstab(merged['dominant_topic'], merged['assigned_type'])\n",
    "\n",
    "# 3) 인덱스(토픽)를 all_topics로 재색인, 없는 건 0으로 채우기\n",
    "ct = ct.reindex(index=all_topics, fill_value=0)\n",
    "\n",
    "print(ct)\n",
    "\n",
    "# 4) 히트맵 그리기\n",
    "plt.figure(figsize=(8,6))\n",
    "sns.heatmap(ct, annot=True, fmt='d', cmap='Blues')\n",
    "plt.title('주토픽 × Assigned Type 분포 (All Topics)')\n",
    "plt.ylabel('Dominant Topic')\n",
    "plt.xlabel('Assigned Type')\n",
    "plt.tight_layout()\n",
    "plt.show()"
   ],
   "id": "5931bb0adc25f1eb",
   "outputs": [
    {
     "name": "stdout",
     "output_type": "stream",
     "text": [
      "assigned_type   Others  Type1  Type2  Type3\n",
      "dominant_topic                             \n",
      "0                    0      0      0      0\n",
      "1                  693    993    248    701\n",
      "2                   17     10     19     10\n",
      "3                    1      2      3      3\n",
      "4                    0      0      0      0\n",
      "5                    0      0      0      0\n",
      "6                    0      0      0      0\n",
      "7                    0      1      0      0\n",
      "8                   69    104     25     72\n",
      "9                    0      0      0      0\n",
      "10                   0      0      0      0\n",
      "11                   0      0      0      0\n",
      "12                   0      0      0      0\n",
      "13                   0      0      0      0\n",
      "14                   0      0      0      0\n",
      "15                   6     13     16      6\n",
      "16                  40     66     57     34\n",
      "17                   0      0      0      0\n",
      "18                   0      0      0      0\n",
      "19                   0      0      0      0\n"
     ]
    },
    {
     "name": "stderr",
     "output_type": "stream",
     "text": [
      "/var/folders/gb/6tdg7g8x441bp8yfgnfm4thh0000gn/T/ipykernel_46348/599864086.py:22: UserWarning: Glyph 51452 (\\N{HANGUL SYLLABLE JU}) missing from font(s) Arial.\n",
      "  plt.tight_layout()\n",
      "/var/folders/gb/6tdg7g8x441bp8yfgnfm4thh0000gn/T/ipykernel_46348/599864086.py:22: UserWarning: Glyph 53664 (\\N{HANGUL SYLLABLE TO}) missing from font(s) Arial.\n",
      "  plt.tight_layout()\n",
      "/var/folders/gb/6tdg7g8x441bp8yfgnfm4thh0000gn/T/ipykernel_46348/599864086.py:22: UserWarning: Glyph 54589 (\\N{HANGUL SYLLABLE PIG}) missing from font(s) Arial.\n",
      "  plt.tight_layout()\n",
      "/var/folders/gb/6tdg7g8x441bp8yfgnfm4thh0000gn/T/ipykernel_46348/599864086.py:22: UserWarning: Glyph 48516 (\\N{HANGUL SYLLABLE BUN}) missing from font(s) Arial.\n",
      "  plt.tight_layout()\n",
      "/var/folders/gb/6tdg7g8x441bp8yfgnfm4thh0000gn/T/ipykernel_46348/599864086.py:22: UserWarning: Glyph 54252 (\\N{HANGUL SYLLABLE PO}) missing from font(s) Arial.\n",
      "  plt.tight_layout()\n",
      "/opt/anaconda3/envs/AI_news/lib/python3.11/site-packages/IPython/core/pylabtools.py:170: UserWarning: Glyph 51452 (\\N{HANGUL SYLLABLE JU}) missing from font(s) Arial.\n",
      "  fig.canvas.print_figure(bytes_io, **kw)\n",
      "/opt/anaconda3/envs/AI_news/lib/python3.11/site-packages/IPython/core/pylabtools.py:170: UserWarning: Glyph 53664 (\\N{HANGUL SYLLABLE TO}) missing from font(s) Arial.\n",
      "  fig.canvas.print_figure(bytes_io, **kw)\n",
      "/opt/anaconda3/envs/AI_news/lib/python3.11/site-packages/IPython/core/pylabtools.py:170: UserWarning: Glyph 54589 (\\N{HANGUL SYLLABLE PIG}) missing from font(s) Arial.\n",
      "  fig.canvas.print_figure(bytes_io, **kw)\n",
      "/opt/anaconda3/envs/AI_news/lib/python3.11/site-packages/IPython/core/pylabtools.py:170: UserWarning: Glyph 48516 (\\N{HANGUL SYLLABLE BUN}) missing from font(s) Arial.\n",
      "  fig.canvas.print_figure(bytes_io, **kw)\n",
      "/opt/anaconda3/envs/AI_news/lib/python3.11/site-packages/IPython/core/pylabtools.py:170: UserWarning: Glyph 54252 (\\N{HANGUL SYLLABLE PO}) missing from font(s) Arial.\n",
      "  fig.canvas.print_figure(bytes_io, **kw)\n"
     ]
    },
    {
     "data": {
      "text/plain": [
       "<Figure size 800x600 with 2 Axes>"
      ],
      "image/png": "[encoded data removed]"
     },
     "metadata": {},
     "output_type": "display_data"
    }
   ],
   "execution_count": 21
  },
  {
   "metadata": {
    "ExecuteTime": {
     "end_time": "2025-07-30T11:49:46.481211Z",
     "start_time": "2025-07-30T11:49:46.059166Z"
    }
   },
   "cell_type": "code",
   "source": [
    "avg_topic = merged.groupby('assigned_type')[topic_cols].mean()\n",
    "\n",
    "# avg_topic: 행=assigned_type, 열=topic_i\n",
    "avg_topic.T.plot(kind='bar', subplots=True, layout=(5,4), figsize=(12,10), legend=False)\n",
    "plt.suptitle('타입별 토픽 평균 확률 분포')\n",
    "plt.tight_layout()\n",
    "plt.show()"
   ],
   "id": "d577311601be2a6b",
   "outputs": [
    {
     "name": "stderr",
     "output_type": "stream",
     "text": [
      "/var/folders/gb/6tdg7g8x441bp8yfgnfm4thh0000gn/T/ipykernel_46348/3610511664.py:6: UserWarning: Glyph 53440 (\\N{HANGUL SYLLABLE TA}) missing from font(s) Arial.\n",
      "  plt.tight_layout()\n",
      "/var/folders/gb/6tdg7g8x441bp8yfgnfm4thh0000gn/T/ipykernel_46348/3610511664.py:6: UserWarning: Glyph 51077 (\\N{HANGUL SYLLABLE IB}) missing from font(s) Arial.\n",
      "  plt.tight_layout()\n",
      "/var/folders/gb/6tdg7g8x441bp8yfgnfm4thh0000gn/T/ipykernel_46348/3610511664.py:6: UserWarning: Glyph 48324 (\\N{HANGUL SYLLABLE BYEOL}) missing from font(s) Arial.\n",
      "  plt.tight_layout()\n",
      "/var/folders/gb/6tdg7g8x441bp8yfgnfm4thh0000gn/T/ipykernel_46348/3610511664.py:6: UserWarning: Glyph 53664 (\\N{HANGUL SYLLABLE TO}) missing from font(s) Arial.\n",
      "  plt.tight_layout()\n",
      "/var/folders/gb/6tdg7g8x441bp8yfgnfm4thh0000gn/T/ipykernel_46348/3610511664.py:6: UserWarning: Glyph 54589 (\\N{HANGUL SYLLABLE PIG}) missing from font(s) Arial.\n",
      "  plt.tight_layout()\n",
      "/var/folders/gb/6tdg7g8x441bp8yfgnfm4thh0000gn/T/ipykernel_46348/3610511664.py:6: UserWarning: Glyph 54217 (\\N{HANGUL SYLLABLE PYEONG}) missing from font(s) Arial.\n",
      "  plt.tight_layout()\n",
      "/var/folders/gb/6tdg7g8x441bp8yfgnfm4thh0000gn/T/ipykernel_46348/3610511664.py:6: UserWarning: Glyph 44512 (\\N{HANGUL SYLLABLE GYUN}) missing from font(s) Arial.\n",
      "  plt.tight_layout()\n",
      "/var/folders/gb/6tdg7g8x441bp8yfgnfm4thh0000gn/T/ipykernel_46348/3610511664.py:6: UserWarning: Glyph 54869 (\\N{HANGUL SYLLABLE HWAG}) missing from font(s) Arial.\n",
      "  plt.tight_layout()\n",
      "/var/folders/gb/6tdg7g8x441bp8yfgnfm4thh0000gn/T/ipykernel_46348/3610511664.py:6: UserWarning: Glyph 47456 (\\N{HANGUL SYLLABLE RYUL}) missing from font(s) Arial.\n",
      "  plt.tight_layout()\n",
      "/var/folders/gb/6tdg7g8x441bp8yfgnfm4thh0000gn/T/ipykernel_46348/3610511664.py:6: UserWarning: Glyph 48516 (\\N{HANGUL SYLLABLE BUN}) missing from font(s) Arial.\n",
      "  plt.tight_layout()\n",
      "/var/folders/gb/6tdg7g8x441bp8yfgnfm4thh0000gn/T/ipykernel_46348/3610511664.py:6: UserWarning: Glyph 54252 (\\N{HANGUL SYLLABLE PO}) missing from font(s) Arial.\n",
      "  plt.tight_layout()\n",
      "/opt/anaconda3/envs/AI_news/lib/python3.11/site-packages/IPython/core/pylabtools.py:170: UserWarning: Glyph 53440 (\\N{HANGUL SYLLABLE TA}) missing from font(s) Arial.\n",
      "  fig.canvas.print_figure(bytes_io, **kw)\n",
      "/opt/anaconda3/envs/AI_news/lib/python3.11/site-packages/IPython/core/pylabtools.py:170: UserWarning: Glyph 51077 (\\N{HANGUL SYLLABLE IB}) missing from font(s) Arial.\n",
      "  fig.canvas.print_figure(bytes_io, **kw)\n",
      "/opt/anaconda3/envs/AI_news/lib/python3.11/site-packages/IPython/core/pylabtools.py:170: UserWarning: Glyph 48324 (\\N{HANGUL SYLLABLE BYEOL}) missing from font(s) Arial.\n",
      "  fig.canvas.print_figure(bytes_io, **kw)\n",
      "/opt/anaconda3/envs/AI_news/lib/python3.11/site-packages/IPython/core/pylabtools.py:170: UserWarning: Glyph 53664 (\\N{HANGUL SYLLABLE TO}) missing from font(s) Arial.\n",
      "  fig.canvas.print_figure(bytes_io, **kw)\n",
      "/opt/anaconda3/envs/AI_news/lib/python3.11/site-packages/IPython/core/pylabtools.py:170: UserWarning: Glyph 54589 (\\N{HANGUL SYLLABLE PIG}) missing from font(s) Arial.\n",
      "  fig.canvas.print_figure(bytes_io, **kw)\n",
      "/opt/anaconda3/envs/AI_news/lib/python3.11/site-packages/IPython/core/pylabtools.py:170: UserWarning: Glyph 54217 (\\N{HANGUL SYLLABLE PYEONG}) missing from font(s) Arial.\n",
      "  fig.canvas.print_figure(bytes_io, **kw)\n",
      "/opt/anaconda3/envs/AI_news/lib/python3.11/site-packages/IPython/core/pylabtools.py:170: UserWarning: Glyph 44512 (\\N{HANGUL SYLLABLE GYUN}) missing from font(s) Arial.\n",
      "  fig.canvas.print_figure(bytes_io, **kw)\n",
      "/opt/anaconda3/envs/AI_news/lib/python3.11/site-packages/IPython/core/pylabtools.py:170: UserWarning: Glyph 54869 (\\N{HANGUL SYLLABLE HWAG}) missing from font(s) Arial.\n",
      "  fig.canvas.print_figure(bytes_io, **kw)\n",
      "/opt/anaconda3/envs/AI_news/lib/python3.11/site-packages/IPython/core/pylabtools.py:170: UserWarning: Glyph 47456 (\\N{HANGUL SYLLABLE RYUL}) missing from font(s) Arial.\n",
      "  fig.canvas.print_figure(bytes_io, **kw)\n",
      "/opt/anaconda3/envs/AI_news/lib/python3.11/site-packages/IPython/core/pylabtools.py:170: UserWarning: Glyph 48516 (\\N{HANGUL SYLLABLE BUN}) missing from font(s) Arial.\n",
      "  fig.canvas.print_figure(bytes_io, **kw)\n",
      "/opt/anaconda3/envs/AI_news/lib/python3.11/site-packages/IPython/core/pylabtools.py:170: UserWarning: Glyph 54252 (\\N{HANGUL SYLLABLE PO}) missing from font(s) Arial.\n",
      "  fig.canvas.print_figure(bytes_io, **kw)\n"
     ]
    },
    {
     "data": {
      "text/plain": [
       "<Figure size 1200x1000 with 20 Axes>"
      ],
      "image/png": "[encoded data removed]"
     },
     "metadata": {},
     "output_type": "display_data"
    }
   ],
   "execution_count": 22
  },
  {
   "metadata": {
    "ExecuteTime": {
     "end_time": "2025-07-30T11:49:54.896978Z",
     "start_time": "2025-07-30T11:49:54.873199Z"
    }
   },
   "cell_type": "code",
   "source": [
    "# gensim LdaModel 객체: lda_model\n",
    "topic_terms = {\n",
    "  tid: [w for w, _ in lda_model.show_topic(tid, topn=5)]\n",
    "  for tid in range(lda_model.num_topics)\n",
    "}\n",
    "\n",
    "# 예: Type2 × topic_7 조합에서 상위 5개 문서\n",
    "subset = merged[\n",
    "  (merged['assigned_type']=='Type1') &\n",
    "  (merged['dominant_topic']=='1')\n",
    "].nlargest(5, '1')   # topic_1 기준\n",
    "print(subset[['1','title','abstract','keywords']])"
   ],
   "id": "e4d4edc35a44bab2",
   "outputs": [
    {
     "name": "stdout",
     "output_type": "stream",
     "text": [
      "             1                                              title  \\\n",
      "1300  0.872059  Timely, Granular, and Actionable: Designing a ...   \n",
      "2176  0.868826  Cognitive Load Theory Approach to Hybrid Intel...   \n",
      "2459  0.867086  Designing Conversational Agents to Promote Env...   \n",
      "1669  0.866282  Developing a Process Model for Digital Transfo...   \n",
      "284   0.866139         The Design of an Ostensible Human Teammate   \n",
      "\n",
      "                                               abstract  \\\n",
      "1300  Every day, patients access and generate online...   \n",
      "2176  Knowledge workers in information-rich work env...   \n",
      "2459  Conversational agents are increasingly integra...   \n",
      "1669  The current volatile business environment has ...   \n",
      "284   Reliance on computer-mediated teaming has expl...   \n",
      "\n",
      "                                               keywords  \n",
      "1300  public health 3.0, social listening, activity ...  \n",
      "2176  Cognitive Load Theory, Augmented Intelligence,...  \n",
      "2459  Conversational Agent, Environmental Sustainabi...  \n",
      "1669                 Making Digital Transformation Real  \n",
      "284   Applications of Human-AI Collaboration: Insigh...  \n"
     ]
    }
   ],
   "execution_count": 23
  },
  {
   "metadata": {},
   "cell_type": "markdown",
   "source": "# 4. 토픽모델링 결과 필터링 작업",
   "id": "17ee73353f0d4f14"
  },
  {
   "metadata": {
    "ExecuteTime": {
     "end_time": "2025-08-01T14:16:26.839213Z",
     "start_time": "2025-08-01T14:16:26.754360Z"
    }
   },
   "cell_type": "code",
   "source": [
    "import pandas as pd\n",
    "\n",
    "df=pd.read_csv('data/03_journal_2023_2025_with_methods.csv')\n",
    "df.info()"
   ],
   "id": "d29f471ccb85b36",
   "outputs": [
    {
     "name": "stdout",
     "output_type": "stream",
     "text": [
      "<class 'pandas.core.frame.DataFrame'>\n",
      "RangeIndex: 3209 entries, 0 to 3208\n",
      "Data columns (total 7 columns):\n",
      " #   Column        Non-Null Count  Dtype \n",
      "---  ------        --------------  ----- \n",
      " 0   title         3209 non-null   object\n",
      " 1   date          3209 non-null   int64 \n",
      " 2   abstract      3209 non-null   object\n",
      " 3   keywords      3209 non-null   object\n",
      " 4   authors       3209 non-null   object\n",
      " 5   affiliations  3209 non-null   object\n",
      " 6   methods       3209 non-null   object\n",
      "dtypes: int64(1), object(6)\n",
      "memory usage: 175.6+ KB\n"
     ]
    }
   ],
   "execution_count": 1
  },
  {
   "metadata": {
    "ExecuteTime": {
     "end_time": "2025-08-02T03:54:34.164842Z",
     "start_time": "2025-08-02T03:54:34.063793Z"
    }
   },
   "cell_type": "code",
   "source": "df['methods'][3204]",
   "id": "45727650f8b64f77",
   "outputs": [
    {
     "data": {
      "text/plain": [
       "'The methodology used in this paper is a combination of the ontology developed from the C4MM and BPMN 2.0. The ontology is used to define the concepts and relationships within the C4MM, while BPMN 2.0 is used to represent the digital transformation journey of the construction organization in the form of a process model. The ontology is used to extract the research methodology of the paper in one concise line, and provide only the methodology without repeating the prompt.\\n\\nOntology: The ontology developed from the C4MM is a structured representation of the concepts and relationships within the model. It provides a clear and concise understanding of the concepts and their interrelationships, making it easier to analyze and interpret the data. The ontology is used to define the concepts and relationships within the C4MM, which is a framework for measuring the digital maturity of construction organizations. The ontology is used to extract the research methodology of the paper in one concise line, and provide only the methodology without repeating the prompt.\\n\\nBPMN 2.0: Business Process Model and Notation (BPMN) 2.0 is a graphical notation for specifying business processes. It is used to represent the digital transformation journey of the construction organization in the form of a process model. The process'"
      ]
     },
     "execution_count": 5,
     "metadata": {},
     "output_type": "execute_result"
    }
   ],
   "execution_count": 5
  },
  {
   "metadata": {},
   "cell_type": "markdown",
   "source": [
    "## 4.1. 계획 수립\n",
    "- journal topic modeling 결과로 나온 것 중에서 산업-학계 간 공통 토픽 3개 선정\n",
    "- 3가지 주제 안에서 가장 수가 많은 토픽 1개 선정\n",
    "- journal topic의 dominant topic으로 문서 필터링 진행\n",
    "- methods에서 type 1,2,3 정의한 것 기준으로 type 1,2,3 분류"
   ],
   "id": "2c4cc5eb9905b7e5"
  },
  {
   "metadata": {},
   "cell_type": "markdown",
   "source": [
    "## 4.2. 전처리 필수 요건\n",
    "- 행의 개수를 유지한 채로 토픽모델링 결과와 합쳐야 함\n",
    "- 글자수 20글자 이하 행 제거: systematic review, this study is a ... <- 고민 좀 더 해보기\n",
    "- 키워드에 researh, study, this, method, methodology, paper 이건 포함 X\n",
    "- 중복 행 제거"
   ],
   "id": "ce4aea6949963731"
  },
  {
   "metadata": {},
   "cell_type": "markdown",
   "source": "## 4.3. 개수 파악",
   "id": "e033342a5c290050"
  },
  {
   "metadata": {
    "ExecuteTime": {
     "end_time": "2025-08-04T08:14:52.105969Z",
     "start_time": "2025-08-04T08:14:52.077991Z"
    }
   },
   "cell_type": "code",
   "source": [
    "# dominant topic 1이 가장 많이 나오는게 문제임\n",
    "import pandas as pd\n",
    "\n",
    "# 1. CSV 파일 로드\n",
    "df=pd.read_csv('data/industry_topic_distribution.csv')\n",
    "\n",
    "# 2. 토픽 컬럼 이름 리스트 생성 (여기서는 '0'부터 '19'까지)\n",
    "topic_cols = [str(i) for i in range(20)]\n",
    "\n",
    "# 3. 각 행(row)마다 가장 확률이 높은 토픽을 찾아 'dominant_topic' 컬럼으로 추가\n",
    "df['dominant_topic'] = df[topic_cols].idxmax(axis=1).astype(int)\n",
    "\n",
    "# 4. 토픽별 문서 개수(count) 계산\n",
    "topic_counts = df['dominant_topic'].value_counts().sort_index()\n",
    "\n",
    "# 5. 결과 출력\n",
    "print(\"토픽별 문서 수:\")\n",
    "for topic, count in topic_counts.items():\n",
    "    print(f\"토픽 {topic}: {count}개\")"
   ],
   "id": "92c277e2fa47f49a",
   "outputs": [
    {
     "name": "stdout",
     "output_type": "stream",
     "text": [
      "토픽별 문서 수:\n",
      "토픽 1: 5개\n",
      "토픽 2: 1개\n",
      "토픽 7: 6개\n",
      "토픽 9: 6개\n",
      "토픽 12: 10450개\n",
      "토픽 13: 12개\n",
      "토픽 15: 31개\n",
      "토픽 17: 1058개\n",
      "토픽 18: 103개\n"
     ]
    }
   ],
   "execution_count": 1
  },
  {
   "metadata": {
    "ExecuteTime": {
     "end_time": "2025-08-04T08:49:00.036793Z",
     "start_time": "2025-08-04T08:48:58.793287Z"
    }
   },
   "cell_type": "code",
   "source": [
    "import pandas as pd\n",
    "\n",
    "def count_dominant_topics_excluding(\n",
    "    csv_path: str,\n",
    "    exclude_topics: list[int],\n",
    "    num_topics: int = 20\n",
    ") -> pd.Series:\n",
    "    \"\"\"\n",
    "    CSV에서 지정한 토픽들을 제외한 나머지 토픽 중 dominant topic을 계산해 반환합니다.\n",
    "\n",
    "    Parameters\n",
    "    ----------\n",
    "    csv_path : str\n",
    "        확률 분포가 담긴 CSV 파일 경로.\n",
    "    exclude_topics : list[int]\n",
    "        제외할 토픽 번호 리스트 (예: [12, 5, 7]).\n",
    "    num_topics : int\n",
    "        전체 토픽 개수 (기본값 20).\n",
    "\n",
    "    Returns\n",
    "    -------\n",
    "    pd.Series\n",
    "        각 문서의 dominant_topic_excl 시리즈.\n",
    "    \"\"\"\n",
    "    # 1. CSV 로드\n",
    "    df = pd.read_csv(csv_path)\n",
    "\n",
    "    # 2. 전체 토픽 컬럼 리스트 생성\n",
    "    all_topics = [str(i) for i in range(num_topics)]\n",
    "\n",
    "    # 3. 제외할 토픽 문자열 리스트\n",
    "    exclude_strs = [str(t) for t in exclude_topics]\n",
    "\n",
    "    # 4. 제외한 나머지 토픽 컬럼 리스트\n",
    "    remaining_topics = [t for t in all_topics if t not in exclude_strs]\n",
    "\n",
    "    # 5. dominant topic 계산\n",
    "    df_excl = df[remaining_topics].copy()\n",
    "    df_excl['dominant_topic_excl'] = df_excl.idxmax(axis=1).astype(int)\n",
    "\n",
    "    return df_excl['dominant_topic_excl']\n",
    "\n",
    "\n",
    "if __name__ == \"__main__\":\n",
    "    # 파일 경로들\n",
    "    topic_dist_path = 'data/industry_topic_distribution.csv'\n",
    "    base_article_path = 'data/05_article_2023_2025.csv'\n",
    "    output_path = 'data/05_article_merged_with_topic.csv'\n",
    "\n",
    "    # 제외할 토픽\n",
    "    exclude = [8, 12, 14, 16, 19]\n",
    "\n",
    "    # dominant topic 계산\n",
    "    dominant_series = count_dominant_topics_excluding(topic_dist_path, exclude)\n",
    "\n",
    "    # 기존 기사 데이터 불러오기\n",
    "    df_articles = pd.read_csv(base_article_path)\n",
    "\n",
    "    # 데이터 길이 체크\n",
    "    if len(df_articles) != len(dominant_series):\n",
    "        raise ValueError(\"두 CSV의 행 수가 다릅니다. 병합 전 데이터 정렬 또는 인덱스 확인이 필요합니다.\")\n",
    "\n",
    "    # 병합 (인덱스 기준)\n",
    "    df_articles['dominant_topic_excl'] = dominant_series.values\n",
    "\n",
    "    # 저장\n",
    "    df_articles.to_csv(output_path, index=False)\n",
    "\n",
    "    # 콘솔 출력\n",
    "    counts = dominant_series.value_counts().sort_index()\n",
    "    print(f\"토픽 {exclude} 제외 후 dominant topic별 문서 수:\")\n",
    "    for topic, cnt in counts.items():\n",
    "        print(f\"토픽 {topic}: {cnt}개\")"
   ],
   "id": "63002485d6ebc9e1",
   "outputs": [
    {
     "name": "stdout",
     "output_type": "stream",
     "text": [
      "토픽 [8, 12, 14, 16, 19] 제외 후 dominant topic별 문서 수:\n",
      "토픽 0: 47개\n",
      "토픽 1: 950개\n",
      "토픽 2: 287개\n",
      "토픽 3: 36개\n",
      "토픽 4: 53개\n",
      "토픽 5: 10개\n",
      "토픽 6: 23개\n",
      "토픽 7: 9개\n",
      "토픽 9: 769개\n",
      "토픽 10: 257개\n",
      "토픽 11: 188개\n",
      "토픽 13: 790개\n",
      "토픽 15: 652개\n",
      "토픽 17: 5801개\n",
      "토픽 18: 1800개\n"
     ]
    }
   ],
   "execution_count": 18
  },
  {
   "metadata": {},
   "cell_type": "markdown",
   "source": [
    "# 5. type 분류\n",
    "## 1. Media, Brand & social Effect 학계 토픽 2 type 분류 진행"
   ],
   "id": "f0cb47652c6e5b5"
  },
  {
   "metadata": {},
   "cell_type": "markdown",
   "source": [
    "### 전처리 진행 후 병합 데이터 저장 및 로드\n",
    "- 20글자 이하 행 제거\n",
    "- 데이터 합치기\n",
    "- 중복 제거"
   ],
   "id": "7b828e0147d6f104"
  },
  {
   "metadata": {
    "ExecuteTime": {
     "end_time": "2025-08-02T11:06:46.110728Z",
     "start_time": "2025-08-02T11:06:45.822318Z"
    }
   },
   "cell_type": "code",
   "source": [
    "import pandas as pd\n",
    "\n",
    "# 1. CSV 파일 로드\n",
    "dist_df    = pd.read_csv('data/academia_topic_distribution.csv')\n",
    "methods_df = pd.read_csv('data/03_journal_2023_2025_with_methods.csv')\n",
    "\n",
    "# 2. 데이터 합치기 (행 순서와 개수 유지)\n",
    "df = pd.concat(\n",
    "    [methods_df.reset_index(drop=True), dist_df.reset_index(drop=True)],\n",
    "    axis=1\n",
    ")\n",
    "\n",
    "# 3. 전처리 작업\n",
    "methods_col = 'methods'  # 실제 메소드 설명 컬럼명으로 수정하세요\n",
    "\n",
    "# 3.1 글자수 20자 이하 행 제거\n",
    "df = df[df[methods_col].str.len() > 20]\n",
    "\n",
    "# 3.2 중복 행 제거\n",
    "df = df.drop_duplicates(subset=[methods_col])\n",
    "\n",
    "# 4. 저장\n",
    "output_path = 'data/03_journal_2023_2025_with_methods_preprocessed.csv'\n",
    "df.to_csv(output_path, index=False)\n",
    "\n",
    "print(f\"✔︎ Preprocessed data saved to {output_path} ({len(df)} rows)\")"
   ],
   "id": "5f4f77d646e4bfce",
   "outputs": [
    {
     "name": "stdout",
     "output_type": "stream",
     "text": [
      "✔︎ Preprocessed data saved to data/03_journal_2023_2025_with_methods_preprocessed.csv (3186 rows)\n"
     ]
    }
   ],
   "execution_count": 17
  },
  {
   "metadata": {
    "ExecuteTime": {
     "end_time": "2025-08-02T11:06:47.100210Z",
     "start_time": "2025-08-02T11:06:46.969224Z"
    }
   },
   "cell_type": "code",
   "source": [
    "test=pd.read_csv('data/03_journal_2023_2025_with_methods_preprocessed.csv')\n",
    "test.info()"
   ],
   "id": "ce4e9576ddd2d79e",
   "outputs": [
    {
     "name": "stdout",
     "output_type": "stream",
     "text": [
      "<class 'pandas.core.frame.DataFrame'>\n",
      "RangeIndex: 3186 entries, 0 to 3185\n",
      "Data columns (total 28 columns):\n",
      " #   Column        Non-Null Count  Dtype  \n",
      "---  ------        --------------  -----  \n",
      " 0   title         3186 non-null   object \n",
      " 1   date          3186 non-null   int64  \n",
      " 2   abstract      3186 non-null   object \n",
      " 3   keywords      3186 non-null   object \n",
      " 4   authors       3186 non-null   object \n",
      " 5   affiliations  3186 non-null   object \n",
      " 6   methods       3186 non-null   object \n",
      " 7   doc_id        3186 non-null   int64  \n",
      " 8   0             3186 non-null   float64\n",
      " 9   1             3186 non-null   float64\n",
      " 10  2             3186 non-null   float64\n",
      " 11  3             3186 non-null   float64\n",
      " 12  4             3186 non-null   float64\n",
      " 13  5             3186 non-null   float64\n",
      " 14  6             3186 non-null   float64\n",
      " 15  7             3186 non-null   float64\n",
      " 16  8             3186 non-null   float64\n",
      " 17  9             3186 non-null   float64\n",
      " 18  10            3186 non-null   float64\n",
      " 19  11            3186 non-null   float64\n",
      " 20  12            3186 non-null   float64\n",
      " 21  13            3186 non-null   float64\n",
      " 22  14            3186 non-null   float64\n",
      " 23  15            3186 non-null   float64\n",
      " 24  16            3186 non-null   float64\n",
      " 25  17            3186 non-null   float64\n",
      " 26  18            3186 non-null   float64\n",
      " 27  19            3186 non-null   float64\n",
      "dtypes: float64(20), int64(2), object(6)\n",
      "memory usage: 697.1+ KB\n"
     ]
    }
   ],
   "execution_count": 18
  },
  {
   "metadata": {},
   "cell_type": "markdown",
   "source": "### 각 토픽 별로 type 분류 진행",
   "id": "1005da156deacfd"
  },
  {
   "metadata": {
    "ExecuteTime": {
     "end_time": "2025-08-02T14:08:44.145278Z",
     "start_time": "2025-08-02T14:08:44.135549Z"
    }
   },
   "cell_type": "code",
   "source": [
    "import pandas as pd\n",
    "\n",
    "def classify_and_save_topic_methods_by_count(\n",
    "    preprocessed_path: str,\n",
    "    target_topic: int,\n",
    "    drop_topic: int = 1,\n",
    "    methods_col: str = 'methods',\n",
    "    output_dir: str = 'data'\n",
    "):\n",
    "    \"\"\"\n",
    "    전처리된 CSV에서 특정 토픽 문서만 골라,\n",
    "    Type I–III 키워드 등장 횟수로 분류하고,\n",
    "    매칭된 키워드를 함께 저장합니다.\n",
    "    \"\"\"\n",
    "    # 1) 데이터 로드\n",
    "    df = pd.read_csv(preprocessed_path)\n",
    "\n",
    "    # 2) dominant_topic_excl_1 재계산 (drop_topic 제외)\n",
    "    topic_cols      = [c for c in df.columns if c.isdigit()]\n",
    "    topic_cols_excl = [c for c in topic_cols if int(c) != drop_topic]\n",
    "    df['dominant_topic_excl_1'] = df[topic_cols_excl] \\\n",
    "        .idxmax(axis=1).astype(int)\n",
    "\n",
    "    # 3) target_topic 필터링\n",
    "    df_t = df[df['dominant_topic_excl_1'] == target_topic].copy()\n",
    "\n",
    "    # ── Type I: ML Methods Development ──\n",
    "    ml_terms = [\n",
    "        \"supervised learning\", \"unsupervised learning\", \"semi-supervised learning\",\n",
    "        \"reinforcement learning\", \"transfer learning\", \"deep learning\",\n",
    "        \"neural network\", \"cnn\", \"rnn\", \"lstm\", \"gru\", \"transformer\",\n",
    "        \"attention mechanism\", \"bert\", \"gpt\", \"autoencoder\", \"gan\",\n",
    "        \"decision tree\", \"random forest\", \"xgboost\", \"lightgbm\", \"adaboost\",\n",
    "        \"gradient boosting\", \"gbm\", \"svm\", \"support vector machine\",\n",
    "        \"knn\", \"k-nearest neighbors\", \"pca\", \"principal component analysis\",\n",
    "        \"clustering\", \"k-means\", \"hierarchical clustering\", \"dbscan\",\n",
    "        \"dropout\", \"batch normalization\", \"activation function\",\"machine learning\"\n",
    "        \"softmax\", \"ensemble\", \"stacking\", \"bagging\", \"algorithm\", \"design science\",\"deep neural network\",\"dnn\",\"graph neural network\",\"gnn\",\"contrastive learning\",\"self-supervised learning\"\n",
    "    ]\n",
    "\n",
    "    # ── Type II: Understanding Phenomena using ML ──\n",
    "    type2_terms = [\n",
    "        \"linear regression\", \"logistic regression\", \"ridge regression\", \"lasso\",\n",
    "        \"tobit\", \"poisson regression\", \"negative binomial\", \"multinomial logistic regression\",\n",
    "        \"difference-in-differences\", \"did\", \"propensity score\", \"propensity score matching\",\n",
    "        \"instrumental variable\", \"treatment effect\", \"causal inference\",\n",
    "        \"selection model\", \"heckman\", \"panel data\", \"panel var\",\n",
    "        \"fixed effects\", \"random effects\", \"cointegration\", \"error correction model\",\n",
    "        \"structural equation\", \"path analysis\", \"time series\", \"arima\", \"gmm\",\n",
    "        \"survival analysis\", \"cox\", \"aic\", \"bic\", \"regression discontinuity\",\"survey\", \"questionnaire\", \"case study\",\"focus group\", \"grounded theory\",\"ethnography\",\n",
    "        \"content analysis\", \"thematic analysis\"\n",
    "    ]\n",
    "\n",
    "    # ── Type III: ML in Complex Systems ──\n",
    "    complex_terms = [\n",
    "        \"agent-based modeling\", \"agent-based simulation\", \"system dynamics\",\n",
    "        \"monte carlo simulation\", \"cellular automata\", \"discrete event simulation\",\n",
    "        \"scenario analysis\", \"network theory\", \"network analysis\", \"game theory\",\n",
    "        \"markov decision process\", \"feedback loop\", \"emergent behavior\",\n",
    "        \"complex systems\", \"multi-agent system\", \"stochastic simulation\", \"abm\",\n",
    "        \"chaos theory\", \"fractal\", \"fuzzy logic\", \"petri net\", \"swarm intelligence\",\n",
    "        \"cybernetics\", \"system identification\",     \"multi-scale modeling\",\n",
    "        \"complex adaptive system\",\"differential equations\",\"network simulation\",\n",
    "        \"network evolution\",\"dynamic systems modeling\",\"chaos modeling\",\"genetic algorithm\",\"evolutionary algorithm\",\"particle swarm optimization\",\"pso\",\n",
    "        \"simulated annealing\",\"ant colony optimization\",\"control theory\",\"feedback control\",\"complex network analysis\",\"community detection\",\"percolation theory\",\"small-world network\",\"scale-free network\",\n",
    "    ]\n",
    "\n",
    "    # ── (추가) 모든 키워드 리스트를 합쳐서 matched_keywords 생성\n",
    "    all_terms = ml_terms + type2_terms + complex_terms\n",
    "    def find_matched_keywords(txt: str) -> list:\n",
    "        text = str(txt).lower()\n",
    "        return [kw for kw in all_terms if kw in text]\n",
    "\n",
    "    df_t['matched_keywords'] = df_t[methods_col].apply(find_matched_keywords)\n",
    "\n",
    "    # ── 분류 함수: 각 리스트 등장 횟수 합산 후 최댓값 타입 반환, 모두 0이면 Type IV\n",
    "    def classify_by_count(txt: str) -> int:\n",
    "        text = str(txt).lower()\n",
    "        counts = {\n",
    "            1: sum(text.count(kw) for kw in ml_terms),\n",
    "            2: sum(text.count(kw) for kw in type2_terms),\n",
    "            3: sum(text.count(kw) for kw in complex_terms)\n",
    "        }\n",
    "        top_type, top_count = max(counts.items(), key=lambda x: x[1])\n",
    "        return top_type if top_count > 0 else 4\n",
    "\n",
    "    df_t['method_type'] = df_t[methods_col].apply(classify_by_count)\n",
    "\n",
    "    # 결과 집계 출력\n",
    "    counts = df_t['method_type'].value_counts().sort_index()\n",
    "    print(f\"▶️ Topic {target_topic} Method Type 분포 (Type I–IV):\")\n",
    "    for t, cnt in counts.items():\n",
    "        print(f\"   Type {t}: {cnt}개\")\n",
    "\n",
    "    # 파일로 저장 (matched_keywords 포함)\n",
    "    out_path = f\"{output_dir}/topic_{target_topic}_count_classified_I_IV_with_keywords.csv\"\n",
    "    df_t.to_csv(out_path, index=False)\n",
    "    print(f\"✔︎ Saved classified data (with keywords) to {out_path}\")\n",
    "\n",
    "    return counts"
   ],
   "id": "89d09d1f522ab382",
   "outputs": [],
   "execution_count": 1
  },
  {
   "metadata": {
    "ExecuteTime": {
     "end_time": "2025-08-02T14:08:45.865128Z",
     "start_time": "2025-08-02T14:08:45.350551Z"
    }
   },
   "cell_type": "code",
   "source": [
    "# ── 사용 예시 ──\n",
    "preprocessed = 'data/03_journal_2023_2025_with_methods_preprocessed.csv'\n",
    "\n",
    "# 토픽 2 count 기반 분류 및 저장\n",
    "counts2 = classify_and_save_topic_methods_by_count(preprocessed, target_topic=2, output_dir='data/topic')\n",
    "\n",
    "# 토픽 12\n",
    "counts12 = classify_and_save_topic_methods_by_count(preprocessed, target_topic=12, output_dir='data/topic')\n",
    "\n",
    "counts3 = classify_and_save_topic_methods_by_count(preprocessed, target_topic=3, output_dir='data/topic')\n",
    "\n",
    "counts5 = classify_and_save_topic_methods_by_count(preprocessed, target_topic=5, output_dir='data/topic')"
   ],
   "id": "62794253176fe5c3",
   "outputs": [
    {
     "name": "stdout",
     "output_type": "stream",
     "text": [
      "▶️ Topic 2 Method Type 분포 (Type I–IV):\n",
      "   Type 1: 56개\n",
      "   Type 2: 176개\n",
      "   Type 3: 5개\n",
      "   Type 4: 127개\n",
      "✔︎ Saved classified data (with keywords) to data/topic/topic_2_count_classified_I_IV_with_keywords.csv\n",
      "▶️ Topic 12 Method Type 분포 (Type I–IV):\n",
      "   Type 1: 6개\n",
      "   Type 2: 11개\n",
      "   Type 4: 14개\n",
      "✔︎ Saved classified data (with keywords) to data/topic/topic_12_count_classified_I_IV_with_keywords.csv\n",
      "▶️ Topic 3 Method Type 분포 (Type I–IV):\n",
      "   Type 1: 112개\n",
      "   Type 2: 108개\n",
      "   Type 3: 6개\n",
      "   Type 4: 140개\n",
      "✔︎ Saved classified data (with keywords) to data/topic/topic_3_count_classified_I_IV_with_keywords.csv\n",
      "▶️ Topic 5 Method Type 분포 (Type I–IV):\n",
      "   Type 1: 25개\n",
      "   Type 2: 41개\n",
      "   Type 4: 24개\n",
      "✔︎ Saved classified data (with keywords) to data/topic/topic_5_count_classified_I_IV_with_keywords.csv\n"
     ]
    }
   ],
   "execution_count": 2
  },
  {
   "metadata": {},
   "cell_type": "markdown",
   "source": "# 6. 키워드(내용) 확인",
   "id": "36f6ce83270de74a"
  },
  {
   "metadata": {
    "ExecuteTime": {
     "end_time": "2025-08-04T12:08:24.755846Z",
     "start_time": "2025-08-04T12:08:24.709816Z"
    }
   },
   "cell_type": "code",
   "source": [
    "from sklearn.feature_extraction.text import TfidfVectorizer\n",
    "import numpy as np\n",
    "import pandas as pd\n",
    "\n",
    "def suggest_ngrams_by_topic_from_title_abstract(\n",
    "    df: pd.DataFrame,\n",
    "    topic_num: int,\n",
    "    topic_col: str = 'dominant_topic_excl',\n",
    "    title_col: str = 'title',\n",
    "    abstract_col: str = 'content',\n",
    "    ngram_range: tuple = (3, 5),\n",
    "    max_df: float = 0.8,\n",
    "    min_df: int = 2,\n",
    "    stop_words: str = 'english',\n",
    "    max_features: int = 5000,\n",
    "    top_n: int = 20\n",
    "):\n",
    "    \"\"\"\n",
    "    title + abstract 기반으로 특정 토픽(topic_num)에 해당하는 문서에서\n",
    "    TF-IDF 기반 상위 n-gram 키워드를 추출합니다.\n",
    "\n",
    "    Returns\n",
    "    -------\n",
    "    list[str]\n",
    "        상위 n개의 n-gram 키워드 리스트\n",
    "    \"\"\"\n",
    "    # 1) 특정 토픽 필터링\n",
    "    df_sub = df[df[topic_col] == topic_num].copy()\n",
    "\n",
    "    # 2) title과 abstract 결합\n",
    "    df_sub['combined_text'] = (\n",
    "        df_sub[title_col].fillna('') + ' ' + df_sub[abstract_col].fillna('')\n",
    "    )\n",
    "\n",
    "    corpus = df_sub['combined_text'].astype(str).tolist()\n",
    "    if not corpus:\n",
    "        return []\n",
    "\n",
    "    # 3) TF-IDF 계산\n",
    "    vectorizer = TfidfVectorizer(\n",
    "        ngram_range=ngram_range,\n",
    "        max_df=max_df,\n",
    "        min_df=min_df,\n",
    "        stop_words=stop_words,\n",
    "        max_features=max_features\n",
    "    )\n",
    "    X = vectorizer.fit_transform(corpus)\n",
    "\n",
    "    # 4) 평균 TF-IDF 점수 계산\n",
    "    mean_tfidf = np.asarray(X.mean(axis=0)).ravel()\n",
    "    features = vectorizer.get_feature_names_out()\n",
    "\n",
    "    # 5) 상위 n개의 키워드 반환\n",
    "    top_idx = mean_tfidf.argsort()[::-1][:top_n]\n",
    "    return [features[i] for i in top_idx]"
   ],
   "id": "57b3d0591cae0d64",
   "outputs": [],
   "execution_count": 35
  },
  {
   "metadata": {
    "ExecuteTime": {
     "end_time": "2025-08-04T12:10:12.170632Z",
     "start_time": "2025-08-04T12:10:11.355926Z"
    }
   },
   "cell_type": "code",
   "source": [
    "df = pd.read_csv(\"data/05_article_merged_with_topic.csv\")\n",
    "top_ngrams = suggest_ngrams_by_topic_from_title_abstract(df, topic_num=5, top_n=80)\n",
    "print(top_ngrams)"
   ],
   "id": "fe4a1236df32d566",
   "outputs": [
    {
     "name": "stdout",
     "output_type": "stream",
     "text": [
      "['neural processing unit', 'cores low power', 'intel arc graphics', 'core ultra 200v', 'core ultra 200h', 'core ultra processor', 'core ultra 200u core', 'ultra 200u core', 'core ultra 200u', 'core ultra 200s', 'planting software components', 'year started selling', 'precision planting software components', 'precision planting software', 'core ultra 200v hx', '200s core ultra 200u', '200s core ultra 200u core', '200u core ultra', '200v hx chips', 'intel new core ultra', 'intel new core', 'core ultra 200v hx chips', 'new core ultra', 'ultra 200v hx', 'ultra 200v hx chips', 'core ultra 200u core ultra', 'ultra 200s core ultra', 'ultra 200u core ultra', 'core ultra 200s core ultra', 'core ultra 200s core', '200s core ultra', 'low power cores', 'ultra 200s core', 'ultra 200s core ultra 200u', 'deere year started selling', 'deere year started', 'ground upgrade cost 175', 'ground upgrade cost 175 000', 'hartsock vice president performance upgrades', 'harvesting combines crop', 'harvesting combines crop sprayer', 'harvesting combines crop sprayer said', 'herbicide applied weeds', 'herbicide applied weeds ground', 'herbicide applied weeds ground upgrade', 'herbicide previous years', 'herbicide previous years chemical', 'herbicide previous years chemical prices', 'hesitant plunge deeply', 'hesitant plunge deeply automation', 'hesitant plunge deeply automation artificial', 'holland equipment fortifying', 'holland equipment fortifying precision', 'holland equipment fortifying precision farming', 'ih new holland', 'ih new holland equipment', 'ih new holland equipment fortifying', 'hartsock vice president performance', 'hartsock vice president', 'improve older models', 'guided steering putting', 'grows wheat canola', 'grows wheat canola lentils', 'guidance systems crop', 'guidance systems crop spraying', 'guidance systems crop spraying gear', 'guidance systems monitoring', 'guidance systems monitoring software', 'guidance systems monitoring software display', 'guided steering putting cutting', 'hartsock said cameras aren', 'guided steering putting cutting edge', 'half new sprayer', 'half new sprayer factory', 'half new sprayer factory installed', 'hansotia chief executive', 'hansotia chief executive agco', 'hansotia chief executive agco maker', 'hartsock said cameras', 'hartsock said cameras aren precise']\n"
     ]
    }
   ],
   "execution_count": 37
  },
  {
   "metadata": {
    "ExecuteTime": {
     "end_time": "2025-08-04T11:46:07.232521Z",
     "start_time": "2025-08-04T11:46:05.312826Z"
    }
   },
   "cell_type": "code",
   "source": [
    "import pandas as pd\n",
    "\n",
    "# 1. 데이터 로드\n",
    "df = pd.read_csv('data/05_article_merged_with_topic.csv')  # 파일 경로에 맞게 수정\n",
    "\n",
    "# 2. 소문자 통일 및 전처리 (선택적)\n",
    "df['title'] = df['title'].astype(str).str.lower()  # 또는 'content' 컬럼 사용\n",
    "df['content']=df['content'].astype(str).str.lower()\n",
    "\n",
    "# 3. 'AI Act' 포함 및 dominant_topic == 1 조건 필터링\n",
    "filtered_df = df[\n",
    "    (df['dominant_topic_excl'] == 13) &\n",
    "    (df['content'].str.contains('ambiant', case=False, na=False))\n",
    "]\n",
    "\n",
    "# 4. 결과 확인\n",
    "print(filtered_df[['title', 'content','affiliations']].head(20))  # 또는 저장\n",
    "# filtered_df.to_csv('ai_act_topic1.csv', index=False)"
   ],
   "id": "69ec04c8ff1cf2bd",
   "outputs": [
    {
     "name": "stdout",
     "output_type": "stream",
     "text": [
      "Empty DataFrame\n",
      "Columns: [title, content, affiliations]\n",
      "Index: []\n"
     ]
    }
   ],
   "execution_count": 34
  },
  {
   "metadata": {
    "ExecuteTime": {
     "end_time": "2025-08-04T11:43:07.073367Z",
     "start_time": "2025-08-04T11:43:07.058093Z"
    }
   },
   "cell_type": "code",
   "source": "filtered_df",
   "id": "a9e26b48275796dd",
   "outputs": [
    {
     "data": {
      "text/plain": [
       "                                                   title  \\\n",
       "116    apple unveils plans to bring ai to iphone --- ...   \n",
       "226                bad year for cook keeps getting worse   \n",
       "2443   ‘hold on to your seats’: how much will ai affe...   \n",
       "2543   how apple plans to usher in ‘new privacy stand...   \n",
       "4423   samsung details ‘galaxy ai’ and a feature that...   \n",
       "5631   samsung’s s24 and s24 plus put new ai smarts i...   \n",
       "5701   the future of phones depends on the future of ...   \n",
       "5796   apple’s ai ambitions could include google or o...   \n",
       "5864   apple’s new ai model hints at how ai could com...   \n",
       "6124   apple’s new accessibility features let you con...   \n",
       "6426         apple confirms the iphone 16 has 8gb of ram   \n",
       "7415                     apple gives siri an ai makeover   \n",
       "7562   apple highlights ai features, including m4 neu...   \n",
       "7882   apple says it’ll show its genai efforts ‘later...   \n",
       "8515   apple’s $599 iphone 16e adds ai, launches febr...   \n",
       "9701   apple’s $599 iphone 16e adds ai, launches febr...   \n",
       "9982   apple debuted ai on the iphone today. here’s w...   \n",
       "10447     apple's new augmented reality headset unveiled   \n",
       "\n",
       "                                                 content    date  \\\n",
       "116    apple joined the artificial intelligence arms ...  2024.0   \n",
       "226    for tim cook, the hits keep coming.\\non friday...  2025.0   \n",
       "2443   last year, rachel antell, an archival producer...  2024.0   \n",
       "2543   at its annual developers conference on monday,...  2024.0   \n",
       "4423   samsung wants to make sure you know it cares a...  2023.0   \n",
       "5631   samsung’s galaxy s24 and s24 plus don’t have t...  2024.0   \n",
       "5701   without looking up any leaks or rumors, i’d be...  2024.0   \n",
       "5796   apple is reportedly in “active negotiations” w...  2024.0   \n",
       "5864   apple has been quiet about its plans for gener...  2024.0   \n",
       "6124   applejust announceda slew of new accessibility...  2024.0   \n",
       "6426   the iphone 16 lineup has 8gb of ram, from the ...  2024.0   \n",
       "7415   siri got a makeover atapple’s wwdc 2024 in cup...  2024.0   \n",
       "7562   apple isn’t yet ready to unveil its broader ai...  2024.0   \n",
       "7882   apple has tossed another crumb to investors wo...  2024.0   \n",
       "8515   asanticipated, apple revealed the long-awaited...  2025.0   \n",
       "9701   asanticipated, apple revealed the long-awaited...  2025.0   \n",
       "9982   apple intelligencelaunched on monday, but the ...  2024.0   \n",
       "10447  apple has unveiled a much-anticipated augmente...  2023.0   \n",
       "\n",
       "              affiliations                                           keywords  \\\n",
       "116    Wall Street Journal                                                NaN   \n",
       "226    Wall Street Journal                                                NaN   \n",
       "2443          the guardian                                                NaN   \n",
       "2543          the guardian                                                NaN   \n",
       "4423                 verge                            AI, News, Samsung, Tech   \n",
       "5631                 verge                        Mobile, News, Samsung, Tech   \n",
       "5701                 verge  Xiaomi is giving the currently China-exclusive...   \n",
       "5796                 verge                      AI, Apple, iPhone, News, Tech   \n",
       "5864                 verge                              AI, Apple, News, Tech   \n",
       "6124                 verge          Apple, Creators, iPad, iPhone, News, Tech   \n",
       "6426                 verge                      AI, Apple, iPhone, News, Tech   \n",
       "7415            techcrunch         AI,Apple,Apple Intelligence,siri,WWDC 2024   \n",
       "7562            techcrunch    AI,Apple,apple ipad event,apple ipad event 2024   \n",
       "7882            techcrunch   AI,apple genai,apple generative ai,United States   \n",
       "8515            techcrunch  AI,Apple,Apple Intelligence,Hardware,iPhone,iP...   \n",
       "9701            Techcrunch  AI,Apple,Apple Intelligence,Hardware,iPhone,iP...   \n",
       "9982                   CNN                                                NaN   \n",
       "10447                  BBC                                                NaN   \n",
       "\n",
       "       dominant_topic_excl  \n",
       "116                     13  \n",
       "226                     13  \n",
       "2443                    13  \n",
       "2543                    13  \n",
       "4423                    13  \n",
       "5631                    13  \n",
       "5701                    13  \n",
       "5796                    13  \n",
       "5864                    13  \n",
       "6124                    13  \n",
       "6426                    13  \n",
       "7415                    13  \n",
       "7562                    13  \n",
       "7882                    13  \n",
       "8515                    13  \n",
       "9701                    13  \n",
       "9982                    13  \n",
       "10447                   13  "
      ],
      "text/html": [
       "<div>\n",
       "<style scoped>\n",
       "    .dataframe tbody tr th:only-of-type {\n",
       "        vertical-align: middle;\n",
       "    }\n",
       "\n",
       "    .dataframe tbody tr th {\n",
       "        vertical-align: top;\n",
       "    }\n",
       "\n",
       "    .dataframe thead th {\n",
       "        text-align: right;\n",
       "    }\n",
       "</style>\n",
       "<table border=\"1\" class=\"dataframe\">\n",
       "  <thead>\n",
       "    <tr style=\"text-align: right;\">\n",
       "      <th></th>\n",
       "      <th>title</th>\n",
       "      <th>content</th>\n",
       "      <th>date</th>\n",
       "      <th>affiliations</th>\n",
       "      <th>keywords</th>\n",
       "      <th>dominant_topic_excl</th>\n",
       "    </tr>\n",
       "  </thead>\n",
       "  <tbody>\n",
       "    <tr>\n",
       "      <th>116</th>\n",
       "      <td>apple unveils plans to bring ai to iphone --- ...</td>\n",
       "      <td>apple joined the artificial intelligence arms ...</td>\n",
       "      <td>2024.0</td>\n",
       "      <td>Wall Street Journal</td>\n",
       "      <td>NaN</td>\n",
       "      <td>13</td>\n",
       "    </tr>\n",
       "    <tr>\n",
       "      <th>226</th>\n",
       "      <td>bad year for cook keeps getting worse</td>\n",
       "      <td>for tim cook, the hits keep coming.\\non friday...</td>\n",
       "      <td>2025.0</td>\n",
       "      <td>Wall Street Journal</td>\n",
       "      <td>NaN</td>\n",
       "      <td>13</td>\n",
       "    </tr>\n",
       "    <tr>\n",
       "      <th>2443</th>\n",
       "      <td>‘hold on to your seats’: how much will ai affe...</td>\n",
       "      <td>last year, rachel antell, an archival producer...</td>\n",
       "      <td>2024.0</td>\n",
       "      <td>the guardian</td>\n",
       "      <td>NaN</td>\n",
       "      <td>13</td>\n",
       "    </tr>\n",
       "    <tr>\n",
       "      <th>2543</th>\n",
       "      <td>how apple plans to usher in ‘new privacy stand...</td>\n",
       "      <td>at its annual developers conference on monday,...</td>\n",
       "      <td>2024.0</td>\n",
       "      <td>the guardian</td>\n",
       "      <td>NaN</td>\n",
       "      <td>13</td>\n",
       "    </tr>\n",
       "    <tr>\n",
       "      <th>4423</th>\n",
       "      <td>samsung details ‘galaxy ai’ and a feature that...</td>\n",
       "      <td>samsung wants to make sure you know it cares a...</td>\n",
       "      <td>2023.0</td>\n",
       "      <td>verge</td>\n",
       "      <td>AI, News, Samsung, Tech</td>\n",
       "      <td>13</td>\n",
       "    </tr>\n",
       "    <tr>\n",
       "      <th>5631</th>\n",
       "      <td>samsung’s s24 and s24 plus put new ai smarts i...</td>\n",
       "      <td>samsung’s galaxy s24 and s24 plus don’t have t...</td>\n",
       "      <td>2024.0</td>\n",
       "      <td>verge</td>\n",
       "      <td>Mobile, News, Samsung, Tech</td>\n",
       "      <td>13</td>\n",
       "    </tr>\n",
       "    <tr>\n",
       "      <th>5701</th>\n",
       "      <td>the future of phones depends on the future of ...</td>\n",
       "      <td>without looking up any leaks or rumors, i’d be...</td>\n",
       "      <td>2024.0</td>\n",
       "      <td>verge</td>\n",
       "      <td>Xiaomi is giving the currently China-exclusive...</td>\n",
       "      <td>13</td>\n",
       "    </tr>\n",
       "    <tr>\n",
       "      <th>5796</th>\n",
       "      <td>apple’s ai ambitions could include google or o...</td>\n",
       "      <td>apple is reportedly in “active negotiations” w...</td>\n",
       "      <td>2024.0</td>\n",
       "      <td>verge</td>\n",
       "      <td>AI, Apple, iPhone, News, Tech</td>\n",
       "      <td>13</td>\n",
       "    </tr>\n",
       "    <tr>\n",
       "      <th>5864</th>\n",
       "      <td>apple’s new ai model hints at how ai could com...</td>\n",
       "      <td>apple has been quiet about its plans for gener...</td>\n",
       "      <td>2024.0</td>\n",
       "      <td>verge</td>\n",
       "      <td>AI, Apple, News, Tech</td>\n",
       "      <td>13</td>\n",
       "    </tr>\n",
       "    <tr>\n",
       "      <th>6124</th>\n",
       "      <td>apple’s new accessibility features let you con...</td>\n",
       "      <td>applejust announceda slew of new accessibility...</td>\n",
       "      <td>2024.0</td>\n",
       "      <td>verge</td>\n",
       "      <td>Apple, Creators, iPad, iPhone, News, Tech</td>\n",
       "      <td>13</td>\n",
       "    </tr>\n",
       "    <tr>\n",
       "      <th>6426</th>\n",
       "      <td>apple confirms the iphone 16 has 8gb of ram</td>\n",
       "      <td>the iphone 16 lineup has 8gb of ram, from the ...</td>\n",
       "      <td>2024.0</td>\n",
       "      <td>verge</td>\n",
       "      <td>AI, Apple, iPhone, News, Tech</td>\n",
       "      <td>13</td>\n",
       "    </tr>\n",
       "    <tr>\n",
       "      <th>7415</th>\n",
       "      <td>apple gives siri an ai makeover</td>\n",
       "      <td>siri got a makeover atapple’s wwdc 2024 in cup...</td>\n",
       "      <td>2024.0</td>\n",
       "      <td>techcrunch</td>\n",
       "      <td>AI,Apple,Apple Intelligence,siri,WWDC 2024</td>\n",
       "      <td>13</td>\n",
       "    </tr>\n",
       "    <tr>\n",
       "      <th>7562</th>\n",
       "      <td>apple highlights ai features, including m4 neu...</td>\n",
       "      <td>apple isn’t yet ready to unveil its broader ai...</td>\n",
       "      <td>2024.0</td>\n",
       "      <td>techcrunch</td>\n",
       "      <td>AI,Apple,apple ipad event,apple ipad event 2024</td>\n",
       "      <td>13</td>\n",
       "    </tr>\n",
       "    <tr>\n",
       "      <th>7882</th>\n",
       "      <td>apple says it’ll show its genai efforts ‘later...</td>\n",
       "      <td>apple has tossed another crumb to investors wo...</td>\n",
       "      <td>2024.0</td>\n",
       "      <td>techcrunch</td>\n",
       "      <td>AI,apple genai,apple generative ai,United States</td>\n",
       "      <td>13</td>\n",
       "    </tr>\n",
       "    <tr>\n",
       "      <th>8515</th>\n",
       "      <td>apple’s $599 iphone 16e adds ai, launches febr...</td>\n",
       "      <td>asanticipated, apple revealed the long-awaited...</td>\n",
       "      <td>2025.0</td>\n",
       "      <td>techcrunch</td>\n",
       "      <td>AI,Apple,Apple Intelligence,Hardware,iPhone,iP...</td>\n",
       "      <td>13</td>\n",
       "    </tr>\n",
       "    <tr>\n",
       "      <th>9701</th>\n",
       "      <td>apple’s $599 iphone 16e adds ai, launches febr...</td>\n",
       "      <td>asanticipated, apple revealed the long-awaited...</td>\n",
       "      <td>2025.0</td>\n",
       "      <td>Techcrunch</td>\n",
       "      <td>AI,Apple,Apple Intelligence,Hardware,iPhone,iP...</td>\n",
       "      <td>13</td>\n",
       "    </tr>\n",
       "    <tr>\n",
       "      <th>9982</th>\n",
       "      <td>apple debuted ai on the iphone today. here’s w...</td>\n",
       "      <td>apple intelligencelaunched on monday, but the ...</td>\n",
       "      <td>2024.0</td>\n",
       "      <td>CNN</td>\n",
       "      <td>NaN</td>\n",
       "      <td>13</td>\n",
       "    </tr>\n",
       "    <tr>\n",
       "      <th>10447</th>\n",
       "      <td>apple's new augmented reality headset unveiled</td>\n",
       "      <td>apple has unveiled a much-anticipated augmente...</td>\n",
       "      <td>2023.0</td>\n",
       "      <td>BBC</td>\n",
       "      <td>NaN</td>\n",
       "      <td>13</td>\n",
       "    </tr>\n",
       "  </tbody>\n",
       "</table>\n",
       "</div>"
      ]
     },
     "execution_count": 33,
     "metadata": {},
     "output_type": "execute_result"
    }
   ],
   "execution_count": 33
  },
  {
   "metadata": {
    "ExecuteTime": {
     "end_time": "2025-08-04T12:20:43.428180Z",
     "start_time": "2025-08-04T12:20:42.905957Z"
    }
   },
   "cell_type": "code",
   "source": "df.info()",
   "id": "f72de6ef8d54b9ad",
   "outputs": [
    {
     "name": "stdout",
     "output_type": "stream",
     "text": [
      "<class 'pandas.core.frame.DataFrame'>\n",
      "RangeIndex: 11672 entries, 0 to 11671\n",
      "Data columns (total 6 columns):\n",
      " #   Column               Non-Null Count  Dtype  \n",
      "---  ------               --------------  -----  \n",
      " 0   title                11672 non-null  object \n",
      " 1   content              11672 non-null  object \n",
      " 2   date                 11672 non-null  float64\n",
      " 3   affiliations         11672 non-null  object \n",
      " 4   keywords             6252 non-null   object \n",
      " 5   dominant_topic_excl  11672 non-null  int64  \n",
      "dtypes: float64(1), int64(1), object(4)\n",
      "memory usage: 547.3+ KB\n"
     ]
    }
   ],
   "execution_count": 38
  },
  {
   "metadata": {
    "ExecuteTime": {
     "end_time": "2025-08-04T12:21:48.313390Z",
     "start_time": "2025-08-04T12:21:48.270204Z"
    }
   },
   "cell_type": "code",
   "source": [
    "file=df[df['dominant_topic_excl']==13]\n",
    "file.info()"
   ],
   "id": "55123615fb990110",
   "outputs": [
    {
     "name": "stdout",
     "output_type": "stream",
     "text": [
      "<class 'pandas.core.frame.DataFrame'>\n",
      "Index: 790 entries, 24 to 11642\n",
      "Data columns (total 6 columns):\n",
      " #   Column               Non-Null Count  Dtype  \n",
      "---  ------               --------------  -----  \n",
      " 0   title                790 non-null    object \n",
      " 1   content              790 non-null    object \n",
      " 2   date                 790 non-null    float64\n",
      " 3   affiliations         790 non-null    object \n",
      " 4   keywords             469 non-null    object \n",
      " 5   dominant_topic_excl  790 non-null    int64  \n",
      "dtypes: float64(1), int64(1), object(4)\n",
      "memory usage: 43.2+ KB\n"
     ]
    }
   ],
   "execution_count": 41
  },
  {
   "metadata": {
    "ExecuteTime": {
     "end_time": "2025-08-04T12:22:36.849186Z",
     "start_time": "2025-08-04T12:22:35.889732Z"
    }
   },
   "cell_type": "code",
   "source": "file.to_excel('data/insight/industry_topic_13.xlsx', index=False)",
   "id": "b8a15fd228f63556",
   "outputs": [],
   "execution_count": 43
  },
  {
   "metadata": {},
   "cell_type": "code",
   "outputs": [],
   "execution_count": null,
   "source": "",
   "id": "b630b7054b8d33d4"
  }
 ],
 "metadata": {
  "kernelspec": {
   "display_name": "Python 3",
   "language": "python",
   "name": "python3"
  },
  "language_info": {
   "codemirror_mode": {
    "name": "ipython",
    "version": 2
   },
   "file_extension": ".py",
   "mimetype": "text/x-python",
   "name": "python",
   "nbconvert_exporter": "python",
   "pygments_lexer": "ipython2",
   "version": "2.7.6"
  }
 },
 "nbformat": 4,
 "nbformat_minor": 5
}
